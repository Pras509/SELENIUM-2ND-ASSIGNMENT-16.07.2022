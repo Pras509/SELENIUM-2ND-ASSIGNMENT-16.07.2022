{
 "cells": [
  {
   "cell_type": "code",
   "execution_count": 8,
   "id": "b7ad9081",
   "metadata": {},
   "outputs": [],
   "source": [
    "#QUESTION 1\n",
    "\n",
    "\n",
    "import selenium\n",
    "from selenium import webdriver\n",
    "import pandas as pd\n",
    "import warnings\n",
    "warnings.filterwarnings(\"ignore\")"
   ]
  },
  {
   "cell_type": "code",
   "execution_count": 9,
   "id": "6559cecc",
   "metadata": {},
   "outputs": [],
   "source": [
    "driver = webdriver.Chrome(r\"C:\\Users\\ANSH\\Downloads\\chromedriver.exe\")"
   ]
  },
  {
   "cell_type": "code",
   "execution_count": 10,
   "id": "90dfc215",
   "metadata": {},
   "outputs": [],
   "source": [
    "url = 'https://www.naukri.com/'\n",
    "driver.get(url)"
   ]
  },
  {
   "cell_type": "code",
   "execution_count": 11,
   "id": "dcce1530",
   "metadata": {},
   "outputs": [],
   "source": [
    "from selenium.webdriver.common.by import By\n",
    "from selenium.webdriver.common.keys import Keys"
   ]
  },
  {
   "cell_type": "code",
   "execution_count": 12,
   "id": "76976c81",
   "metadata": {},
   "outputs": [
    {
     "data": {
      "text/plain": [
       "<selenium.webdriver.remote.webelement.WebElement (session=\"3ba566ab0ef4a0db098c915c4536b552\", element=\"ee0c7ca7-31a1-4f98-9008-56884dd0d364\")>"
      ]
     },
     "execution_count": 12,
     "metadata": {},
     "output_type": "execute_result"
    }
   ],
   "source": [
    "search_job = driver.find_element(By.CLASS_NAME, \"suggestor-input\")\n",
    "search_job"
   ]
  },
  {
   "cell_type": "code",
   "execution_count": 13,
   "id": "607a3f25",
   "metadata": {},
   "outputs": [],
   "source": [
    "search_job.send_keys(\"Data Scientist\")"
   ]
  },
  {
   "cell_type": "code",
   "execution_count": 14,
   "id": "0b772115",
   "metadata": {},
   "outputs": [
    {
     "data": {
      "text/plain": [
       "<selenium.webdriver.remote.webelement.WebElement (session=\"3ba566ab0ef4a0db098c915c4536b552\", element=\"2d6ae181-22ab-4154-bb8b-4f52f50156d2\")>"
      ]
     },
     "execution_count": 14,
     "metadata": {},
     "output_type": "execute_result"
    }
   ],
   "source": [
    "search_locn = driver.find_element(By.XPATH, \"/html/body/div[1]/div[2]/div[3]/div/div/div[5]/div/div/div/input\")\n",
    "search_locn"
   ]
  },
  {
   "cell_type": "code",
   "execution_count": 15,
   "id": "099b216a",
   "metadata": {},
   "outputs": [],
   "source": [
    "search_locn.send_keys(\"Banglore\")"
   ]
  },
  {
   "cell_type": "code",
   "execution_count": 16,
   "id": "0c9a99ee",
   "metadata": {},
   "outputs": [
    {
     "data": {
      "text/plain": [
       "<selenium.webdriver.remote.webelement.WebElement (session=\"3ba566ab0ef4a0db098c915c4536b552\", element=\"fd1c81bf-3f32-4909-a86c-7fcd811fad94\")>"
      ]
     },
     "execution_count": 16,
     "metadata": {},
     "output_type": "execute_result"
    }
   ],
   "source": [
    "search_btn = driver.find_element(By.XPATH, \"/html/body/div[1]/div[2]/div[3]/div/div/div[6]\")\n",
    "search_btn                                 "
   ]
  },
  {
   "cell_type": "code",
   "execution_count": 17,
   "id": "5e5eb6a8",
   "metadata": {},
   "outputs": [],
   "source": [
    "search_btn.click()"
   ]
  },
  {
   "cell_type": "code",
   "execution_count": 18,
   "id": "58895be8",
   "metadata": {},
   "outputs": [
    {
     "data": {
      "text/plain": [
       "20"
      ]
     },
     "execution_count": 18,
     "metadata": {},
     "output_type": "execute_result"
    }
   ],
   "source": [
    "title_tags = driver.find_elements(By.XPATH, \"//a[@class = 'title fw500 ellipsis']\")\n",
    "len(title_tags)\n"
   ]
  },
  {
   "cell_type": "code",
   "execution_count": 19,
   "id": "29f5174a",
   "metadata": {},
   "outputs": [
    {
     "data": {
      "text/plain": [
       "['Data Scientist/ Senior Data Scientist',\n",
       " 'Urgent Job Opening For AI Practitioner - Data Science at Wipro Holmes',\n",
       " 'Dataiku Consultant',\n",
       " 'Data Scientist',\n",
       " 'Data & Analytics Tech - Informatica Cloud- Senior Associate',\n",
       " 'Data Scientist: Advanced Analytics',\n",
       " 'Research Scientist',\n",
       " 'Data Science - Senior Data Scientist - Analytics',\n",
       " 'Principal - Data Scientist',\n",
       " 'Research and Development -AI/ML -(PhD )',\n",
       " 'Opportunity For Data Scientist - Female Candidates ONLY',\n",
       " 'Senior Data Science Engineer',\n",
       " 'Data Science - Engineering Manager',\n",
       " 'Data Scientist',\n",
       " 'Data Scientist- Assistant Manager/Manager',\n",
       " 'EY GBS - Assistant Director - Data Science (10+ years), Bangalore',\n",
       " 'Data Scientist',\n",
       " 'Data Scientist, Personalization',\n",
       " 'AWS Sagemaker',\n",
       " 'Data Scientist']"
      ]
     },
     "execution_count": 19,
     "metadata": {},
     "output_type": "execute_result"
    }
   ],
   "source": [
    "whole_title = []\n",
    "for i in title_tags:\n",
    "    whole_title.append(i.text)\n",
    "whole_title"
   ]
  },
  {
   "cell_type": "code",
   "execution_count": 20,
   "id": "6b54123a",
   "metadata": {},
   "outputs": [
    {
     "data": {
      "text/plain": [
       "20"
      ]
     },
     "execution_count": 20,
     "metadata": {},
     "output_type": "execute_result"
    }
   ],
   "source": [
    "company_names = driver.find_elements(By.XPATH, \"//a[@class = 'subTitle ellipsis fleft']\")\n",
    "len(company_names)"
   ]
  },
  {
   "cell_type": "code",
   "execution_count": 21,
   "id": "1b34c8b1",
   "metadata": {},
   "outputs": [
    {
     "data": {
      "text/plain": [
       "20"
      ]
     },
     "execution_count": 21,
     "metadata": {},
     "output_type": "execute_result"
    }
   ],
   "source": [
    "company_name = []\n",
    "for c in company_names:\n",
    "    company_name.append(c.text)\n",
    "len(company_name)"
   ]
  },
  {
   "cell_type": "code",
   "execution_count": 22,
   "id": "66a1660f",
   "metadata": {},
   "outputs": [
    {
     "data": {
      "text/plain": [
       "['Fractal Analytics',\n",
       " 'Wipro',\n",
       " 'Wipro',\n",
       " 'Applied Materials',\n",
       " 'PwC',\n",
       " 'IBM',\n",
       " 'IBM',\n",
       " 'Paytm',\n",
       " 'Schneider Electric',\n",
       " 'EXL',\n",
       " 'PayU',\n",
       " 'Fractal Analytics',\n",
       " 'Paytm',\n",
       " 'UPL',\n",
       " 'Genpact',\n",
       " 'EYGBS',\n",
       " 'IBM',\n",
       " 'Walmart',\n",
       " 'Wipro',\n",
       " 'Wipro']"
      ]
     },
     "execution_count": 22,
     "metadata": {},
     "output_type": "execute_result"
    }
   ],
   "source": [
    "company_name"
   ]
  },
  {
   "cell_type": "code",
   "execution_count": 23,
   "id": "41bd5d39",
   "metadata": {},
   "outputs": [
    {
     "data": {
      "text/plain": [
       "20"
      ]
     },
     "execution_count": 23,
     "metadata": {},
     "output_type": "execute_result"
    }
   ],
   "source": [
    "experience_req = driver.find_elements(By.XPATH, \"//li[@class = 'fleft grey-text br2 placeHolderLi experience']\")\n",
    "len(experience_req)"
   ]
  },
  {
   "cell_type": "code",
   "execution_count": 24,
   "id": "762f95b8",
   "metadata": {},
   "outputs": [
    {
     "data": {
      "text/plain": [
       "20"
      ]
     },
     "execution_count": 24,
     "metadata": {},
     "output_type": "execute_result"
    }
   ],
   "source": [
    "experience = []\n",
    "\n",
    "for e in experience_req:\n",
    "    experience.append(e.text)\n",
    "len(experience)"
   ]
  },
  {
   "cell_type": "code",
   "execution_count": 25,
   "id": "555d137d",
   "metadata": {},
   "outputs": [
    {
     "data": {
      "text/plain": [
       "['3-8 Yrs',\n",
       " '11-21 Yrs',\n",
       " '10-16 Yrs',\n",
       " '4-7 Yrs',\n",
       " '6-10 Yrs',\n",
       " '2-7 Yrs',\n",
       " '3-7 Yrs',\n",
       " '3-5 Yrs',\n",
       " '7-10 Yrs',\n",
       " '4-8 Yrs',\n",
       " '1-3 Yrs',\n",
       " '5-9 Yrs',\n",
       " '9-13 Yrs',\n",
       " '1-4 Yrs',\n",
       " '4-8 Yrs',\n",
       " '10-17 Yrs',\n",
       " '5-10 Yrs',\n",
       " '3-6 Yrs',\n",
       " '7-12 Yrs',\n",
       " '9-14 Yrs']"
      ]
     },
     "execution_count": 25,
     "metadata": {},
     "output_type": "execute_result"
    }
   ],
   "source": [
    "experience"
   ]
  },
  {
   "cell_type": "code",
   "execution_count": 26,
   "id": "f21b5413",
   "metadata": {},
   "outputs": [
    {
     "data": {
      "text/plain": [
       "20"
      ]
     },
     "execution_count": 26,
     "metadata": {},
     "output_type": "execute_result"
    }
   ],
   "source": [
    "location = driver.find_elements(By.XPATH, \"//li[@class = 'fleft grey-text br2 placeHolderLi location']\") \n",
    "len(location)"
   ]
  },
  {
   "cell_type": "code",
   "execution_count": 27,
   "id": "c9b3f08f",
   "metadata": {},
   "outputs": [
    {
     "data": {
      "text/plain": [
       "['Pune, Gurgaon/Gurugram, Chennai, Bangalore/Bengaluru, Mumbai (All Areas)',\n",
       " 'Kochi/Cochin, New Delhi, Bangalore/Bengaluru, Coimbatore, Chennai, Pune, Mumbai, Hyderabad',\n",
       " 'Pune, Chennai, Bangalore/Bengaluru',\n",
       " 'Bangalore/Bengaluru',\n",
       " 'Bangalore/Bengaluru',\n",
       " 'Bangalore/Bengaluru',\n",
       " 'Bangalore/Bengaluru',\n",
       " 'Noida, Bangalore/Bengaluru',\n",
       " 'Bangalore/Bengaluru',\n",
       " 'Noida, Hyderabad/Secunderabad, Pune, Gurgaon/Gurugram, Chennai, Bangalore/Bengaluru, Delhi / NCR',\n",
       " 'Gurgaon/Gurugram, Bangalore/Bengaluru, Mumbai (All Areas)',\n",
       " 'Gurgaon/Gurugram, Bangalore/Bengaluru, Mumbai (All Areas)',\n",
       " 'Noida, Mumbai, Bangalore/Bengaluru',\n",
       " 'Bangalore/Bengaluru, Mumbai (All Areas)',\n",
       " 'Bangalore/Bengaluru',\n",
       " 'Bangalore/Bengaluru',\n",
       " 'Bangalore/Bengaluru',\n",
       " 'Bangalore/Bengaluru',\n",
       " 'Bangalore/Bengaluru\\n(WFH during Covid)',\n",
       " 'Bangalore/Bengaluru\\n(WFH during Covid)']"
      ]
     },
     "execution_count": 27,
     "metadata": {},
     "output_type": "execute_result"
    }
   ],
   "source": [
    "locations = []\n",
    "for l in location:\n",
    "    locations.append(l.text)\n",
    "locations"
   ]
  },
  {
   "cell_type": "code",
   "execution_count": 29,
   "id": "19b3c04b",
   "metadata": {},
   "outputs": [],
   "source": [
    "jobs = pd.DataFrame({'JOB TITLE':whole_title, 'COMPANY NAME': company_name, 'LOCATION':locations, 'EXPERIENCE':experience})"
   ]
  },
  {
   "cell_type": "code",
   "execution_count": 30,
   "id": "3c16c33d",
   "metadata": {},
   "outputs": [],
   "source": [
    "top10_jobs = jobs.head(10)"
   ]
  },
  {
   "cell_type": "code",
   "execution_count": 34,
   "id": "d4278a25",
   "metadata": {},
   "outputs": [
    {
     "data": {
      "text/html": [
       "<div>\n",
       "<style scoped>\n",
       "    .dataframe tbody tr th:only-of-type {\n",
       "        vertical-align: middle;\n",
       "    }\n",
       "\n",
       "    .dataframe tbody tr th {\n",
       "        vertical-align: top;\n",
       "    }\n",
       "\n",
       "    .dataframe thead th {\n",
       "        text-align: right;\n",
       "    }\n",
       "</style>\n",
       "<table border=\"1\" class=\"dataframe\">\n",
       "  <thead>\n",
       "    <tr style=\"text-align: right;\">\n",
       "      <th></th>\n",
       "      <th>JOB TITLE</th>\n",
       "      <th>COMPANY NAME</th>\n",
       "      <th>LOCATION</th>\n",
       "      <th>EXPERIENCE</th>\n",
       "    </tr>\n",
       "  </thead>\n",
       "  <tbody>\n",
       "    <tr>\n",
       "      <th>0</th>\n",
       "      <td>Data Scientist/ Senior Data Scientist</td>\n",
       "      <td>Fractal Analytics</td>\n",
       "      <td>Pune, Gurgaon/Gurugram, Chennai, Bangalore/Ben...</td>\n",
       "      <td>3-8 Yrs</td>\n",
       "    </tr>\n",
       "    <tr>\n",
       "      <th>1</th>\n",
       "      <td>Urgent Job Opening For AI Practitioner - Data ...</td>\n",
       "      <td>Wipro</td>\n",
       "      <td>Kochi/Cochin, New Delhi, Bangalore/Bengaluru, ...</td>\n",
       "      <td>11-21 Yrs</td>\n",
       "    </tr>\n",
       "    <tr>\n",
       "      <th>2</th>\n",
       "      <td>Dataiku Consultant</td>\n",
       "      <td>Wipro</td>\n",
       "      <td>Pune, Chennai, Bangalore/Bengaluru</td>\n",
       "      <td>10-16 Yrs</td>\n",
       "    </tr>\n",
       "    <tr>\n",
       "      <th>3</th>\n",
       "      <td>Data Scientist</td>\n",
       "      <td>Applied Materials</td>\n",
       "      <td>Bangalore/Bengaluru</td>\n",
       "      <td>4-7 Yrs</td>\n",
       "    </tr>\n",
       "    <tr>\n",
       "      <th>4</th>\n",
       "      <td>Data &amp; Analytics Tech - Informatica Cloud- Sen...</td>\n",
       "      <td>PwC</td>\n",
       "      <td>Bangalore/Bengaluru</td>\n",
       "      <td>6-10 Yrs</td>\n",
       "    </tr>\n",
       "    <tr>\n",
       "      <th>5</th>\n",
       "      <td>Data Scientist: Advanced Analytics</td>\n",
       "      <td>IBM</td>\n",
       "      <td>Bangalore/Bengaluru</td>\n",
       "      <td>2-7 Yrs</td>\n",
       "    </tr>\n",
       "    <tr>\n",
       "      <th>6</th>\n",
       "      <td>Research Scientist</td>\n",
       "      <td>IBM</td>\n",
       "      <td>Bangalore/Bengaluru</td>\n",
       "      <td>3-7 Yrs</td>\n",
       "    </tr>\n",
       "    <tr>\n",
       "      <th>7</th>\n",
       "      <td>Data Science - Senior Data Scientist - Analytics</td>\n",
       "      <td>Paytm</td>\n",
       "      <td>Noida, Bangalore/Bengaluru</td>\n",
       "      <td>3-5 Yrs</td>\n",
       "    </tr>\n",
       "    <tr>\n",
       "      <th>8</th>\n",
       "      <td>Principal - Data Scientist</td>\n",
       "      <td>Schneider Electric</td>\n",
       "      <td>Bangalore/Bengaluru</td>\n",
       "      <td>7-10 Yrs</td>\n",
       "    </tr>\n",
       "    <tr>\n",
       "      <th>9</th>\n",
       "      <td>Research and Development -AI/ML -(PhD )</td>\n",
       "      <td>EXL</td>\n",
       "      <td>Noida, Hyderabad/Secunderabad, Pune, Gurgaon/G...</td>\n",
       "      <td>4-8 Yrs</td>\n",
       "    </tr>\n",
       "  </tbody>\n",
       "</table>\n",
       "</div>"
      ],
      "text/plain": [
       "                                           JOB TITLE        COMPANY NAME  \\\n",
       "0              Data Scientist/ Senior Data Scientist   Fractal Analytics   \n",
       "1  Urgent Job Opening For AI Practitioner - Data ...               Wipro   \n",
       "2                                 Dataiku Consultant               Wipro   \n",
       "3                                     Data Scientist   Applied Materials   \n",
       "4  Data & Analytics Tech - Informatica Cloud- Sen...                 PwC   \n",
       "5                 Data Scientist: Advanced Analytics                 IBM   \n",
       "6                                 Research Scientist                 IBM   \n",
       "7   Data Science - Senior Data Scientist - Analytics               Paytm   \n",
       "8                         Principal - Data Scientist  Schneider Electric   \n",
       "9            Research and Development -AI/ML -(PhD )                 EXL   \n",
       "\n",
       "                                            LOCATION EXPERIENCE  \n",
       "0  Pune, Gurgaon/Gurugram, Chennai, Bangalore/Ben...    3-8 Yrs  \n",
       "1  Kochi/Cochin, New Delhi, Bangalore/Bengaluru, ...  11-21 Yrs  \n",
       "2                 Pune, Chennai, Bangalore/Bengaluru  10-16 Yrs  \n",
       "3                                Bangalore/Bengaluru    4-7 Yrs  \n",
       "4                                Bangalore/Bengaluru   6-10 Yrs  \n",
       "5                                Bangalore/Bengaluru    2-7 Yrs  \n",
       "6                                Bangalore/Bengaluru    3-7 Yrs  \n",
       "7                         Noida, Bangalore/Bengaluru    3-5 Yrs  \n",
       "8                                Bangalore/Bengaluru   7-10 Yrs  \n",
       "9  Noida, Hyderabad/Secunderabad, Pune, Gurgaon/G...    4-8 Yrs  "
      ]
     },
     "execution_count": 34,
     "metadata": {},
     "output_type": "execute_result"
    }
   ],
   "source": [
    "top10_jobs"
   ]
  },
  {
   "cell_type": "code",
   "execution_count": 44,
   "id": "36df0474",
   "metadata": {},
   "outputs": [],
   "source": [
    "\n",
    "\n"
   ]
  },
  {
   "cell_type": "code",
   "execution_count": null,
   "id": "6a068497",
   "metadata": {},
   "outputs": [],
   "source": []
  },
  {
   "cell_type": "code",
   "execution_count": null,
   "id": "a08be102",
   "metadata": {},
   "outputs": [],
   "source": []
  },
  {
   "cell_type": "code",
   "execution_count": null,
   "id": "0e9c9550",
   "metadata": {},
   "outputs": [],
   "source": []
  },
  {
   "cell_type": "code",
   "execution_count": null,
   "id": "334aa109",
   "metadata": {},
   "outputs": [],
   "source": []
  },
  {
   "cell_type": "code",
   "execution_count": null,
   "id": "06ddf3d0",
   "metadata": {},
   "outputs": [],
   "source": []
  },
  {
   "cell_type": "code",
   "execution_count": null,
   "id": "4c92cbb4",
   "metadata": {},
   "outputs": [],
   "source": [
    "#QUESTION 2: "
   ]
  },
  {
   "cell_type": "code",
   "execution_count": 56,
   "id": "b52d03ed",
   "metadata": {},
   "outputs": [],
   "source": [
    "driver = webdriver.Chrome(r\"C:\\Users\\ANSH\\Downloads\\chromedriver.exe\")"
   ]
  },
  {
   "cell_type": "code",
   "execution_count": 57,
   "id": "b07e8a90",
   "metadata": {},
   "outputs": [],
   "source": [
    "url = 'https://www.naukri.com/'\n",
    "driver.get(url)"
   ]
  },
  {
   "cell_type": "code",
   "execution_count": 58,
   "id": "36301243",
   "metadata": {},
   "outputs": [
    {
     "data": {
      "text/plain": [
       "<selenium.webdriver.remote.webelement.WebElement (session=\"8d1ec5e7d6e8b94592bdf3641f58fac8\", element=\"8c45c986-8aac-445e-b41c-89b0fd49eeaf\")>"
      ]
     },
     "execution_count": 58,
     "metadata": {},
     "output_type": "execute_result"
    }
   ],
   "source": [
    "search_job = driver.find_element(By.CLASS_NAME, \"suggestor-input\")\n",
    "search_job"
   ]
  },
  {
   "cell_type": "code",
   "execution_count": 59,
   "id": "8ac5411b",
   "metadata": {},
   "outputs": [],
   "source": [
    "search_job.send_keys(\"Data Analyst\")"
   ]
  },
  {
   "cell_type": "code",
   "execution_count": 60,
   "id": "2c264f7b",
   "metadata": {},
   "outputs": [
    {
     "data": {
      "text/plain": [
       "<selenium.webdriver.remote.webelement.WebElement (session=\"8d1ec5e7d6e8b94592bdf3641f58fac8\", element=\"15f4e623-e06e-40ef-a02e-5b19733d5b44\")>"
      ]
     },
     "execution_count": 60,
     "metadata": {},
     "output_type": "execute_result"
    }
   ],
   "source": [
    "search_locn = driver.find_element(By.XPATH, \"/html/body/div[1]/div[2]/div[3]/div/div/div[5]/div/div/div/input\")\n",
    "search_locn"
   ]
  },
  {
   "cell_type": "code",
   "execution_count": 61,
   "id": "a56559a2",
   "metadata": {},
   "outputs": [],
   "source": [
    "search_locn.send_keys(\"Banglore\")"
   ]
  },
  {
   "cell_type": "code",
   "execution_count": 62,
   "id": "00458461",
   "metadata": {},
   "outputs": [
    {
     "data": {
      "text/plain": [
       "<selenium.webdriver.remote.webelement.WebElement (session=\"8d1ec5e7d6e8b94592bdf3641f58fac8\", element=\"6c9f6436-56e1-4e9a-94ff-93a7df1c9cea\")>"
      ]
     },
     "execution_count": 62,
     "metadata": {},
     "output_type": "execute_result"
    }
   ],
   "source": [
    "search_btn = driver.find_element(By.XPATH, \"/html/body/div[1]/div[2]/div[3]/div/div/div[6]\")\n",
    "search_btn   "
   ]
  },
  {
   "cell_type": "code",
   "execution_count": 63,
   "id": "4b59bd81",
   "metadata": {},
   "outputs": [],
   "source": [
    "search_btn.click()"
   ]
  },
  {
   "cell_type": "code",
   "execution_count": 65,
   "id": "2a15cc71",
   "metadata": {},
   "outputs": [
    {
     "data": {
      "text/plain": [
       "20"
      ]
     },
     "execution_count": 65,
     "metadata": {},
     "output_type": "execute_result"
    }
   ],
   "source": [
    "title = driver.find_elements(By.XPATH, \"//a[@class = 'title fw500 ellipsis']\")\n",
    "len(title)"
   ]
  },
  {
   "cell_type": "code",
   "execution_count": 66,
   "id": "670e9470",
   "metadata": {},
   "outputs": [
    {
     "data": {
      "text/plain": [
       "['Sr.Business Data Analyst',\n",
       " 'Sr Data Analyst',\n",
       " 'Senior Data Analysis Analyst',\n",
       " 'Job opportunity For Data Analyst at Trellance - India',\n",
       " 'Data Analyst',\n",
       " 'Senior Data Analyst',\n",
       " 'Associate Data Analyst',\n",
       " 'Associate Data Analyst',\n",
       " 'Data Analyst/Senior Data Analyst',\n",
       " 'Financial Data Analyst',\n",
       " 'Data Analyst II',\n",
       " 'Senior Data Analyst II',\n",
       " 'Senior Data Management Analyst',\n",
       " 'Happay - Data Analyst',\n",
       " 'Data Analyst',\n",
       " 'Data Analyst - CRM Platform',\n",
       " 'Financial Data Analyst - FIG',\n",
       " 'Lead Financial Data Analyst',\n",
       " 'Financial Data Analyst - FIG',\n",
       " 'Software Technical Expert - Data Analyst']"
      ]
     },
     "execution_count": 66,
     "metadata": {},
     "output_type": "execute_result"
    }
   ],
   "source": [
    "whole_title = []\n",
    "for i in title:\n",
    "    whole_title.append(i.text)\n",
    "whole_title"
   ]
  },
  {
   "cell_type": "code",
   "execution_count": 67,
   "id": "c964c91e",
   "metadata": {},
   "outputs": [
    {
     "data": {
      "text/plain": [
       "20"
      ]
     },
     "execution_count": 67,
     "metadata": {},
     "output_type": "execute_result"
    }
   ],
   "source": [
    "company = driver.find_elements(By.XPATH, \"//a[@class = 'subTitle ellipsis fleft']\")\n",
    "len(company)"
   ]
  },
  {
   "cell_type": "code",
   "execution_count": 68,
   "id": "11e5ed0d",
   "metadata": {},
   "outputs": [
    {
     "data": {
      "text/plain": [
       "20"
      ]
     },
     "execution_count": 68,
     "metadata": {},
     "output_type": "execute_result"
    }
   ],
   "source": [
    "company_name = []\n",
    "for c in company:\n",
    "    company_name.append(c.text)\n",
    "len(company_name)"
   ]
  },
  {
   "cell_type": "code",
   "execution_count": 69,
   "id": "3cc2f624",
   "metadata": {},
   "outputs": [
    {
     "data": {
      "text/plain": [
       "['Collabera',\n",
       " 'Thomson Reuters',\n",
       " 'Capco',\n",
       " 'CURise Analytics Pvt. Ltd.',\n",
       " 'Thomson Reuters',\n",
       " 'KrazyBee',\n",
       " 'Optum',\n",
       " 'Optum',\n",
       " 'Meesho',\n",
       " 'Nuance India',\n",
       " 'Cerner',\n",
       " 'Flipkart',\n",
       " 'Wells Fargo',\n",
       " 'Happay-Expense Management Solution for Businesses',\n",
       " 'Kititan Co., Ltd',\n",
       " 'Artech infosystem',\n",
       " \"Moody's\",\n",
       " \"Moody's\",\n",
       " \"Moody's\",\n",
       " 'Schneider Electric']"
      ]
     },
     "execution_count": 69,
     "metadata": {},
     "output_type": "execute_result"
    }
   ],
   "source": [
    "company_name"
   ]
  },
  {
   "cell_type": "code",
   "execution_count": 70,
   "id": "c530d3e8",
   "metadata": {},
   "outputs": [
    {
     "data": {
      "text/plain": [
       "20"
      ]
     },
     "execution_count": 70,
     "metadata": {},
     "output_type": "execute_result"
    }
   ],
   "source": [
    "experience_req = driver.find_elements(By.XPATH, \"//li[@class = 'fleft grey-text br2 placeHolderLi experience']\")\n",
    "len(experience_req)"
   ]
  },
  {
   "cell_type": "code",
   "execution_count": 71,
   "id": "d7f45dbc",
   "metadata": {},
   "outputs": [
    {
     "data": {
      "text/plain": [
       "20"
      ]
     },
     "execution_count": 71,
     "metadata": {},
     "output_type": "execute_result"
    }
   ],
   "source": [
    "experience = []\n",
    "\n",
    "for e in experience_req:\n",
    "    experience.append(e.text)\n",
    "len(experience)\n"
   ]
  },
  {
   "cell_type": "code",
   "execution_count": 72,
   "id": "782b2cf0",
   "metadata": {},
   "outputs": [
    {
     "data": {
      "text/plain": [
       "['6-11 Yrs',\n",
       " '5-8 Yrs',\n",
       " '7-12 Yrs',\n",
       " '0-2 Yrs',\n",
       " '2-3 Yrs',\n",
       " '3-6 Yrs',\n",
       " '2-7 Yrs',\n",
       " '1-4 Yrs',\n",
       " '3-6 Yrs',\n",
       " '3-8 Yrs',\n",
       " '2-4 Yrs',\n",
       " '3-6 Yrs',\n",
       " '4-7 Yrs',\n",
       " '1-2 Yrs',\n",
       " '5-10 Yrs',\n",
       " '1-6 Yrs',\n",
       " '1-3 Yrs',\n",
       " '3-5 Yrs',\n",
       " '1-3 Yrs',\n",
       " '3-6 Yrs']"
      ]
     },
     "execution_count": 72,
     "metadata": {},
     "output_type": "execute_result"
    }
   ],
   "source": [
    "experience"
   ]
  },
  {
   "cell_type": "code",
   "execution_count": 62,
   "id": "1de86e35",
   "metadata": {},
   "outputs": [
    {
     "data": {
      "text/plain": [
       "20"
      ]
     },
     "execution_count": 62,
     "metadata": {},
     "output_type": "execute_result"
    }
   ],
   "source": [
    "location = driver.find_elements(By.XPATH, \"//li[@class = 'fleft grey-text br2 placeHolderLi location']\") \n",
    "len(location)"
   ]
  },
  {
   "cell_type": "code",
   "execution_count": 63,
   "id": "7e2d6cb0",
   "metadata": {},
   "outputs": [
    {
     "data": {
      "text/plain": [
       "['Bangalore/Bengaluru, karnataka\\n(WFH during Covid)',\n",
       " 'Mumbai, Hyderabad/Secunderabad, Pune, Chennai, Ahmedabad, Bangalore/Bengaluru',\n",
       " 'Bangalore/Bengaluru',\n",
       " 'Noida, Kolkata, Mumbai, Gurgaon/Gurugram, Bangalore/Bengaluru, Delhi / NCR, Mumbai (All Areas)',\n",
       " 'Bangalore/Bengaluru',\n",
       " 'Bangalore/Bengaluru',\n",
       " 'Mumbai, Hyderabad/Secunderabad, Pune, Chennai, Bangalore/Bengaluru',\n",
       " 'Bangalore/Bengaluru',\n",
       " 'Bangalore/Bengaluru',\n",
       " 'Bangalore/Bengaluru',\n",
       " 'Hyderabad/Secunderabad, Bangalore/Bengaluru',\n",
       " 'Bangalore Rural, Bangalore/Bengaluru(Varthur Road)',\n",
       " 'Bangalore/Bengaluru',\n",
       " 'Bangalore/Bengaluru',\n",
       " 'Bangalore/Bengaluru',\n",
       " 'Bangalore/Bengaluru\\n(WFH during Covid)',\n",
       " 'Bangalore/Bengaluru',\n",
       " 'Hyderabad/Secunderabad, Chennai, Bangalore/Bengaluru',\n",
       " 'Bangalore/Bengaluru',\n",
       " 'Hyderabad/Secunderabad, Pune, Chennai, Bangalore/Bengaluru']"
      ]
     },
     "execution_count": 63,
     "metadata": {},
     "output_type": "execute_result"
    }
   ],
   "source": [
    "locations = []\n",
    "for l in location:\n",
    "    locations.append(l.text)\n",
    "locations"
   ]
  },
  {
   "cell_type": "code",
   "execution_count": 74,
   "id": "4154a288",
   "metadata": {},
   "outputs": [],
   "source": [
    "jobs2 = pd.DataFrame({'JOB TITLE':whole_title, 'COMPANY NAME': company_name, 'LOCATION':locations, 'EXPERIENCE':experience})"
   ]
  },
  {
   "cell_type": "code",
   "execution_count": 76,
   "id": "d7ff1c83",
   "metadata": {},
   "outputs": [
    {
     "data": {
      "text/html": [
       "<div>\n",
       "<style scoped>\n",
       "    .dataframe tbody tr th:only-of-type {\n",
       "        vertical-align: middle;\n",
       "    }\n",
       "\n",
       "    .dataframe tbody tr th {\n",
       "        vertical-align: top;\n",
       "    }\n",
       "\n",
       "    .dataframe thead th {\n",
       "        text-align: right;\n",
       "    }\n",
       "</style>\n",
       "<table border=\"1\" class=\"dataframe\">\n",
       "  <thead>\n",
       "    <tr style=\"text-align: right;\">\n",
       "      <th></th>\n",
       "      <th>JOB TITLE</th>\n",
       "      <th>COMPANY NAME</th>\n",
       "      <th>LOCATION</th>\n",
       "      <th>EXPERIENCE</th>\n",
       "    </tr>\n",
       "  </thead>\n",
       "  <tbody>\n",
       "    <tr>\n",
       "      <th>0</th>\n",
       "      <td>Sr.Business Data Analyst</td>\n",
       "      <td>Collabera</td>\n",
       "      <td>Pune, Gurgaon/Gurugram, Chennai, Bangalore/Ben...</td>\n",
       "      <td>6-11 Yrs</td>\n",
       "    </tr>\n",
       "    <tr>\n",
       "      <th>1</th>\n",
       "      <td>Sr Data Analyst</td>\n",
       "      <td>Thomson Reuters</td>\n",
       "      <td>Kochi/Cochin, New Delhi, Bangalore/Bengaluru, ...</td>\n",
       "      <td>5-8 Yrs</td>\n",
       "    </tr>\n",
       "    <tr>\n",
       "      <th>2</th>\n",
       "      <td>Senior Data Analysis Analyst</td>\n",
       "      <td>Capco</td>\n",
       "      <td>Pune, Chennai, Bangalore/Bengaluru</td>\n",
       "      <td>7-12 Yrs</td>\n",
       "    </tr>\n",
       "    <tr>\n",
       "      <th>3</th>\n",
       "      <td>Job opportunity For Data Analyst at Trellance ...</td>\n",
       "      <td>CURise Analytics Pvt. Ltd.</td>\n",
       "      <td>Bangalore/Bengaluru</td>\n",
       "      <td>0-2 Yrs</td>\n",
       "    </tr>\n",
       "    <tr>\n",
       "      <th>4</th>\n",
       "      <td>Data Analyst</td>\n",
       "      <td>Thomson Reuters</td>\n",
       "      <td>Bangalore/Bengaluru</td>\n",
       "      <td>2-3 Yrs</td>\n",
       "    </tr>\n",
       "    <tr>\n",
       "      <th>5</th>\n",
       "      <td>Senior Data Analyst</td>\n",
       "      <td>KrazyBee</td>\n",
       "      <td>Bangalore/Bengaluru</td>\n",
       "      <td>3-6 Yrs</td>\n",
       "    </tr>\n",
       "    <tr>\n",
       "      <th>6</th>\n",
       "      <td>Associate Data Analyst</td>\n",
       "      <td>Optum</td>\n",
       "      <td>Bangalore/Bengaluru</td>\n",
       "      <td>2-7 Yrs</td>\n",
       "    </tr>\n",
       "    <tr>\n",
       "      <th>7</th>\n",
       "      <td>Associate Data Analyst</td>\n",
       "      <td>Optum</td>\n",
       "      <td>Noida, Bangalore/Bengaluru</td>\n",
       "      <td>1-4 Yrs</td>\n",
       "    </tr>\n",
       "    <tr>\n",
       "      <th>8</th>\n",
       "      <td>Data Analyst/Senior Data Analyst</td>\n",
       "      <td>Meesho</td>\n",
       "      <td>Bangalore/Bengaluru</td>\n",
       "      <td>3-6 Yrs</td>\n",
       "    </tr>\n",
       "    <tr>\n",
       "      <th>9</th>\n",
       "      <td>Financial Data Analyst</td>\n",
       "      <td>Nuance India</td>\n",
       "      <td>Noida, Hyderabad/Secunderabad, Pune, Gurgaon/G...</td>\n",
       "      <td>3-8 Yrs</td>\n",
       "    </tr>\n",
       "  </tbody>\n",
       "</table>\n",
       "</div>"
      ],
      "text/plain": [
       "                                           JOB TITLE  \\\n",
       "0                           Sr.Business Data Analyst   \n",
       "1                                    Sr Data Analyst   \n",
       "2                       Senior Data Analysis Analyst   \n",
       "3  Job opportunity For Data Analyst at Trellance ...   \n",
       "4                                       Data Analyst   \n",
       "5                                Senior Data Analyst   \n",
       "6                             Associate Data Analyst   \n",
       "7                             Associate Data Analyst   \n",
       "8                   Data Analyst/Senior Data Analyst   \n",
       "9                             Financial Data Analyst   \n",
       "\n",
       "                 COMPANY NAME  \\\n",
       "0                   Collabera   \n",
       "1             Thomson Reuters   \n",
       "2                       Capco   \n",
       "3  CURise Analytics Pvt. Ltd.   \n",
       "4             Thomson Reuters   \n",
       "5                    KrazyBee   \n",
       "6                       Optum   \n",
       "7                       Optum   \n",
       "8                      Meesho   \n",
       "9                Nuance India   \n",
       "\n",
       "                                            LOCATION EXPERIENCE  \n",
       "0  Pune, Gurgaon/Gurugram, Chennai, Bangalore/Ben...   6-11 Yrs  \n",
       "1  Kochi/Cochin, New Delhi, Bangalore/Bengaluru, ...    5-8 Yrs  \n",
       "2                 Pune, Chennai, Bangalore/Bengaluru   7-12 Yrs  \n",
       "3                                Bangalore/Bengaluru    0-2 Yrs  \n",
       "4                                Bangalore/Bengaluru    2-3 Yrs  \n",
       "5                                Bangalore/Bengaluru    3-6 Yrs  \n",
       "6                                Bangalore/Bengaluru    2-7 Yrs  \n",
       "7                         Noida, Bangalore/Bengaluru    1-4 Yrs  \n",
       "8                                Bangalore/Bengaluru    3-6 Yrs  \n",
       "9  Noida, Hyderabad/Secunderabad, Pune, Gurgaon/G...    3-8 Yrs  "
      ]
     },
     "execution_count": 76,
     "metadata": {},
     "output_type": "execute_result"
    }
   ],
   "source": [
    "jobs2 = jobs2.head(10)\n",
    "jobs2"
   ]
  },
  {
   "cell_type": "code",
   "execution_count": null,
   "id": "6ccf0a9a",
   "metadata": {},
   "outputs": [],
   "source": []
  },
  {
   "cell_type": "code",
   "execution_count": null,
   "id": "fedb2e7a",
   "metadata": {},
   "outputs": [],
   "source": []
  },
  {
   "cell_type": "code",
   "execution_count": null,
   "id": "148a1310",
   "metadata": {},
   "outputs": [],
   "source": []
  },
  {
   "cell_type": "code",
   "execution_count": null,
   "id": "ce7783c2",
   "metadata": {},
   "outputs": [],
   "source": []
  },
  {
   "cell_type": "code",
   "execution_count": null,
   "id": "8e99012b",
   "metadata": {},
   "outputs": [],
   "source": [
    "# QUESTION 3 "
   ]
  },
  {
   "cell_type": "code",
   "execution_count": 78,
   "id": "98e9c0d7",
   "metadata": {},
   "outputs": [],
   "source": [
    "driver = webdriver.Chrome(r\"C:\\Users\\ANSH\\Downloads\\chromedriver.exe\")"
   ]
  },
  {
   "cell_type": "code",
   "execution_count": 79,
   "id": "5bc43058",
   "metadata": {},
   "outputs": [],
   "source": [
    "url = 'https://www.naukri.com/'\n",
    "driver.get(url)"
   ]
  },
  {
   "cell_type": "code",
   "execution_count": 80,
   "id": "9dba7103",
   "metadata": {},
   "outputs": [
    {
     "data": {
      "text/plain": [
       "<selenium.webdriver.remote.webelement.WebElement (session=\"192fcdd3767b6bf41201626caca0bf11\", element=\"6b8d7a83-2626-4564-8d5d-4bf7f2f204fd\")>"
      ]
     },
     "execution_count": 80,
     "metadata": {},
     "output_type": "execute_result"
    }
   ],
   "source": [
    "search_job = driver.find_element(By.CLASS_NAME, \"suggestor-input\")\n",
    "search_job"
   ]
  },
  {
   "cell_type": "code",
   "execution_count": 81,
   "id": "e669dc71",
   "metadata": {},
   "outputs": [],
   "source": [
    "search_job.send_keys(\"Data Scientist\")"
   ]
  },
  {
   "cell_type": "code",
   "execution_count": 82,
   "id": "f465d964",
   "metadata": {},
   "outputs": [
    {
     "data": {
      "text/plain": [
       "<selenium.webdriver.remote.webelement.WebElement (session=\"192fcdd3767b6bf41201626caca0bf11\", element=\"0d539777-9126-44af-9f05-23a2d31e1968\")>"
      ]
     },
     "execution_count": 82,
     "metadata": {},
     "output_type": "execute_result"
    }
   ],
   "source": [
    "search_btn = driver.find_element(By.XPATH, \"/html/body/div[1]/div[2]/div[3]/div/div/div[6]\")\n",
    "search_btn  "
   ]
  },
  {
   "cell_type": "code",
   "execution_count": 83,
   "id": "47480837",
   "metadata": {},
   "outputs": [],
   "source": [
    "search_btn.click()"
   ]
  },
  {
   "cell_type": "code",
   "execution_count": 84,
   "id": "9a1ba65f",
   "metadata": {},
   "outputs": [
    {
     "data": {
      "text/plain": [
       "<selenium.webdriver.remote.webelement.WebElement (session=\"192fcdd3767b6bf41201626caca0bf11\", element=\"ad5bcdc1-dd63-457c-a13b-78c54cbc1692\")>"
      ]
     },
     "execution_count": 84,
     "metadata": {},
     "output_type": "execute_result"
    }
   ],
   "source": [
    "search_locn = driver.find_element(By.XPATH, \"/html/body/div[1]/div[3]/div[2]/section[1]/div[2]/div[5]/div[2]/div[3]/label/i\")\n",
    "search_locn"
   ]
  },
  {
   "cell_type": "code",
   "execution_count": 85,
   "id": "6fc2c316",
   "metadata": {},
   "outputs": [],
   "source": [
    "search_locn.click()"
   ]
  },
  {
   "cell_type": "code",
   "execution_count": 87,
   "id": "c3a3021b",
   "metadata": {},
   "outputs": [],
   "source": [
    "salary = driver.find_element(By.XPATH, \"/html/body/div[1]/div[3]/div[2]/section[1]/div[2]/div[6]/div[2]/div[2]/label/i\")"
   ]
  },
  {
   "cell_type": "code",
   "execution_count": 88,
   "id": "fae89cfc",
   "metadata": {},
   "outputs": [],
   "source": [
    "salary.click()"
   ]
  },
  {
   "cell_type": "code",
   "execution_count": 89,
   "id": "80905be7",
   "metadata": {},
   "outputs": [
    {
     "data": {
      "text/plain": [
       "20"
      ]
     },
     "execution_count": 89,
     "metadata": {},
     "output_type": "execute_result"
    }
   ],
   "source": [
    "title = driver.find_elements(By.XPATH, \"//a[@class = 'title fw500 ellipsis']\")\n",
    "len(title)"
   ]
  },
  {
   "cell_type": "code",
   "execution_count": 90,
   "id": "76fdb37b",
   "metadata": {},
   "outputs": [
    {
     "data": {
      "text/plain": [
       "['DigitalBCG GAMMA Data Scientist',\n",
       " 'Senior Associate - Data Science',\n",
       " 'Data Scientist - Noida/Bangalore',\n",
       " 'Data Scientist For Healthcare Product team',\n",
       " 'Data Scientist For Healthcare Product team',\n",
       " 'Data Scientist - Machine learning AI',\n",
       " 'Data Scientist - MIND Infotech',\n",
       " 'Data Scientist - Engine Algorithm',\n",
       " 'Knowledge/Data Scientist',\n",
       " 'Data Scientist',\n",
       " 'Data Scientist',\n",
       " 'Data Scientist',\n",
       " 'Data Scientist - Internet Jobs - II',\n",
       " 'Data Science',\n",
       " 'Data Science',\n",
       " 'Data Scientist',\n",
       " 'Machine Learning Seniors',\n",
       " 'Hiring || Data Scientist || North Delhi || 5.5 days working',\n",
       " 'Data scientist- Python',\n",
       " 'Dot Net Developer']"
      ]
     },
     "execution_count": 90,
     "metadata": {},
     "output_type": "execute_result"
    }
   ],
   "source": [
    "whole_title = []\n",
    "for i in title:\n",
    "    whole_title.append(i.text)\n",
    "whole_title"
   ]
  },
  {
   "cell_type": "code",
   "execution_count": 91,
   "id": "1213152e",
   "metadata": {},
   "outputs": [
    {
     "data": {
      "text/plain": [
       "20"
      ]
     },
     "execution_count": 91,
     "metadata": {},
     "output_type": "execute_result"
    }
   ],
   "source": [
    "company = driver.find_elements(By.XPATH, \"//a[@class = 'subTitle ellipsis fleft']\")\n",
    "len(company)"
   ]
  },
  {
   "cell_type": "code",
   "execution_count": 92,
   "id": "6a36715a",
   "metadata": {},
   "outputs": [
    {
     "data": {
      "text/plain": [
       "20"
      ]
     },
     "execution_count": 92,
     "metadata": {},
     "output_type": "execute_result"
    }
   ],
   "source": [
    "company_name = []\n",
    "for c in company:\n",
    "    company_name.append(c.text)\n",
    "len(company_name)"
   ]
  },
  {
   "cell_type": "code",
   "execution_count": 93,
   "id": "374090b8",
   "metadata": {},
   "outputs": [
    {
     "data": {
      "text/plain": [
       "['Boston Consulting Group',\n",
       " 'Black Turtle',\n",
       " 'EXL',\n",
       " '8KMiles Software Services',\n",
       " '8KMiles Software Services',\n",
       " 'Teq Analytics',\n",
       " 'MOTHERSONSUMI INFOTECH & DESIGNS LIMITED',\n",
       " 'Primo Hiring',\n",
       " 'BOLD Technology Systems',\n",
       " 'Mount Talent Consulting Private Limited',\n",
       " 'Mount Talent Consulting Private Limited',\n",
       " 'Sydata Consulting India Pvt Ltd',\n",
       " 'Jobs Territory',\n",
       " 'Mount Talent Consulting Private Limited',\n",
       " 'Mount Talent Consulting Private Limited',\n",
       " 'Kellton Tech Solutions',\n",
       " 'Walking Tree Consultancy Services pvt Ltd',\n",
       " 'Shriram Automall',\n",
       " 'TeamPlus Staffing Solution Pvt Ltd',\n",
       " 'Nibha Infotech Private Limited']"
      ]
     },
     "execution_count": 93,
     "metadata": {},
     "output_type": "execute_result"
    }
   ],
   "source": [
    "company_name"
   ]
  },
  {
   "cell_type": "code",
   "execution_count": 94,
   "id": "17535a57",
   "metadata": {},
   "outputs": [
    {
     "data": {
      "text/plain": [
       "20"
      ]
     },
     "execution_count": 94,
     "metadata": {},
     "output_type": "execute_result"
    }
   ],
   "source": [
    "experience_req = driver.find_elements(By.XPATH, \"//li[@class = 'fleft grey-text br2 placeHolderLi experience']\")\n",
    "len(experience_req)"
   ]
  },
  {
   "cell_type": "code",
   "execution_count": 95,
   "id": "334d3b44",
   "metadata": {},
   "outputs": [
    {
     "data": {
      "text/plain": [
       "20"
      ]
     },
     "execution_count": 95,
     "metadata": {},
     "output_type": "execute_result"
    }
   ],
   "source": [
    "experience = []\n",
    "\n",
    "for e in experience_req:\n",
    "    experience.append(e.text)\n",
    "len(experience)"
   ]
  },
  {
   "cell_type": "code",
   "execution_count": 96,
   "id": "b1866093",
   "metadata": {},
   "outputs": [
    {
     "data": {
      "text/plain": [
       "['2-5 Yrs',\n",
       " '4-7 Yrs',\n",
       " '5-10 Yrs',\n",
       " '2-7 Yrs',\n",
       " '2-7 Yrs',\n",
       " '3-8 Yrs',\n",
       " '4-8 Yrs',\n",
       " '1-3 Yrs',\n",
       " '3-6 Yrs',\n",
       " '2-4 Yrs',\n",
       " '2-4 Yrs',\n",
       " '3-8 Yrs',\n",
       " '3-6 Yrs',\n",
       " '2-5 Yrs',\n",
       " '2-5 Yrs',\n",
       " '3-6 Yrs',\n",
       " '2-5 Yrs',\n",
       " '4-9 Yrs',\n",
       " '3-6 Yrs',\n",
       " '3-8 Yrs']"
      ]
     },
     "execution_count": 96,
     "metadata": {},
     "output_type": "execute_result"
    }
   ],
   "source": [
    "experience"
   ]
  },
  {
   "cell_type": "code",
   "execution_count": 97,
   "id": "652d5192",
   "metadata": {},
   "outputs": [
    {
     "data": {
      "text/plain": [
       "20"
      ]
     },
     "execution_count": 97,
     "metadata": {},
     "output_type": "execute_result"
    }
   ],
   "source": [
    "location = driver.find_elements(By.XPATH, \"//li[@class = 'fleft grey-text br2 placeHolderLi location']\") \n",
    "len(location)"
   ]
  },
  {
   "cell_type": "code",
   "execution_count": 98,
   "id": "12941f93",
   "metadata": {},
   "outputs": [
    {
     "data": {
      "text/plain": [
       "['New Delhi, Bangalore/Bengaluru',\n",
       " 'Mumbai, Hyderabad/Secunderabad, Gurgaon/Gurugram, Bangalore/Bengaluru',\n",
       " 'Noida, Bangalore/Bengaluru',\n",
       " 'Delhi / NCR, Chennai, Bangalore/Bengaluru',\n",
       " 'Delhi / NCR, Chennai, Bangalore/Bengaluru',\n",
       " 'Delhi / NCR, Bangalore/Bengaluru, Mumbai (All Areas)\\n(WFH during Covid)',\n",
       " 'Noida',\n",
       " 'Delhi / NCR, Kolkata, Mumbai, Hyderabad/Secunderabad, Lucknow, Chennai, Ahmedabad, Bangalore/Bengaluru',\n",
       " 'Delhi / NCR',\n",
       " 'Delhi / NCR, Pune, Bangalore/Bengaluru',\n",
       " 'Delhi / NCR, Pune, Bangalore/Bengaluru',\n",
       " 'Delhi / NCR, Bangalore/Bengaluru, Mumbai (All Areas)\\n(WFH during Covid)',\n",
       " 'Delhi / NCR, Bangalore/Bengaluru, Mumbai (All Areas)',\n",
       " 'Delhi / NCR, Noida, Faridabad, Gurgaon/Gurugram, Bangalore/Bengaluru, Greater Noida',\n",
       " 'Delhi / NCR, Noida, Faridabad, Gurgaon/Gurugram, Bangalore/Bengaluru, Greater Noida',\n",
       " 'Gurgaon/Gurugram',\n",
       " 'Hyderabad/Secunderabad, New Delhi',\n",
       " 'Delhi / NCR(Netaji Subhash Place)',\n",
       " 'Gurgaon/Gurugram',\n",
       " 'Delhi / NCR, Gurgaon/Gurugram']"
      ]
     },
     "execution_count": 98,
     "metadata": {},
     "output_type": "execute_result"
    }
   ],
   "source": [
    "locations = []\n",
    "for l in location:\n",
    "    locations.append(l.text)\n",
    "locations"
   ]
  },
  {
   "cell_type": "code",
   "execution_count": 99,
   "id": "97df99f9",
   "metadata": {},
   "outputs": [],
   "source": [
    "jobs3 = pd.DataFrame({'JOB TITLE':whole_title, 'COMPANY NAME': company_name, 'LOCATION':locations, 'EXPERIENCE':experience})"
   ]
  },
  {
   "cell_type": "code",
   "execution_count": 101,
   "id": "373c13c0",
   "metadata": {},
   "outputs": [
    {
     "data": {
      "text/html": [
       "<div>\n",
       "<style scoped>\n",
       "    .dataframe tbody tr th:only-of-type {\n",
       "        vertical-align: middle;\n",
       "    }\n",
       "\n",
       "    .dataframe tbody tr th {\n",
       "        vertical-align: top;\n",
       "    }\n",
       "\n",
       "    .dataframe thead th {\n",
       "        text-align: right;\n",
       "    }\n",
       "</style>\n",
       "<table border=\"1\" class=\"dataframe\">\n",
       "  <thead>\n",
       "    <tr style=\"text-align: right;\">\n",
       "      <th></th>\n",
       "      <th>JOB TITLE</th>\n",
       "      <th>COMPANY NAME</th>\n",
       "      <th>LOCATION</th>\n",
       "      <th>EXPERIENCE</th>\n",
       "    </tr>\n",
       "  </thead>\n",
       "  <tbody>\n",
       "    <tr>\n",
       "      <th>0</th>\n",
       "      <td>DigitalBCG GAMMA Data Scientist</td>\n",
       "      <td>Boston Consulting Group</td>\n",
       "      <td>New Delhi, Bangalore/Bengaluru</td>\n",
       "      <td>2-5 Yrs</td>\n",
       "    </tr>\n",
       "    <tr>\n",
       "      <th>1</th>\n",
       "      <td>Senior Associate - Data Science</td>\n",
       "      <td>Black Turtle</td>\n",
       "      <td>Mumbai, Hyderabad/Secunderabad, Gurgaon/Gurugr...</td>\n",
       "      <td>4-7 Yrs</td>\n",
       "    </tr>\n",
       "    <tr>\n",
       "      <th>2</th>\n",
       "      <td>Data Scientist - Noida/Bangalore</td>\n",
       "      <td>EXL</td>\n",
       "      <td>Noida, Bangalore/Bengaluru</td>\n",
       "      <td>5-10 Yrs</td>\n",
       "    </tr>\n",
       "    <tr>\n",
       "      <th>3</th>\n",
       "      <td>Data Scientist For Healthcare Product team</td>\n",
       "      <td>8KMiles Software Services</td>\n",
       "      <td>Delhi / NCR, Chennai, Bangalore/Bengaluru</td>\n",
       "      <td>2-7 Yrs</td>\n",
       "    </tr>\n",
       "    <tr>\n",
       "      <th>4</th>\n",
       "      <td>Data Scientist For Healthcare Product team</td>\n",
       "      <td>8KMiles Software Services</td>\n",
       "      <td>Delhi / NCR, Chennai, Bangalore/Bengaluru</td>\n",
       "      <td>2-7 Yrs</td>\n",
       "    </tr>\n",
       "    <tr>\n",
       "      <th>5</th>\n",
       "      <td>Data Scientist - Machine learning AI</td>\n",
       "      <td>Teq Analytics</td>\n",
       "      <td>Delhi / NCR, Bangalore/Bengaluru, Mumbai (All ...</td>\n",
       "      <td>3-8 Yrs</td>\n",
       "    </tr>\n",
       "    <tr>\n",
       "      <th>6</th>\n",
       "      <td>Data Scientist - MIND Infotech</td>\n",
       "      <td>MOTHERSONSUMI INFOTECH &amp; DESIGNS LIMITED</td>\n",
       "      <td>Noida</td>\n",
       "      <td>4-8 Yrs</td>\n",
       "    </tr>\n",
       "    <tr>\n",
       "      <th>7</th>\n",
       "      <td>Data Scientist - Engine Algorithm</td>\n",
       "      <td>Primo Hiring</td>\n",
       "      <td>Delhi / NCR, Kolkata, Mumbai, Hyderabad/Secund...</td>\n",
       "      <td>1-3 Yrs</td>\n",
       "    </tr>\n",
       "    <tr>\n",
       "      <th>8</th>\n",
       "      <td>Knowledge/Data Scientist</td>\n",
       "      <td>BOLD Technology Systems</td>\n",
       "      <td>Delhi / NCR</td>\n",
       "      <td>3-6 Yrs</td>\n",
       "    </tr>\n",
       "    <tr>\n",
       "      <th>9</th>\n",
       "      <td>Data Scientist</td>\n",
       "      <td>Mount Talent Consulting Private Limited</td>\n",
       "      <td>Delhi / NCR, Pune, Bangalore/Bengaluru</td>\n",
       "      <td>2-4 Yrs</td>\n",
       "    </tr>\n",
       "  </tbody>\n",
       "</table>\n",
       "</div>"
      ],
      "text/plain": [
       "                                    JOB TITLE  \\\n",
       "0             DigitalBCG GAMMA Data Scientist   \n",
       "1             Senior Associate - Data Science   \n",
       "2            Data Scientist - Noida/Bangalore   \n",
       "3  Data Scientist For Healthcare Product team   \n",
       "4  Data Scientist For Healthcare Product team   \n",
       "5        Data Scientist - Machine learning AI   \n",
       "6              Data Scientist - MIND Infotech   \n",
       "7           Data Scientist - Engine Algorithm   \n",
       "8                    Knowledge/Data Scientist   \n",
       "9                              Data Scientist   \n",
       "\n",
       "                               COMPANY NAME  \\\n",
       "0                   Boston Consulting Group   \n",
       "1                              Black Turtle   \n",
       "2                                       EXL   \n",
       "3                 8KMiles Software Services   \n",
       "4                 8KMiles Software Services   \n",
       "5                             Teq Analytics   \n",
       "6  MOTHERSONSUMI INFOTECH & DESIGNS LIMITED   \n",
       "7                              Primo Hiring   \n",
       "8                   BOLD Technology Systems   \n",
       "9   Mount Talent Consulting Private Limited   \n",
       "\n",
       "                                            LOCATION EXPERIENCE  \n",
       "0                     New Delhi, Bangalore/Bengaluru    2-5 Yrs  \n",
       "1  Mumbai, Hyderabad/Secunderabad, Gurgaon/Gurugr...    4-7 Yrs  \n",
       "2                         Noida, Bangalore/Bengaluru   5-10 Yrs  \n",
       "3          Delhi / NCR, Chennai, Bangalore/Bengaluru    2-7 Yrs  \n",
       "4          Delhi / NCR, Chennai, Bangalore/Bengaluru    2-7 Yrs  \n",
       "5  Delhi / NCR, Bangalore/Bengaluru, Mumbai (All ...    3-8 Yrs  \n",
       "6                                              Noida    4-8 Yrs  \n",
       "7  Delhi / NCR, Kolkata, Mumbai, Hyderabad/Secund...    1-3 Yrs  \n",
       "8                                        Delhi / NCR    3-6 Yrs  \n",
       "9             Delhi / NCR, Pune, Bangalore/Bengaluru    2-4 Yrs  "
      ]
     },
     "execution_count": 101,
     "metadata": {},
     "output_type": "execute_result"
    }
   ],
   "source": [
    "jobs3 = jobs3.head(10)\n",
    "jobs3"
   ]
  },
  {
   "cell_type": "code",
   "execution_count": null,
   "id": "16da8c7c",
   "metadata": {},
   "outputs": [],
   "source": []
  },
  {
   "cell_type": "code",
   "execution_count": null,
   "id": "b12ae112",
   "metadata": {},
   "outputs": [],
   "source": []
  },
  {
   "cell_type": "code",
   "execution_count": null,
   "id": "9cbfa4fc",
   "metadata": {},
   "outputs": [],
   "source": []
  },
  {
   "cell_type": "code",
   "execution_count": null,
   "id": "2b47e854",
   "metadata": {},
   "outputs": [],
   "source": []
  },
  {
   "cell_type": "code",
   "execution_count": null,
   "id": "33553b4e",
   "metadata": {},
   "outputs": [],
   "source": []
  },
  {
   "cell_type": "code",
   "execution_count": null,
   "id": "445e30ac",
   "metadata": {},
   "outputs": [],
   "source": [
    "#QUESTION 4"
   ]
  },
  {
   "cell_type": "code",
   "execution_count": 103,
   "id": "923861d2",
   "metadata": {},
   "outputs": [],
   "source": [
    "import selenium\n",
    "from selenium import webdriver\n",
    "import pandas as pd\n",
    "import warnings\n",
    "warnings.filterwarnings(\"ignore\")\n",
    "from selenium.webdriver.common.by import By\n",
    "from selenium.webdriver.common.keys import Keys"
   ]
  },
  {
   "cell_type": "code",
   "execution_count": 117,
   "id": "a1106b96",
   "metadata": {},
   "outputs": [],
   "source": [
    "driver = webdriver.Chrome(r\"C:\\Users\\ANSH\\Downloads\\chromedriver.exe\")"
   ]
  },
  {
   "cell_type": "code",
   "execution_count": 118,
   "id": "8bdac82e",
   "metadata": {},
   "outputs": [],
   "source": [
    "url = 'https://www.flipkart.com/'\n",
    "driver.get(url)"
   ]
  },
  {
   "cell_type": "code",
   "execution_count": 119,
   "id": "2472271e",
   "metadata": {},
   "outputs": [],
   "source": [
    "search_bar = driver.find_element(By.XPATH, \"/html/body/div[1]/div/div[1]/div[1]/div[2]/div[2]/form/div/div/input\")"
   ]
  },
  {
   "cell_type": "code",
   "execution_count": 120,
   "id": "28c8bb04",
   "metadata": {},
   "outputs": [],
   "source": [
    "search_bar.send_keys('Sunglasses')"
   ]
  },
  {
   "cell_type": "code",
   "execution_count": 123,
   "id": "bab320fe",
   "metadata": {},
   "outputs": [
    {
     "ename": "NoSuchElementException",
     "evalue": "Message: no such element: Unable to locate element: {\"method\":\"xpath\",\"selector\":\"/html/body/div[1]/div/div[1]/div[1]/div[2]/div[2]/form/div/button/svg/g/path[2]\"}\n  (Session info: chrome=103.0.5060.114)\nStacktrace:\nBacktrace:\n\tOrdinal0 [0x003D6463+2188387]\n\tOrdinal0 [0x0036E461+1762401]\n\tOrdinal0 [0x00283D78+802168]\n\tOrdinal0 [0x002B1880+989312]\n\tOrdinal0 [0x002B1B1B+989979]\n\tOrdinal0 [0x002DE912+1173778]\n\tOrdinal0 [0x002CC824+1099812]\n\tOrdinal0 [0x002DCC22+1166370]\n\tOrdinal0 [0x002CC5F6+1099254]\n\tOrdinal0 [0x002A6BE0+945120]\n\tOrdinal0 [0x002A7AD6+948950]\n\tGetHandleVerifier [0x006771F2+2712546]\n\tGetHandleVerifier [0x0066886D+2652765]\n\tGetHandleVerifier [0x0046002A+520730]\n\tGetHandleVerifier [0x0045EE06+516086]\n\tOrdinal0 [0x0037468B+1787531]\n\tOrdinal0 [0x00378E88+1805960]\n\tOrdinal0 [0x00378F75+1806197]\n\tOrdinal0 [0x00381DF1+1842673]\n\tBaseThreadInitThunk [0x7649FA29+25]\n\tRtlGetAppContainerNamedObjectPath [0x771E7A9E+286]\n\tRtlGetAppContainerNamedObjectPath [0x771E7A6E+238]\n",
     "output_type": "error",
     "traceback": [
      "\u001b[1;31m---------------------------------------------------------------------------\u001b[0m",
      "\u001b[1;31mNoSuchElementException\u001b[0m                    Traceback (most recent call last)",
      "Input \u001b[1;32mIn [123]\u001b[0m, in \u001b[0;36m<cell line: 1>\u001b[1;34m()\u001b[0m\n\u001b[1;32m----> 1\u001b[0m search \u001b[38;5;241m=\u001b[39m \u001b[43mdriver\u001b[49m\u001b[38;5;241;43m.\u001b[39;49m\u001b[43mfind_element\u001b[49m\u001b[43m(\u001b[49m\u001b[43mBy\u001b[49m\u001b[38;5;241;43m.\u001b[39;49m\u001b[43mXPATH\u001b[49m\u001b[43m,\u001b[49m\u001b[43m \u001b[49m\u001b[38;5;124;43m'\u001b[39;49m\u001b[38;5;124;43m/html/body/div[1]/div/div[1]/div[1]/div[2]/div[2]/form/div/button/svg/g/path[2]\u001b[39;49m\u001b[38;5;124;43m'\u001b[39;49m\u001b[43m)\u001b[49m\n",
      "File \u001b[1;32m~\\anaconda3\\lib\\site-packages\\selenium\\webdriver\\remote\\webdriver.py:857\u001b[0m, in \u001b[0;36mWebDriver.find_element\u001b[1;34m(self, by, value)\u001b[0m\n\u001b[0;32m    854\u001b[0m     by \u001b[38;5;241m=\u001b[39m By\u001b[38;5;241m.\u001b[39mCSS_SELECTOR\n\u001b[0;32m    855\u001b[0m     value \u001b[38;5;241m=\u001b[39m \u001b[38;5;124m'\u001b[39m\u001b[38;5;124m[name=\u001b[39m\u001b[38;5;124m\"\u001b[39m\u001b[38;5;132;01m%s\u001b[39;00m\u001b[38;5;124m\"\u001b[39m\u001b[38;5;124m]\u001b[39m\u001b[38;5;124m'\u001b[39m \u001b[38;5;241m%\u001b[39m value\n\u001b[1;32m--> 857\u001b[0m \u001b[38;5;28;01mreturn\u001b[39;00m \u001b[38;5;28;43mself\u001b[39;49m\u001b[38;5;241;43m.\u001b[39;49m\u001b[43mexecute\u001b[49m\u001b[43m(\u001b[49m\u001b[43mCommand\u001b[49m\u001b[38;5;241;43m.\u001b[39;49m\u001b[43mFIND_ELEMENT\u001b[49m\u001b[43m,\u001b[49m\u001b[43m \u001b[49m\u001b[43m{\u001b[49m\n\u001b[0;32m    858\u001b[0m \u001b[43m    \u001b[49m\u001b[38;5;124;43m'\u001b[39;49m\u001b[38;5;124;43musing\u001b[39;49m\u001b[38;5;124;43m'\u001b[39;49m\u001b[43m:\u001b[49m\u001b[43m \u001b[49m\u001b[43mby\u001b[49m\u001b[43m,\u001b[49m\n\u001b[0;32m    859\u001b[0m \u001b[43m    \u001b[49m\u001b[38;5;124;43m'\u001b[39;49m\u001b[38;5;124;43mvalue\u001b[39;49m\u001b[38;5;124;43m'\u001b[39;49m\u001b[43m:\u001b[49m\u001b[43m \u001b[49m\u001b[43mvalue\u001b[49m\u001b[43m}\u001b[49m\u001b[43m)\u001b[49m[\u001b[38;5;124m'\u001b[39m\u001b[38;5;124mvalue\u001b[39m\u001b[38;5;124m'\u001b[39m]\n",
      "File \u001b[1;32m~\\anaconda3\\lib\\site-packages\\selenium\\webdriver\\remote\\webdriver.py:435\u001b[0m, in \u001b[0;36mWebDriver.execute\u001b[1;34m(self, driver_command, params)\u001b[0m\n\u001b[0;32m    433\u001b[0m response \u001b[38;5;241m=\u001b[39m \u001b[38;5;28mself\u001b[39m\u001b[38;5;241m.\u001b[39mcommand_executor\u001b[38;5;241m.\u001b[39mexecute(driver_command, params)\n\u001b[0;32m    434\u001b[0m \u001b[38;5;28;01mif\u001b[39;00m response:\n\u001b[1;32m--> 435\u001b[0m     \u001b[38;5;28;43mself\u001b[39;49m\u001b[38;5;241;43m.\u001b[39;49m\u001b[43merror_handler\u001b[49m\u001b[38;5;241;43m.\u001b[39;49m\u001b[43mcheck_response\u001b[49m\u001b[43m(\u001b[49m\u001b[43mresponse\u001b[49m\u001b[43m)\u001b[49m\n\u001b[0;32m    436\u001b[0m     response[\u001b[38;5;124m'\u001b[39m\u001b[38;5;124mvalue\u001b[39m\u001b[38;5;124m'\u001b[39m] \u001b[38;5;241m=\u001b[39m \u001b[38;5;28mself\u001b[39m\u001b[38;5;241m.\u001b[39m_unwrap_value(\n\u001b[0;32m    437\u001b[0m         response\u001b[38;5;241m.\u001b[39mget(\u001b[38;5;124m'\u001b[39m\u001b[38;5;124mvalue\u001b[39m\u001b[38;5;124m'\u001b[39m, \u001b[38;5;28;01mNone\u001b[39;00m))\n\u001b[0;32m    438\u001b[0m     \u001b[38;5;28;01mreturn\u001b[39;00m response\n",
      "File \u001b[1;32m~\\anaconda3\\lib\\site-packages\\selenium\\webdriver\\remote\\errorhandler.py:247\u001b[0m, in \u001b[0;36mErrorHandler.check_response\u001b[1;34m(self, response)\u001b[0m\n\u001b[0;32m    245\u001b[0m         alert_text \u001b[38;5;241m=\u001b[39m value[\u001b[38;5;124m'\u001b[39m\u001b[38;5;124malert\u001b[39m\u001b[38;5;124m'\u001b[39m]\u001b[38;5;241m.\u001b[39mget(\u001b[38;5;124m'\u001b[39m\u001b[38;5;124mtext\u001b[39m\u001b[38;5;124m'\u001b[39m)\n\u001b[0;32m    246\u001b[0m     \u001b[38;5;28;01mraise\u001b[39;00m exception_class(message, screen, stacktrace, alert_text)  \u001b[38;5;66;03m# type: ignore[call-arg]  # mypy is not smart enough here\u001b[39;00m\n\u001b[1;32m--> 247\u001b[0m \u001b[38;5;28;01mraise\u001b[39;00m exception_class(message, screen, stacktrace)\n",
      "\u001b[1;31mNoSuchElementException\u001b[0m: Message: no such element: Unable to locate element: {\"method\":\"xpath\",\"selector\":\"/html/body/div[1]/div/div[1]/div[1]/div[2]/div[2]/form/div/button/svg/g/path[2]\"}\n  (Session info: chrome=103.0.5060.114)\nStacktrace:\nBacktrace:\n\tOrdinal0 [0x003D6463+2188387]\n\tOrdinal0 [0x0036E461+1762401]\n\tOrdinal0 [0x00283D78+802168]\n\tOrdinal0 [0x002B1880+989312]\n\tOrdinal0 [0x002B1B1B+989979]\n\tOrdinal0 [0x002DE912+1173778]\n\tOrdinal0 [0x002CC824+1099812]\n\tOrdinal0 [0x002DCC22+1166370]\n\tOrdinal0 [0x002CC5F6+1099254]\n\tOrdinal0 [0x002A6BE0+945120]\n\tOrdinal0 [0x002A7AD6+948950]\n\tGetHandleVerifier [0x006771F2+2712546]\n\tGetHandleVerifier [0x0066886D+2652765]\n\tGetHandleVerifier [0x0046002A+520730]\n\tGetHandleVerifier [0x0045EE06+516086]\n\tOrdinal0 [0x0037468B+1787531]\n\tOrdinal0 [0x00378E88+1805960]\n\tOrdinal0 [0x00378F75+1806197]\n\tOrdinal0 [0x00381DF1+1842673]\n\tBaseThreadInitThunk [0x7649FA29+25]\n\tRtlGetAppContainerNamedObjectPath [0x771E7A9E+286]\n\tRtlGetAppContainerNamedObjectPath [0x771E7A6E+238]\n"
     ]
    }
   ],
   "source": [
    "search = driver.find_element(By.XPATH, '/html/body/div[1]/div/div[1]/div[1]/div[2]/div[2]/form/div/button/svg/g/path[2]')"
   ]
  },
  {
   "cell_type": "code",
   "execution_count": null,
   "id": "15137353",
   "metadata": {},
   "outputs": [],
   "source": []
  },
  {
   "cell_type": "code",
   "execution_count": 130,
   "id": "29f9c3f6",
   "metadata": {},
   "outputs": [
    {
     "data": {
      "text/plain": [
       "40"
      ]
     },
     "execution_count": 130,
     "metadata": {},
     "output_type": "execute_result"
    }
   ],
   "source": [
    "glass = driver.find_elements(By.XPATH, \"//div[@class = '_2WkVRV']\") \n",
    "len(glass)"
   ]
  },
  {
   "cell_type": "code",
   "execution_count": 131,
   "id": "82c37a2e",
   "metadata": {},
   "outputs": [
    {
     "data": {
      "text/plain": [
       "['Singco India',\n",
       " 'VINCENT CHASE',\n",
       " 'DAHAAZIL',\n",
       " 'Fastrack',\n",
       " 'New Specs',\n",
       " 'Elligator',\n",
       " 'SUNBEE',\n",
       " 'ROZZETTA CRAFT',\n",
       " 'PIRASO',\n",
       " 'SRPM',\n",
       " 'SUNBEE',\n",
       " 'povty',\n",
       " 'SHAAH COLLECTIONS',\n",
       " 'PIRASO',\n",
       " 'Fastrack',\n",
       " 'Arnette',\n",
       " 'PIRASO',\n",
       " 'Lee Topper',\n",
       " 'PIRASO',\n",
       " 'john jacobs',\n",
       " 'Lee Topper',\n",
       " 'PIRASO',\n",
       " 'PIRASO',\n",
       " 'ROYAL SON',\n",
       " 'ROZZETTA CRAFT',\n",
       " 'PIRASO',\n",
       " 'Fastrack',\n",
       " 'VINCENT CHASE',\n",
       " 'SHAAH COLLECTIONS',\n",
       " 'ROZZETTA CRAFT',\n",
       " 'Sewell',\n",
       " 'ROYAL SON',\n",
       " 'ROZZETTA CRAFT',\n",
       " 'Mi',\n",
       " 'NuVew',\n",
       " 'VINCENT CHASE',\n",
       " 'Fastrack',\n",
       " 'SUNBEE',\n",
       " 'New Specs',\n",
       " 'Sewell']"
      ]
     },
     "execution_count": 131,
     "metadata": {},
     "output_type": "execute_result"
    }
   ],
   "source": [
    "glass_name = []\n",
    "for g in glass:\n",
    "    glass_name.append(g.text)\n",
    "glass_name"
   ]
  },
  {
   "cell_type": "code",
   "execution_count": 132,
   "id": "b5259b90",
   "metadata": {},
   "outputs": [
    {
     "data": {
      "text/plain": [
       "40"
      ]
     },
     "execution_count": 132,
     "metadata": {},
     "output_type": "execute_result"
    }
   ],
   "source": [
    "feature = driver.find_elements(By.XPATH, \"//a[@class = 'IRpwTa']\") \n",
    "len(feature)"
   ]
  },
  {
   "cell_type": "code",
   "execution_count": 133,
   "id": "5281a137",
   "metadata": {},
   "outputs": [
    {
     "data": {
      "text/plain": [
       "['Gradient, Toughened Glass Lens, UV Protection Retro Squ...',\n",
       " 'by Lenskart Polarized, UV Protection Cat-eye Sunglasses...',\n",
       " 'UV Protection, Night Vision, Riding Glasses Wayfarer, W...',\n",
       " 'UV Protection Rectangular Sunglasses (Free Size)',\n",
       " 'UV Protection Rectangular Sunglasses (Free Size)',\n",
       " 'UV Protection Round Sunglasses (54)',\n",
       " 'UV Protection, Polarized Wayfarer Sunglasses (Free Size...',\n",
       " 'UV Protection Spectacle Sunglasses (Free Size)',\n",
       " 'UV Protection Aviator Sunglasses (54)',\n",
       " 'UV Protection Wayfarer Sunglasses (50)',\n",
       " 'UV Protection, Polarized, Mirrored Retro Square Sunglas...',\n",
       " 'UV Protection Retro Square Sunglasses (Free Size)',\n",
       " 'UV Protection, Polarized, Mirrored Rectangular Sunglass...',\n",
       " 'UV Protection Aviator Sunglasses (54)',\n",
       " 'UV Protection Aviator Sunglasses (Free Size)',\n",
       " 'Others Retro Square Sunglasses (55)',\n",
       " 'UV Protection Aviator Sunglasses (58)',\n",
       " 'UV Protection Cat-eye Sunglasses (Free Size)',\n",
       " 'UV Protection Rectangular Sunglasses (52)',\n",
       " 'UV Protection Wayfarer Sunglasses (46)',\n",
       " 'Riding Glasses Wrap-around Sunglasses (Free Size)',\n",
       " 'UV Protection Wayfarer Sunglasses (32)',\n",
       " 'UV Protection Aviator Sunglasses (54)',\n",
       " 'Polarized, UV Protection Wrap-around Sunglasses (62)',\n",
       " 'UV Protection Rectangular Sunglasses (Free Size)',\n",
       " 'UV Protection Over-sized Sunglasses (65)',\n",
       " 'Gradient, UV Protection Wayfarer Sunglasses (Free Size)',\n",
       " 'by Lenskart Polarized, UV Protection Round Sunglasses (...',\n",
       " 'UV Protection Round Sunglasses (Free Size)',\n",
       " 'Polarized, Riding Glasses Sports, Wrap-around Sunglasse...',\n",
       " 'Mirrored, Night Vision, UV Protection, Riding Glasses S...',\n",
       " 'Polarized, UV Protection Retro Square Sunglasses (62)',\n",
       " 'UV Protection, Gradient Retro Square Sunglasses (Free S...',\n",
       " 'Polarized Aviator Sunglasses (Free Size)',\n",
       " 'UV Protection Sports Sunglasses (62)',\n",
       " 'by Lenskart Polarized, UV Protection Rectangular Sungla...',\n",
       " 'UV Protection Aviator Sunglasses (58)',\n",
       " 'UV Protection, Polarized, Mirrored Wayfarer Sunglasses ...',\n",
       " 'Mirrored, UV Protection, Riding Glasses, Others Round S...',\n",
       " 'Polarized Butterfly Sunglasses (Free Size)']"
      ]
     },
     "execution_count": 133,
     "metadata": {},
     "output_type": "execute_result"
    }
   ],
   "source": [
    "glass_features = []\n",
    "for i in feature:\n",
    "    glass_features.append(i.text)\n",
    "glass_features"
   ]
  },
  {
   "cell_type": "code",
   "execution_count": 134,
   "id": "605de609",
   "metadata": {},
   "outputs": [
    {
     "data": {
      "text/plain": [
       "40"
      ]
     },
     "execution_count": 134,
     "metadata": {},
     "output_type": "execute_result"
    }
   ],
   "source": [
    "price = driver.find_elements(By.XPATH, \"//div[@class = '_30jeq3']\") \n",
    "len(price)"
   ]
  },
  {
   "cell_type": "code",
   "execution_count": 135,
   "id": "41eba733",
   "metadata": {},
   "outputs": [
    {
     "data": {
      "text/plain": [
       "['₹598',\n",
       " '₹799',\n",
       " '₹177',\n",
       " '₹639',\n",
       " '₹264',\n",
       " '₹315',\n",
       " '₹283',\n",
       " '₹379',\n",
       " '₹224',\n",
       " '₹224',\n",
       " '₹259',\n",
       " '₹319',\n",
       " '₹195',\n",
       " '₹224',\n",
       " '₹639',\n",
       " '₹7,009',\n",
       " '₹359',\n",
       " '₹229',\n",
       " '₹306',\n",
       " '₹3,000',\n",
       " '₹299',\n",
       " '₹226',\n",
       " '₹246',\n",
       " '₹759',\n",
       " '₹303',\n",
       " '₹410',\n",
       " '₹719',\n",
       " '₹849',\n",
       " '₹279',\n",
       " '₹474',\n",
       " '₹265',\n",
       " '₹854',\n",
       " '₹331',\n",
       " '₹839',\n",
       " '₹291',\n",
       " '₹749',\n",
       " '₹1,039',\n",
       " '₹283',\n",
       " '₹299',\n",
       " '₹616']"
      ]
     },
     "execution_count": 135,
     "metadata": {},
     "output_type": "execute_result"
    }
   ],
   "source": [
    "glass_price = []\n",
    "for p in price:\n",
    "    glass_price.append(p.text)\n",
    "glass_price"
   ]
  },
  {
   "cell_type": "code",
   "execution_count": 136,
   "id": "3df3b6a1",
   "metadata": {},
   "outputs": [
    {
     "data": {
      "text/plain": [
       "40"
      ]
     },
     "execution_count": 136,
     "metadata": {},
     "output_type": "execute_result"
    }
   ],
   "source": [
    "discount = driver.find_elements(By.XPATH, \"//div[@class = '_3Ay6Sb']\") \n",
    "len(discount)"
   ]
  },
  {
   "cell_type": "code",
   "execution_count": 137,
   "id": "2d72576f",
   "metadata": {},
   "outputs": [
    {
     "data": {
      "text/plain": [
       "['80% off',\n",
       " '60% off',\n",
       " '82% off',\n",
       " '20% off',\n",
       " '89% off',\n",
       " '87% off',\n",
       " '78% off',\n",
       " '81% off',\n",
       " '85% off',\n",
       " '82% off',\n",
       " '80% off',\n",
       " '68% off',\n",
       " '88% off',\n",
       " '85% off',\n",
       " '20% off',\n",
       " '10% off',\n",
       " '86% off',\n",
       " '82% off',\n",
       " '88% off',\n",
       " '50% off',\n",
       " '88% off',\n",
       " '85% off',\n",
       " '84% off',\n",
       " '62% off',\n",
       " '79% off',\n",
       " '84% off',\n",
       " '20% off',\n",
       " '57% off',\n",
       " '78% off',\n",
       " '76% off',\n",
       " '82% off',\n",
       " '57% off',\n",
       " '83% off',\n",
       " '30% off',\n",
       " '76% off',\n",
       " '62% off',\n",
       " '20% off',\n",
       " '78% off',\n",
       " '81% off',\n",
       " '69% off']"
      ]
     },
     "execution_count": 137,
     "metadata": {},
     "output_type": "execute_result"
    }
   ],
   "source": [
    "discounts = []\n",
    "for d in discount:\n",
    "    discounts.append(d.text)\n",
    "discounts"
   ]
  },
  {
   "cell_type": "code",
   "execution_count": 141,
   "id": "b6e83cff",
   "metadata": {},
   "outputs": [
    {
     "data": {
      "text/plain": [
       "<selenium.webdriver.remote.webelement.WebElement (session=\"3d2841884dfb62fcb4bba958b352946d\", element=\"2c4ac379-d2c9-4ae6-b282-33a0ff1ea508\")>"
      ]
     },
     "execution_count": 141,
     "metadata": {},
     "output_type": "execute_result"
    }
   ],
   "source": [
    "next_btn = driver.find_element(By.XPATH, \"/html/body/div/div/div[3]/div[1]/div[2]/div[12]/div/div/nav/a[11]\")\n",
    "next_btn  "
   ]
  },
  {
   "cell_type": "code",
   "execution_count": 142,
   "id": "dc71f44d",
   "metadata": {},
   "outputs": [],
   "source": [
    "next_btn.click()"
   ]
  },
  {
   "cell_type": "code",
   "execution_count": 143,
   "id": "6eac7fa2",
   "metadata": {},
   "outputs": [
    {
     "data": {
      "text/plain": [
       "40"
      ]
     },
     "execution_count": 143,
     "metadata": {},
     "output_type": "execute_result"
    }
   ],
   "source": [
    "glass1 = driver.find_elements(By.XPATH, \"//div[@class = '_2WkVRV']\") \n",
    "len(glass)"
   ]
  },
  {
   "cell_type": "code",
   "execution_count": 144,
   "id": "a37fa2e7",
   "metadata": {},
   "outputs": [
    {
     "data": {
      "text/plain": [
       "['New Specs',\n",
       " 'Fastrack',\n",
       " 'SRPM',\n",
       " 'VINCENT CHASE',\n",
       " 'Fastrack',\n",
       " 'Lee Topper',\n",
       " 'ROZZETTA CRAFT',\n",
       " 'GANSTA',\n",
       " 'PIRASO',\n",
       " 'Fastrack',\n",
       " 'CRYSTAL CART',\n",
       " 'povty',\n",
       " 'DEIXELS',\n",
       " 'PHENOMENAL',\n",
       " 'kingsunglasses',\n",
       " 'john jacobs',\n",
       " 'ROYAL SON',\n",
       " 'ROYAL SON',\n",
       " 'ROYAL SON',\n",
       " 'ROYAL SON',\n",
       " 'Rich Club',\n",
       " 'kingsunglasses',\n",
       " 'ROYAL SON',\n",
       " 'Sewell',\n",
       " 'Fastrack',\n",
       " 'ROZZETTA CRAFT',\n",
       " 'Elligator',\n",
       " 'Sewell',\n",
       " 'SRPM',\n",
       " 'New Specs',\n",
       " 'Fastrack',\n",
       " 'VINCENT CHASE',\n",
       " 'Singco India',\n",
       " 'AISLIN',\n",
       " 'VINCENT CHASE',\n",
       " 'ROYAL SON',\n",
       " 'Singco India',\n",
       " 'kingsunglasses',\n",
       " 'kingsunglasses',\n",
       " 'ROZZETTA CRAFT']"
      ]
     },
     "execution_count": 144,
     "metadata": {},
     "output_type": "execute_result"
    }
   ],
   "source": [
    "glass_name1 = []\n",
    "for g in glass1:\n",
    "    glass_name1.append(g.text)\n",
    "glass_name1"
   ]
  },
  {
   "cell_type": "code",
   "execution_count": 145,
   "id": "18b842f4",
   "metadata": {},
   "outputs": [
    {
     "data": {
      "text/plain": [
       "40"
      ]
     },
     "execution_count": 145,
     "metadata": {},
     "output_type": "execute_result"
    }
   ],
   "source": [
    "feature1 = driver.find_elements(By.XPATH, \"//a[@class = 'IRpwTa']\") \n",
    "len(feature1)"
   ]
  },
  {
   "cell_type": "code",
   "execution_count": 146,
   "id": "1a0a6566",
   "metadata": {},
   "outputs": [
    {
     "data": {
      "text/plain": [
       "['Mirrored, UV Protection, Riding Glasses, Others Round S...',\n",
       " 'UV Protection Wayfarer Sunglasses (Free Size)',\n",
       " 'UV Protection Wayfarer Sunglasses (53)',\n",
       " 'by Lenskart UV Protection Wayfarer Sunglasses (51)',\n",
       " 'UV Protection Wayfarer Sunglasses (Free Size)',\n",
       " 'UV Protection Rectangular Sunglasses (Free Size)',\n",
       " 'UV Protection, Gradient Rectangular Sunglasses (Free Si...',\n",
       " 'UV Protection Aviator Sunglasses (57)',\n",
       " 'UV Protection Aviator Sunglasses (55)',\n",
       " 'Gradient, UV Protection Wayfarer Sunglasses (Free Size)',\n",
       " 'Polarized, UV Protection, Mirrored, Gradient Rectangula...',\n",
       " 'UV Protection Retro Square Sunglasses (Free Size)',\n",
       " 'UV Protection Aviator Sunglasses (Free Size)',\n",
       " 'UV Protection Retro Square Sunglasses (Free Size)',\n",
       " 'UV Protection Round Sunglasses (54)',\n",
       " 'UV Protection Wayfarer Sunglasses (46)',\n",
       " 'Mirrored Aviator Sunglasses (58)',\n",
       " 'Mirrored Aviator Sunglasses (55)',\n",
       " 'Mirrored Aviator Sunglasses (Free Size)',\n",
       " 'Polarized, UV Protection Retro Square Sunglasses (62)',\n",
       " 'UV Protection Retro Square Sunglasses (54)',\n",
       " 'UV Protection Rectangular Sunglasses (55)',\n",
       " 'Mirrored Aviator Sunglasses (55)',\n",
       " 'Polarized Butterfly Sunglasses (Free Size)',\n",
       " 'Mirrored, UV Protection Wayfarer Sunglasses (Free Size)',\n",
       " 'UV Protection Retro Square Sunglasses (Free Size)',\n",
       " 'UV Protection, Riding Glasses Rectangular, Retro Square...',\n",
       " 'Polarized Butterfly Sunglasses (Free Size)',\n",
       " 'Night Vision, UV Protection Round Sunglasses (54)',\n",
       " 'UV Protection Round Sunglasses (Free Size)',\n",
       " 'UV Protection Shield Sunglasses (Free Size)',\n",
       " 'by Lenskart UV Protection Rectangular Sunglasses (54)',\n",
       " 'Gradient, Toughened Glass Lens, UV Protection Retro Squ...',\n",
       " 'UV Protection, Gradient Butterfly, Retro Square Sunglas...',\n",
       " 'by Lenskart Polarized, UV Protection Wayfarer Sunglasse...',\n",
       " 'Polarized, UV Protection Wrap-around Sunglasses (62)',\n",
       " 'Gradient, Toughened Glass Lens, UV Protection Retro Squ...',\n",
       " 'UV Protection Round Sunglasses (Free Size)',\n",
       " 'UV Protection, Mirrored Aviator Sunglasses (Free Size)',\n",
       " 'UV Protection Aviator Sunglasses (62)']"
      ]
     },
     "execution_count": 146,
     "metadata": {},
     "output_type": "execute_result"
    }
   ],
   "source": [
    "glass_features1 = []\n",
    "for i in feature1:\n",
    "    glass_features1.append(i.text)\n",
    "glass_features1"
   ]
  },
  {
   "cell_type": "code",
   "execution_count": 147,
   "id": "ea8d1bf5",
   "metadata": {},
   "outputs": [
    {
     "data": {
      "text/plain": [
       "40"
      ]
     },
     "execution_count": 147,
     "metadata": {},
     "output_type": "execute_result"
    }
   ],
   "source": [
    "price1 = driver.find_elements(By.XPATH, \"//div[@class = '_30jeq3']\") \n",
    "len(price1)"
   ]
  },
  {
   "cell_type": "code",
   "execution_count": 148,
   "id": "e079f2c8",
   "metadata": {},
   "outputs": [
    {
     "data": {
      "text/plain": [
       "['₹299',\n",
       " '₹759',\n",
       " '₹249',\n",
       " '₹749',\n",
       " '₹759',\n",
       " '₹219',\n",
       " '₹379',\n",
       " '₹314',\n",
       " '₹246',\n",
       " '₹719',\n",
       " '₹529',\n",
       " '₹319',\n",
       " '₹236',\n",
       " '₹360',\n",
       " '₹194',\n",
       " '₹3,000',\n",
       " '₹379',\n",
       " '₹379',\n",
       " '₹379',\n",
       " '₹854',\n",
       " '₹265',\n",
       " '₹189',\n",
       " '₹379',\n",
       " '₹616',\n",
       " '₹899',\n",
       " '₹474',\n",
       " '₹379',\n",
       " '₹616',\n",
       " '₹233',\n",
       " '₹268',\n",
       " '₹719',\n",
       " '₹749',\n",
       " '₹598',\n",
       " '₹498',\n",
       " '₹949',\n",
       " '₹799',\n",
       " '₹664',\n",
       " '₹329',\n",
       " '₹269',\n",
       " '₹616']"
      ]
     },
     "execution_count": 148,
     "metadata": {},
     "output_type": "execute_result"
    }
   ],
   "source": [
    "glass_price1 = []\n",
    "for p in price1:\n",
    "    glass_price1.append(p.text)\n",
    "glass_price1"
   ]
  },
  {
   "cell_type": "code",
   "execution_count": 149,
   "id": "02614f4e",
   "metadata": {},
   "outputs": [
    {
     "data": {
      "text/plain": [
       "40"
      ]
     },
     "execution_count": 149,
     "metadata": {},
     "output_type": "execute_result"
    }
   ],
   "source": [
    "discount1 = driver.find_elements(By.XPATH, \"//div[@class = '_3Ay6Sb']\") \n",
    "len(discount1)"
   ]
  },
  {
   "cell_type": "code",
   "execution_count": 150,
   "id": "33e5fc39",
   "metadata": {},
   "outputs": [
    {
     "data": {
      "text/plain": [
       "['81% off',\n",
       " '15% off',\n",
       " '75% off',\n",
       " '62% off',\n",
       " '15% off',\n",
       " '78% off',\n",
       " '81% off',\n",
       " '84% off',\n",
       " '84% off',\n",
       " '20% off',\n",
       " '74% off',\n",
       " '68% off',\n",
       " '80% off',\n",
       " '81% off',\n",
       " '80% off',\n",
       " '50% off',\n",
       " '74% off',\n",
       " '74% off',\n",
       " '74% off',\n",
       " '57% off',\n",
       " '62% off',\n",
       " '85% off',\n",
       " '74% off',\n",
       " '69% off',\n",
       " '10% off',\n",
       " '78% off',\n",
       " '74% off',\n",
       " '69% off',\n",
       " '76% off',\n",
       " '79% off',\n",
       " '20% off',\n",
       " '62% off',\n",
       " '80% off',\n",
       " '67% off',\n",
       " '52% off',\n",
       " '60% off',\n",
       " '79% off',\n",
       " '79% off',\n",
       " '85% off',\n",
       " '75% off']"
      ]
     },
     "execution_count": 150,
     "metadata": {},
     "output_type": "execute_result"
    }
   ],
   "source": [
    "discounts1 = []\n",
    "for d in discount1:\n",
    "    discounts1.append(d.text)\n",
    "discounts1"
   ]
  },
  {
   "cell_type": "code",
   "execution_count": 159,
   "id": "bc62da2f",
   "metadata": {},
   "outputs": [],
   "source": [
    "next_btn.click()"
   ]
  },
  {
   "cell_type": "code",
   "execution_count": 161,
   "id": "ed607fe3",
   "metadata": {},
   "outputs": [
    {
     "data": {
      "text/plain": [
       "40"
      ]
     },
     "execution_count": 161,
     "metadata": {},
     "output_type": "execute_result"
    }
   ],
   "source": [
    "glass2 = driver.find_elements(By.XPATH, \"//div[@class = '_2WkVRV']\") \n",
    "len(glass2)"
   ]
  },
  {
   "cell_type": "code",
   "execution_count": 162,
   "id": "2a5a6b67",
   "metadata": {},
   "outputs": [
    {
     "data": {
      "text/plain": [
       "20"
      ]
     },
     "execution_count": 162,
     "metadata": {},
     "output_type": "execute_result"
    }
   ],
   "source": [
    "glass_name2 = []\n",
    "for g in glass2:\n",
    "    glass_name2.append(g.text)\n",
    "glass_name2 = glass_name2[0:20]\n",
    "len(glass_name2)"
   ]
  },
  {
   "cell_type": "code",
   "execution_count": 163,
   "id": "5f15ee11",
   "metadata": {},
   "outputs": [
    {
     "data": {
      "text/plain": [
       "40"
      ]
     },
     "execution_count": 163,
     "metadata": {},
     "output_type": "execute_result"
    }
   ],
   "source": [
    "feature2 = driver.find_elements(By.XPATH, \"//a[@class = 'IRpwTa']\") \n",
    "len(feature2)"
   ]
  },
  {
   "cell_type": "code",
   "execution_count": 165,
   "id": "63208260",
   "metadata": {},
   "outputs": [
    {
     "data": {
      "text/plain": [
       "['Gradient, Toughened Glass Lens, UV Protection Retro Squ...',\n",
       " 'by Lenskart Polarized, UV Protection Cat-eye Sunglasses...',\n",
       " 'UV Protection, Night Vision, Riding Glasses Wayfarer, W...',\n",
       " 'UV Protection Rectangular Sunglasses (Free Size)',\n",
       " 'UV Protection Rectangular Sunglasses (Free Size)',\n",
       " 'UV Protection Round Sunglasses (54)',\n",
       " 'UV Protection, Polarized Wayfarer Sunglasses (Free Size...',\n",
       " 'UV Protection Spectacle Sunglasses (Free Size)',\n",
       " 'UV Protection Aviator Sunglasses (54)',\n",
       " 'UV Protection Wayfarer Sunglasses (50)',\n",
       " 'UV Protection, Polarized, Mirrored Retro Square Sunglas...',\n",
       " 'UV Protection Retro Square Sunglasses (Free Size)',\n",
       " 'UV Protection, Polarized, Mirrored Rectangular Sunglass...',\n",
       " 'UV Protection Aviator Sunglasses (54)',\n",
       " 'UV Protection Aviator Sunglasses (Free Size)',\n",
       " 'Others Retro Square Sunglasses (55)',\n",
       " 'UV Protection Aviator Sunglasses (58)',\n",
       " 'UV Protection Cat-eye Sunglasses (Free Size)',\n",
       " 'UV Protection Rectangular Sunglasses (52)',\n",
       " 'UV Protection Wayfarer Sunglasses (46)']"
      ]
     },
     "execution_count": 165,
     "metadata": {},
     "output_type": "execute_result"
    }
   ],
   "source": [
    "glass_features2 = []\n",
    "for i in feature2:\n",
    "    glass_features2.append(i.text)\n",
    "glass_features2 = glass_features[0:20]\n",
    "glass_features2"
   ]
  },
  {
   "cell_type": "code",
   "execution_count": 166,
   "id": "29a19439",
   "metadata": {},
   "outputs": [
    {
     "data": {
      "text/plain": [
       "40"
      ]
     },
     "execution_count": 166,
     "metadata": {},
     "output_type": "execute_result"
    }
   ],
   "source": [
    "price2 = driver.find_elements(By.XPATH, \"//div[@class = '_30jeq3']\") \n",
    "len(price2)"
   ]
  },
  {
   "cell_type": "code",
   "execution_count": 167,
   "id": "89af84e4",
   "metadata": {},
   "outputs": [
    {
     "data": {
      "text/plain": [
       "['₹269',\n",
       " '₹265',\n",
       " '₹289',\n",
       " '₹598',\n",
       " '₹749',\n",
       " '₹949',\n",
       " '₹639',\n",
       " '₹379',\n",
       " '₹260',\n",
       " '₹379',\n",
       " '₹899',\n",
       " '₹319',\n",
       " '₹735',\n",
       " '₹749',\n",
       " '₹276',\n",
       " '₹649',\n",
       " '₹664',\n",
       " '₹324',\n",
       " '₹405',\n",
       " '₹7,009']"
      ]
     },
     "execution_count": 167,
     "metadata": {},
     "output_type": "execute_result"
    }
   ],
   "source": [
    "glass_price2 = []\n",
    "for p in price2:\n",
    "    glass_price2.append(p.text)\n",
    "glass_price2 = glass_price2[0:20]\n",
    "glass_price2"
   ]
  },
  {
   "cell_type": "code",
   "execution_count": 168,
   "id": "a2a067c5",
   "metadata": {},
   "outputs": [
    {
     "data": {
      "text/plain": [
       "40"
      ]
     },
     "execution_count": 168,
     "metadata": {},
     "output_type": "execute_result"
    }
   ],
   "source": [
    "discount2 = driver.find_elements(By.XPATH, \"//div[@class = '_3Ay6Sb']\") \n",
    "len(discount2)"
   ]
  },
  {
   "cell_type": "code",
   "execution_count": 169,
   "id": "6f656154",
   "metadata": {},
   "outputs": [
    {
     "data": {
      "text/plain": [
       "['82% off',\n",
       " '84% off',\n",
       " '85% off',\n",
       " '80% off',\n",
       " '70% off',\n",
       " '52% off',\n",
       " '20% off',\n",
       " '81% off',\n",
       " '67% off',\n",
       " '81% off',\n",
       " '10% off',\n",
       " '68% off',\n",
       " '8% off',\n",
       " '62% off',\n",
       " '88% off',\n",
       " '67% off',\n",
       " '66% off',\n",
       " '80% off',\n",
       " '84% off',\n",
       " '10% off']"
      ]
     },
     "execution_count": 169,
     "metadata": {},
     "output_type": "execute_result"
    }
   ],
   "source": [
    "discounts2 = []\n",
    "for d in discount2:\n",
    "    discounts2.append(d.text)\n",
    "discounts2 = discounts2[0:20]\n",
    "discounts2"
   ]
  },
  {
   "cell_type": "code",
   "execution_count": 138,
   "id": "d54d4c9f",
   "metadata": {},
   "outputs": [],
   "source": [
    "top40 = pd.DataFrame({'Brand':glass_name, 'PRODUCT DESCRIPTION':glass_features, 'PRICE':glass_price, 'DISCOUNT':discounts})"
   ]
  },
  {
   "cell_type": "code",
   "execution_count": 139,
   "id": "2b7a927f",
   "metadata": {},
   "outputs": [
    {
     "data": {
      "text/html": [
       "<div>\n",
       "<style scoped>\n",
       "    .dataframe tbody tr th:only-of-type {\n",
       "        vertical-align: middle;\n",
       "    }\n",
       "\n",
       "    .dataframe tbody tr th {\n",
       "        vertical-align: top;\n",
       "    }\n",
       "\n",
       "    .dataframe thead th {\n",
       "        text-align: right;\n",
       "    }\n",
       "</style>\n",
       "<table border=\"1\" class=\"dataframe\">\n",
       "  <thead>\n",
       "    <tr style=\"text-align: right;\">\n",
       "      <th></th>\n",
       "      <th>Brand</th>\n",
       "      <th>PRODUCT DESCRIPTION</th>\n",
       "      <th>PRICE</th>\n",
       "      <th>DISCOUNT</th>\n",
       "    </tr>\n",
       "  </thead>\n",
       "  <tbody>\n",
       "    <tr>\n",
       "      <th>0</th>\n",
       "      <td>Singco India</td>\n",
       "      <td>Gradient, Toughened Glass Lens, UV Protection ...</td>\n",
       "      <td>₹598</td>\n",
       "      <td>80% off</td>\n",
       "    </tr>\n",
       "    <tr>\n",
       "      <th>1</th>\n",
       "      <td>VINCENT CHASE</td>\n",
       "      <td>by Lenskart Polarized, UV Protection Cat-eye S...</td>\n",
       "      <td>₹799</td>\n",
       "      <td>60% off</td>\n",
       "    </tr>\n",
       "    <tr>\n",
       "      <th>2</th>\n",
       "      <td>DAHAAZIL</td>\n",
       "      <td>UV Protection, Night Vision, Riding Glasses Wa...</td>\n",
       "      <td>₹177</td>\n",
       "      <td>82% off</td>\n",
       "    </tr>\n",
       "    <tr>\n",
       "      <th>3</th>\n",
       "      <td>Fastrack</td>\n",
       "      <td>UV Protection Rectangular Sunglasses (Free Size)</td>\n",
       "      <td>₹639</td>\n",
       "      <td>20% off</td>\n",
       "    </tr>\n",
       "    <tr>\n",
       "      <th>4</th>\n",
       "      <td>New Specs</td>\n",
       "      <td>UV Protection Rectangular Sunglasses (Free Size)</td>\n",
       "      <td>₹264</td>\n",
       "      <td>89% off</td>\n",
       "    </tr>\n",
       "    <tr>\n",
       "      <th>5</th>\n",
       "      <td>Elligator</td>\n",
       "      <td>UV Protection Round Sunglasses (54)</td>\n",
       "      <td>₹315</td>\n",
       "      <td>87% off</td>\n",
       "    </tr>\n",
       "    <tr>\n",
       "      <th>6</th>\n",
       "      <td>SUNBEE</td>\n",
       "      <td>UV Protection, Polarized Wayfarer Sunglasses (...</td>\n",
       "      <td>₹283</td>\n",
       "      <td>78% off</td>\n",
       "    </tr>\n",
       "    <tr>\n",
       "      <th>7</th>\n",
       "      <td>ROZZETTA CRAFT</td>\n",
       "      <td>UV Protection Spectacle Sunglasses (Free Size)</td>\n",
       "      <td>₹379</td>\n",
       "      <td>81% off</td>\n",
       "    </tr>\n",
       "    <tr>\n",
       "      <th>8</th>\n",
       "      <td>PIRASO</td>\n",
       "      <td>UV Protection Aviator Sunglasses (54)</td>\n",
       "      <td>₹224</td>\n",
       "      <td>85% off</td>\n",
       "    </tr>\n",
       "    <tr>\n",
       "      <th>9</th>\n",
       "      <td>SRPM</td>\n",
       "      <td>UV Protection Wayfarer Sunglasses (50)</td>\n",
       "      <td>₹224</td>\n",
       "      <td>82% off</td>\n",
       "    </tr>\n",
       "    <tr>\n",
       "      <th>10</th>\n",
       "      <td>SUNBEE</td>\n",
       "      <td>UV Protection, Polarized, Mirrored Retro Squar...</td>\n",
       "      <td>₹259</td>\n",
       "      <td>80% off</td>\n",
       "    </tr>\n",
       "    <tr>\n",
       "      <th>11</th>\n",
       "      <td>povty</td>\n",
       "      <td>UV Protection Retro Square Sunglasses (Free Size)</td>\n",
       "      <td>₹319</td>\n",
       "      <td>68% off</td>\n",
       "    </tr>\n",
       "    <tr>\n",
       "      <th>12</th>\n",
       "      <td>SHAAH COLLECTIONS</td>\n",
       "      <td>UV Protection, Polarized, Mirrored Rectangular...</td>\n",
       "      <td>₹195</td>\n",
       "      <td>88% off</td>\n",
       "    </tr>\n",
       "    <tr>\n",
       "      <th>13</th>\n",
       "      <td>PIRASO</td>\n",
       "      <td>UV Protection Aviator Sunglasses (54)</td>\n",
       "      <td>₹224</td>\n",
       "      <td>85% off</td>\n",
       "    </tr>\n",
       "    <tr>\n",
       "      <th>14</th>\n",
       "      <td>Fastrack</td>\n",
       "      <td>UV Protection Aviator Sunglasses (Free Size)</td>\n",
       "      <td>₹639</td>\n",
       "      <td>20% off</td>\n",
       "    </tr>\n",
       "    <tr>\n",
       "      <th>15</th>\n",
       "      <td>Arnette</td>\n",
       "      <td>Others Retro Square Sunglasses (55)</td>\n",
       "      <td>₹7,009</td>\n",
       "      <td>10% off</td>\n",
       "    </tr>\n",
       "    <tr>\n",
       "      <th>16</th>\n",
       "      <td>PIRASO</td>\n",
       "      <td>UV Protection Aviator Sunglasses (58)</td>\n",
       "      <td>₹359</td>\n",
       "      <td>86% off</td>\n",
       "    </tr>\n",
       "    <tr>\n",
       "      <th>17</th>\n",
       "      <td>Lee Topper</td>\n",
       "      <td>UV Protection Cat-eye Sunglasses (Free Size)</td>\n",
       "      <td>₹229</td>\n",
       "      <td>82% off</td>\n",
       "    </tr>\n",
       "    <tr>\n",
       "      <th>18</th>\n",
       "      <td>PIRASO</td>\n",
       "      <td>UV Protection Rectangular Sunglasses (52)</td>\n",
       "      <td>₹306</td>\n",
       "      <td>88% off</td>\n",
       "    </tr>\n",
       "    <tr>\n",
       "      <th>19</th>\n",
       "      <td>john jacobs</td>\n",
       "      <td>UV Protection Wayfarer Sunglasses (46)</td>\n",
       "      <td>₹3,000</td>\n",
       "      <td>50% off</td>\n",
       "    </tr>\n",
       "    <tr>\n",
       "      <th>20</th>\n",
       "      <td>Lee Topper</td>\n",
       "      <td>Riding Glasses Wrap-around Sunglasses (Free Size)</td>\n",
       "      <td>₹299</td>\n",
       "      <td>88% off</td>\n",
       "    </tr>\n",
       "    <tr>\n",
       "      <th>21</th>\n",
       "      <td>PIRASO</td>\n",
       "      <td>UV Protection Wayfarer Sunglasses (32)</td>\n",
       "      <td>₹226</td>\n",
       "      <td>85% off</td>\n",
       "    </tr>\n",
       "    <tr>\n",
       "      <th>22</th>\n",
       "      <td>PIRASO</td>\n",
       "      <td>UV Protection Aviator Sunglasses (54)</td>\n",
       "      <td>₹246</td>\n",
       "      <td>84% off</td>\n",
       "    </tr>\n",
       "    <tr>\n",
       "      <th>23</th>\n",
       "      <td>ROYAL SON</td>\n",
       "      <td>Polarized, UV Protection Wrap-around Sunglasse...</td>\n",
       "      <td>₹759</td>\n",
       "      <td>62% off</td>\n",
       "    </tr>\n",
       "    <tr>\n",
       "      <th>24</th>\n",
       "      <td>ROZZETTA CRAFT</td>\n",
       "      <td>UV Protection Rectangular Sunglasses (Free Size)</td>\n",
       "      <td>₹303</td>\n",
       "      <td>79% off</td>\n",
       "    </tr>\n",
       "    <tr>\n",
       "      <th>25</th>\n",
       "      <td>PIRASO</td>\n",
       "      <td>UV Protection Over-sized Sunglasses (65)</td>\n",
       "      <td>₹410</td>\n",
       "      <td>84% off</td>\n",
       "    </tr>\n",
       "    <tr>\n",
       "      <th>26</th>\n",
       "      <td>Fastrack</td>\n",
       "      <td>Gradient, UV Protection Wayfarer Sunglasses (F...</td>\n",
       "      <td>₹719</td>\n",
       "      <td>20% off</td>\n",
       "    </tr>\n",
       "    <tr>\n",
       "      <th>27</th>\n",
       "      <td>VINCENT CHASE</td>\n",
       "      <td>by Lenskart Polarized, UV Protection Round Sun...</td>\n",
       "      <td>₹849</td>\n",
       "      <td>57% off</td>\n",
       "    </tr>\n",
       "    <tr>\n",
       "      <th>28</th>\n",
       "      <td>SHAAH COLLECTIONS</td>\n",
       "      <td>UV Protection Round Sunglasses (Free Size)</td>\n",
       "      <td>₹279</td>\n",
       "      <td>78% off</td>\n",
       "    </tr>\n",
       "    <tr>\n",
       "      <th>29</th>\n",
       "      <td>ROZZETTA CRAFT</td>\n",
       "      <td>Polarized, Riding Glasses Sports, Wrap-around ...</td>\n",
       "      <td>₹474</td>\n",
       "      <td>76% off</td>\n",
       "    </tr>\n",
       "    <tr>\n",
       "      <th>30</th>\n",
       "      <td>Sewell</td>\n",
       "      <td>Mirrored, Night Vision, UV Protection, Riding ...</td>\n",
       "      <td>₹265</td>\n",
       "      <td>82% off</td>\n",
       "    </tr>\n",
       "    <tr>\n",
       "      <th>31</th>\n",
       "      <td>ROYAL SON</td>\n",
       "      <td>Polarized, UV Protection Retro Square Sunglass...</td>\n",
       "      <td>₹854</td>\n",
       "      <td>57% off</td>\n",
       "    </tr>\n",
       "    <tr>\n",
       "      <th>32</th>\n",
       "      <td>ROZZETTA CRAFT</td>\n",
       "      <td>UV Protection, Gradient Retro Square Sunglasse...</td>\n",
       "      <td>₹331</td>\n",
       "      <td>83% off</td>\n",
       "    </tr>\n",
       "    <tr>\n",
       "      <th>33</th>\n",
       "      <td>Mi</td>\n",
       "      <td>Polarized Aviator Sunglasses (Free Size)</td>\n",
       "      <td>₹839</td>\n",
       "      <td>30% off</td>\n",
       "    </tr>\n",
       "    <tr>\n",
       "      <th>34</th>\n",
       "      <td>NuVew</td>\n",
       "      <td>UV Protection Sports Sunglasses (62)</td>\n",
       "      <td>₹291</td>\n",
       "      <td>76% off</td>\n",
       "    </tr>\n",
       "    <tr>\n",
       "      <th>35</th>\n",
       "      <td>VINCENT CHASE</td>\n",
       "      <td>by Lenskart Polarized, UV Protection Rectangul...</td>\n",
       "      <td>₹749</td>\n",
       "      <td>62% off</td>\n",
       "    </tr>\n",
       "    <tr>\n",
       "      <th>36</th>\n",
       "      <td>Fastrack</td>\n",
       "      <td>UV Protection Aviator Sunglasses (58)</td>\n",
       "      <td>₹1,039</td>\n",
       "      <td>20% off</td>\n",
       "    </tr>\n",
       "    <tr>\n",
       "      <th>37</th>\n",
       "      <td>SUNBEE</td>\n",
       "      <td>UV Protection, Polarized, Mirrored Wayfarer Su...</td>\n",
       "      <td>₹283</td>\n",
       "      <td>78% off</td>\n",
       "    </tr>\n",
       "    <tr>\n",
       "      <th>38</th>\n",
       "      <td>New Specs</td>\n",
       "      <td>Mirrored, UV Protection, Riding Glasses, Other...</td>\n",
       "      <td>₹299</td>\n",
       "      <td>81% off</td>\n",
       "    </tr>\n",
       "    <tr>\n",
       "      <th>39</th>\n",
       "      <td>Sewell</td>\n",
       "      <td>Polarized Butterfly Sunglasses (Free Size)</td>\n",
       "      <td>₹616</td>\n",
       "      <td>69% off</td>\n",
       "    </tr>\n",
       "  </tbody>\n",
       "</table>\n",
       "</div>"
      ],
      "text/plain": [
       "                Brand                                PRODUCT DESCRIPTION  \\\n",
       "0        Singco India  Gradient, Toughened Glass Lens, UV Protection ...   \n",
       "1       VINCENT CHASE  by Lenskart Polarized, UV Protection Cat-eye S...   \n",
       "2            DAHAAZIL  UV Protection, Night Vision, Riding Glasses Wa...   \n",
       "3            Fastrack   UV Protection Rectangular Sunglasses (Free Size)   \n",
       "4           New Specs   UV Protection Rectangular Sunglasses (Free Size)   \n",
       "5           Elligator                UV Protection Round Sunglasses (54)   \n",
       "6              SUNBEE  UV Protection, Polarized Wayfarer Sunglasses (...   \n",
       "7      ROZZETTA CRAFT     UV Protection Spectacle Sunglasses (Free Size)   \n",
       "8              PIRASO              UV Protection Aviator Sunglasses (54)   \n",
       "9                SRPM             UV Protection Wayfarer Sunglasses (50)   \n",
       "10             SUNBEE  UV Protection, Polarized, Mirrored Retro Squar...   \n",
       "11              povty  UV Protection Retro Square Sunglasses (Free Size)   \n",
       "12  SHAAH COLLECTIONS  UV Protection, Polarized, Mirrored Rectangular...   \n",
       "13             PIRASO              UV Protection Aviator Sunglasses (54)   \n",
       "14           Fastrack       UV Protection Aviator Sunglasses (Free Size)   \n",
       "15            Arnette                Others Retro Square Sunglasses (55)   \n",
       "16             PIRASO              UV Protection Aviator Sunglasses (58)   \n",
       "17         Lee Topper       UV Protection Cat-eye Sunglasses (Free Size)   \n",
       "18             PIRASO          UV Protection Rectangular Sunglasses (52)   \n",
       "19        john jacobs             UV Protection Wayfarer Sunglasses (46)   \n",
       "20         Lee Topper  Riding Glasses Wrap-around Sunglasses (Free Size)   \n",
       "21             PIRASO             UV Protection Wayfarer Sunglasses (32)   \n",
       "22             PIRASO              UV Protection Aviator Sunglasses (54)   \n",
       "23          ROYAL SON  Polarized, UV Protection Wrap-around Sunglasse...   \n",
       "24     ROZZETTA CRAFT   UV Protection Rectangular Sunglasses (Free Size)   \n",
       "25             PIRASO           UV Protection Over-sized Sunglasses (65)   \n",
       "26           Fastrack  Gradient, UV Protection Wayfarer Sunglasses (F...   \n",
       "27      VINCENT CHASE  by Lenskart Polarized, UV Protection Round Sun...   \n",
       "28  SHAAH COLLECTIONS         UV Protection Round Sunglasses (Free Size)   \n",
       "29     ROZZETTA CRAFT  Polarized, Riding Glasses Sports, Wrap-around ...   \n",
       "30             Sewell  Mirrored, Night Vision, UV Protection, Riding ...   \n",
       "31          ROYAL SON  Polarized, UV Protection Retro Square Sunglass...   \n",
       "32     ROZZETTA CRAFT  UV Protection, Gradient Retro Square Sunglasse...   \n",
       "33                 Mi           Polarized Aviator Sunglasses (Free Size)   \n",
       "34              NuVew               UV Protection Sports Sunglasses (62)   \n",
       "35      VINCENT CHASE  by Lenskart Polarized, UV Protection Rectangul...   \n",
       "36           Fastrack              UV Protection Aviator Sunglasses (58)   \n",
       "37             SUNBEE  UV Protection, Polarized, Mirrored Wayfarer Su...   \n",
       "38          New Specs  Mirrored, UV Protection, Riding Glasses, Other...   \n",
       "39             Sewell         Polarized Butterfly Sunglasses (Free Size)   \n",
       "\n",
       "     PRICE DISCOUNT  \n",
       "0     ₹598  80% off  \n",
       "1     ₹799  60% off  \n",
       "2     ₹177  82% off  \n",
       "3     ₹639  20% off  \n",
       "4     ₹264  89% off  \n",
       "5     ₹315  87% off  \n",
       "6     ₹283  78% off  \n",
       "7     ₹379  81% off  \n",
       "8     ₹224  85% off  \n",
       "9     ₹224  82% off  \n",
       "10    ₹259  80% off  \n",
       "11    ₹319  68% off  \n",
       "12    ₹195  88% off  \n",
       "13    ₹224  85% off  \n",
       "14    ₹639  20% off  \n",
       "15  ₹7,009  10% off  \n",
       "16    ₹359  86% off  \n",
       "17    ₹229  82% off  \n",
       "18    ₹306  88% off  \n",
       "19  ₹3,000  50% off  \n",
       "20    ₹299  88% off  \n",
       "21    ₹226  85% off  \n",
       "22    ₹246  84% off  \n",
       "23    ₹759  62% off  \n",
       "24    ₹303  79% off  \n",
       "25    ₹410  84% off  \n",
       "26    ₹719  20% off  \n",
       "27    ₹849  57% off  \n",
       "28    ₹279  78% off  \n",
       "29    ₹474  76% off  \n",
       "30    ₹265  82% off  \n",
       "31    ₹854  57% off  \n",
       "32    ₹331  83% off  \n",
       "33    ₹839  30% off  \n",
       "34    ₹291  76% off  \n",
       "35    ₹749  62% off  \n",
       "36  ₹1,039  20% off  \n",
       "37    ₹283  78% off  \n",
       "38    ₹299  81% off  \n",
       "39    ₹616  69% off  "
      ]
     },
     "execution_count": 139,
     "metadata": {},
     "output_type": "execute_result"
    }
   ],
   "source": [
    "top40"
   ]
  },
  {
   "cell_type": "code",
   "execution_count": 152,
   "id": "e1f81ed6",
   "metadata": {},
   "outputs": [],
   "source": [
    "top80 = pd.DataFrame({'Brand':glass_name1, 'PRODUCT DESCRIPTION':glass_features1, 'PRICE':glass_price1, 'DISCOUNT':discounts1})"
   ]
  },
  {
   "cell_type": "code",
   "execution_count": 153,
   "id": "a1fa047b",
   "metadata": {},
   "outputs": [
    {
     "data": {
      "text/html": [
       "<div>\n",
       "<style scoped>\n",
       "    .dataframe tbody tr th:only-of-type {\n",
       "        vertical-align: middle;\n",
       "    }\n",
       "\n",
       "    .dataframe tbody tr th {\n",
       "        vertical-align: top;\n",
       "    }\n",
       "\n",
       "    .dataframe thead th {\n",
       "        text-align: right;\n",
       "    }\n",
       "</style>\n",
       "<table border=\"1\" class=\"dataframe\">\n",
       "  <thead>\n",
       "    <tr style=\"text-align: right;\">\n",
       "      <th></th>\n",
       "      <th>Brand</th>\n",
       "      <th>PRODUCT DESCRIPTION</th>\n",
       "      <th>PRICE</th>\n",
       "      <th>DISCOUNT</th>\n",
       "    </tr>\n",
       "  </thead>\n",
       "  <tbody>\n",
       "    <tr>\n",
       "      <th>0</th>\n",
       "      <td>New Specs</td>\n",
       "      <td>Mirrored, UV Protection, Riding Glasses, Other...</td>\n",
       "      <td>₹299</td>\n",
       "      <td>81% off</td>\n",
       "    </tr>\n",
       "    <tr>\n",
       "      <th>1</th>\n",
       "      <td>Fastrack</td>\n",
       "      <td>UV Protection Wayfarer Sunglasses (Free Size)</td>\n",
       "      <td>₹759</td>\n",
       "      <td>15% off</td>\n",
       "    </tr>\n",
       "    <tr>\n",
       "      <th>2</th>\n",
       "      <td>SRPM</td>\n",
       "      <td>UV Protection Wayfarer Sunglasses (53)</td>\n",
       "      <td>₹249</td>\n",
       "      <td>75% off</td>\n",
       "    </tr>\n",
       "    <tr>\n",
       "      <th>3</th>\n",
       "      <td>VINCENT CHASE</td>\n",
       "      <td>by Lenskart UV Protection Wayfarer Sunglasses ...</td>\n",
       "      <td>₹749</td>\n",
       "      <td>62% off</td>\n",
       "    </tr>\n",
       "    <tr>\n",
       "      <th>4</th>\n",
       "      <td>Fastrack</td>\n",
       "      <td>UV Protection Wayfarer Sunglasses (Free Size)</td>\n",
       "      <td>₹759</td>\n",
       "      <td>15% off</td>\n",
       "    </tr>\n",
       "    <tr>\n",
       "      <th>5</th>\n",
       "      <td>Lee Topper</td>\n",
       "      <td>UV Protection Rectangular Sunglasses (Free Size)</td>\n",
       "      <td>₹219</td>\n",
       "      <td>78% off</td>\n",
       "    </tr>\n",
       "    <tr>\n",
       "      <th>6</th>\n",
       "      <td>ROZZETTA CRAFT</td>\n",
       "      <td>UV Protection, Gradient Rectangular Sunglasses...</td>\n",
       "      <td>₹379</td>\n",
       "      <td>81% off</td>\n",
       "    </tr>\n",
       "    <tr>\n",
       "      <th>7</th>\n",
       "      <td>GANSTA</td>\n",
       "      <td>UV Protection Aviator Sunglasses (57)</td>\n",
       "      <td>₹314</td>\n",
       "      <td>84% off</td>\n",
       "    </tr>\n",
       "    <tr>\n",
       "      <th>8</th>\n",
       "      <td>PIRASO</td>\n",
       "      <td>UV Protection Aviator Sunglasses (55)</td>\n",
       "      <td>₹246</td>\n",
       "      <td>84% off</td>\n",
       "    </tr>\n",
       "    <tr>\n",
       "      <th>9</th>\n",
       "      <td>Fastrack</td>\n",
       "      <td>Gradient, UV Protection Wayfarer Sunglasses (F...</td>\n",
       "      <td>₹719</td>\n",
       "      <td>20% off</td>\n",
       "    </tr>\n",
       "    <tr>\n",
       "      <th>10</th>\n",
       "      <td>CRYSTAL CART</td>\n",
       "      <td>Polarized, UV Protection, Mirrored, Gradient R...</td>\n",
       "      <td>₹529</td>\n",
       "      <td>74% off</td>\n",
       "    </tr>\n",
       "    <tr>\n",
       "      <th>11</th>\n",
       "      <td>povty</td>\n",
       "      <td>UV Protection Retro Square Sunglasses (Free Size)</td>\n",
       "      <td>₹319</td>\n",
       "      <td>68% off</td>\n",
       "    </tr>\n",
       "    <tr>\n",
       "      <th>12</th>\n",
       "      <td>DEIXELS</td>\n",
       "      <td>UV Protection Aviator Sunglasses (Free Size)</td>\n",
       "      <td>₹236</td>\n",
       "      <td>80% off</td>\n",
       "    </tr>\n",
       "    <tr>\n",
       "      <th>13</th>\n",
       "      <td>PHENOMENAL</td>\n",
       "      <td>UV Protection Retro Square Sunglasses (Free Size)</td>\n",
       "      <td>₹360</td>\n",
       "      <td>81% off</td>\n",
       "    </tr>\n",
       "    <tr>\n",
       "      <th>14</th>\n",
       "      <td>kingsunglasses</td>\n",
       "      <td>UV Protection Round Sunglasses (54)</td>\n",
       "      <td>₹194</td>\n",
       "      <td>80% off</td>\n",
       "    </tr>\n",
       "    <tr>\n",
       "      <th>15</th>\n",
       "      <td>john jacobs</td>\n",
       "      <td>UV Protection Wayfarer Sunglasses (46)</td>\n",
       "      <td>₹3,000</td>\n",
       "      <td>50% off</td>\n",
       "    </tr>\n",
       "    <tr>\n",
       "      <th>16</th>\n",
       "      <td>ROYAL SON</td>\n",
       "      <td>Mirrored Aviator Sunglasses (58)</td>\n",
       "      <td>₹379</td>\n",
       "      <td>74% off</td>\n",
       "    </tr>\n",
       "    <tr>\n",
       "      <th>17</th>\n",
       "      <td>ROYAL SON</td>\n",
       "      <td>Mirrored Aviator Sunglasses (55)</td>\n",
       "      <td>₹379</td>\n",
       "      <td>74% off</td>\n",
       "    </tr>\n",
       "    <tr>\n",
       "      <th>18</th>\n",
       "      <td>ROYAL SON</td>\n",
       "      <td>Mirrored Aviator Sunglasses (Free Size)</td>\n",
       "      <td>₹379</td>\n",
       "      <td>74% off</td>\n",
       "    </tr>\n",
       "    <tr>\n",
       "      <th>19</th>\n",
       "      <td>ROYAL SON</td>\n",
       "      <td>Polarized, UV Protection Retro Square Sunglass...</td>\n",
       "      <td>₹854</td>\n",
       "      <td>57% off</td>\n",
       "    </tr>\n",
       "    <tr>\n",
       "      <th>20</th>\n",
       "      <td>Rich Club</td>\n",
       "      <td>UV Protection Retro Square Sunglasses (54)</td>\n",
       "      <td>₹265</td>\n",
       "      <td>62% off</td>\n",
       "    </tr>\n",
       "    <tr>\n",
       "      <th>21</th>\n",
       "      <td>kingsunglasses</td>\n",
       "      <td>UV Protection Rectangular Sunglasses (55)</td>\n",
       "      <td>₹189</td>\n",
       "      <td>85% off</td>\n",
       "    </tr>\n",
       "    <tr>\n",
       "      <th>22</th>\n",
       "      <td>ROYAL SON</td>\n",
       "      <td>Mirrored Aviator Sunglasses (55)</td>\n",
       "      <td>₹379</td>\n",
       "      <td>74% off</td>\n",
       "    </tr>\n",
       "    <tr>\n",
       "      <th>23</th>\n",
       "      <td>Sewell</td>\n",
       "      <td>Polarized Butterfly Sunglasses (Free Size)</td>\n",
       "      <td>₹616</td>\n",
       "      <td>69% off</td>\n",
       "    </tr>\n",
       "    <tr>\n",
       "      <th>24</th>\n",
       "      <td>Fastrack</td>\n",
       "      <td>Mirrored, UV Protection Wayfarer Sunglasses (F...</td>\n",
       "      <td>₹899</td>\n",
       "      <td>10% off</td>\n",
       "    </tr>\n",
       "    <tr>\n",
       "      <th>25</th>\n",
       "      <td>ROZZETTA CRAFT</td>\n",
       "      <td>UV Protection Retro Square Sunglasses (Free Size)</td>\n",
       "      <td>₹474</td>\n",
       "      <td>78% off</td>\n",
       "    </tr>\n",
       "    <tr>\n",
       "      <th>26</th>\n",
       "      <td>Elligator</td>\n",
       "      <td>UV Protection, Riding Glasses Rectangular, Ret...</td>\n",
       "      <td>₹379</td>\n",
       "      <td>74% off</td>\n",
       "    </tr>\n",
       "    <tr>\n",
       "      <th>27</th>\n",
       "      <td>Sewell</td>\n",
       "      <td>Polarized Butterfly Sunglasses (Free Size)</td>\n",
       "      <td>₹616</td>\n",
       "      <td>69% off</td>\n",
       "    </tr>\n",
       "    <tr>\n",
       "      <th>28</th>\n",
       "      <td>SRPM</td>\n",
       "      <td>Night Vision, UV Protection Round Sunglasses (54)</td>\n",
       "      <td>₹233</td>\n",
       "      <td>76% off</td>\n",
       "    </tr>\n",
       "    <tr>\n",
       "      <th>29</th>\n",
       "      <td>New Specs</td>\n",
       "      <td>UV Protection Round Sunglasses (Free Size)</td>\n",
       "      <td>₹268</td>\n",
       "      <td>79% off</td>\n",
       "    </tr>\n",
       "    <tr>\n",
       "      <th>30</th>\n",
       "      <td>Fastrack</td>\n",
       "      <td>UV Protection Shield Sunglasses (Free Size)</td>\n",
       "      <td>₹719</td>\n",
       "      <td>20% off</td>\n",
       "    </tr>\n",
       "    <tr>\n",
       "      <th>31</th>\n",
       "      <td>VINCENT CHASE</td>\n",
       "      <td>by Lenskart UV Protection Rectangular Sunglass...</td>\n",
       "      <td>₹749</td>\n",
       "      <td>62% off</td>\n",
       "    </tr>\n",
       "    <tr>\n",
       "      <th>32</th>\n",
       "      <td>Singco India</td>\n",
       "      <td>Gradient, Toughened Glass Lens, UV Protection ...</td>\n",
       "      <td>₹598</td>\n",
       "      <td>80% off</td>\n",
       "    </tr>\n",
       "    <tr>\n",
       "      <th>33</th>\n",
       "      <td>AISLIN</td>\n",
       "      <td>UV Protection, Gradient Butterfly, Retro Squar...</td>\n",
       "      <td>₹498</td>\n",
       "      <td>67% off</td>\n",
       "    </tr>\n",
       "    <tr>\n",
       "      <th>34</th>\n",
       "      <td>VINCENT CHASE</td>\n",
       "      <td>by Lenskart Polarized, UV Protection Wayfarer ...</td>\n",
       "      <td>₹949</td>\n",
       "      <td>52% off</td>\n",
       "    </tr>\n",
       "    <tr>\n",
       "      <th>35</th>\n",
       "      <td>ROYAL SON</td>\n",
       "      <td>Polarized, UV Protection Wrap-around Sunglasse...</td>\n",
       "      <td>₹799</td>\n",
       "      <td>60% off</td>\n",
       "    </tr>\n",
       "    <tr>\n",
       "      <th>36</th>\n",
       "      <td>Singco India</td>\n",
       "      <td>Gradient, Toughened Glass Lens, UV Protection ...</td>\n",
       "      <td>₹664</td>\n",
       "      <td>79% off</td>\n",
       "    </tr>\n",
       "    <tr>\n",
       "      <th>37</th>\n",
       "      <td>kingsunglasses</td>\n",
       "      <td>UV Protection Round Sunglasses (Free Size)</td>\n",
       "      <td>₹329</td>\n",
       "      <td>79% off</td>\n",
       "    </tr>\n",
       "    <tr>\n",
       "      <th>38</th>\n",
       "      <td>kingsunglasses</td>\n",
       "      <td>UV Protection, Mirrored Aviator Sunglasses (Fr...</td>\n",
       "      <td>₹269</td>\n",
       "      <td>85% off</td>\n",
       "    </tr>\n",
       "    <tr>\n",
       "      <th>39</th>\n",
       "      <td>ROZZETTA CRAFT</td>\n",
       "      <td>UV Protection Aviator Sunglasses (62)</td>\n",
       "      <td>₹616</td>\n",
       "      <td>75% off</td>\n",
       "    </tr>\n",
       "  </tbody>\n",
       "</table>\n",
       "</div>"
      ],
      "text/plain": [
       "             Brand                                PRODUCT DESCRIPTION   PRICE  \\\n",
       "0        New Specs  Mirrored, UV Protection, Riding Glasses, Other...    ₹299   \n",
       "1         Fastrack      UV Protection Wayfarer Sunglasses (Free Size)    ₹759   \n",
       "2             SRPM             UV Protection Wayfarer Sunglasses (53)    ₹249   \n",
       "3    VINCENT CHASE  by Lenskart UV Protection Wayfarer Sunglasses ...    ₹749   \n",
       "4         Fastrack      UV Protection Wayfarer Sunglasses (Free Size)    ₹759   \n",
       "5       Lee Topper   UV Protection Rectangular Sunglasses (Free Size)    ₹219   \n",
       "6   ROZZETTA CRAFT  UV Protection, Gradient Rectangular Sunglasses...    ₹379   \n",
       "7           GANSTA              UV Protection Aviator Sunglasses (57)    ₹314   \n",
       "8           PIRASO              UV Protection Aviator Sunglasses (55)    ₹246   \n",
       "9         Fastrack  Gradient, UV Protection Wayfarer Sunglasses (F...    ₹719   \n",
       "10    CRYSTAL CART  Polarized, UV Protection, Mirrored, Gradient R...    ₹529   \n",
       "11           povty  UV Protection Retro Square Sunglasses (Free Size)    ₹319   \n",
       "12         DEIXELS       UV Protection Aviator Sunglasses (Free Size)    ₹236   \n",
       "13      PHENOMENAL  UV Protection Retro Square Sunglasses (Free Size)    ₹360   \n",
       "14  kingsunglasses                UV Protection Round Sunglasses (54)    ₹194   \n",
       "15     john jacobs             UV Protection Wayfarer Sunglasses (46)  ₹3,000   \n",
       "16       ROYAL SON                   Mirrored Aviator Sunglasses (58)    ₹379   \n",
       "17       ROYAL SON                   Mirrored Aviator Sunglasses (55)    ₹379   \n",
       "18       ROYAL SON            Mirrored Aviator Sunglasses (Free Size)    ₹379   \n",
       "19       ROYAL SON  Polarized, UV Protection Retro Square Sunglass...    ₹854   \n",
       "20       Rich Club         UV Protection Retro Square Sunglasses (54)    ₹265   \n",
       "21  kingsunglasses          UV Protection Rectangular Sunglasses (55)    ₹189   \n",
       "22       ROYAL SON                   Mirrored Aviator Sunglasses (55)    ₹379   \n",
       "23          Sewell         Polarized Butterfly Sunglasses (Free Size)    ₹616   \n",
       "24        Fastrack  Mirrored, UV Protection Wayfarer Sunglasses (F...    ₹899   \n",
       "25  ROZZETTA CRAFT  UV Protection Retro Square Sunglasses (Free Size)    ₹474   \n",
       "26       Elligator  UV Protection, Riding Glasses Rectangular, Ret...    ₹379   \n",
       "27          Sewell         Polarized Butterfly Sunglasses (Free Size)    ₹616   \n",
       "28            SRPM  Night Vision, UV Protection Round Sunglasses (54)    ₹233   \n",
       "29       New Specs         UV Protection Round Sunglasses (Free Size)    ₹268   \n",
       "30        Fastrack        UV Protection Shield Sunglasses (Free Size)    ₹719   \n",
       "31   VINCENT CHASE  by Lenskart UV Protection Rectangular Sunglass...    ₹749   \n",
       "32    Singco India  Gradient, Toughened Glass Lens, UV Protection ...    ₹598   \n",
       "33          AISLIN  UV Protection, Gradient Butterfly, Retro Squar...    ₹498   \n",
       "34   VINCENT CHASE  by Lenskart Polarized, UV Protection Wayfarer ...    ₹949   \n",
       "35       ROYAL SON  Polarized, UV Protection Wrap-around Sunglasse...    ₹799   \n",
       "36    Singco India  Gradient, Toughened Glass Lens, UV Protection ...    ₹664   \n",
       "37  kingsunglasses         UV Protection Round Sunglasses (Free Size)    ₹329   \n",
       "38  kingsunglasses  UV Protection, Mirrored Aviator Sunglasses (Fr...    ₹269   \n",
       "39  ROZZETTA CRAFT              UV Protection Aviator Sunglasses (62)    ₹616   \n",
       "\n",
       "   DISCOUNT  \n",
       "0   81% off  \n",
       "1   15% off  \n",
       "2   75% off  \n",
       "3   62% off  \n",
       "4   15% off  \n",
       "5   78% off  \n",
       "6   81% off  \n",
       "7   84% off  \n",
       "8   84% off  \n",
       "9   20% off  \n",
       "10  74% off  \n",
       "11  68% off  \n",
       "12  80% off  \n",
       "13  81% off  \n",
       "14  80% off  \n",
       "15  50% off  \n",
       "16  74% off  \n",
       "17  74% off  \n",
       "18  74% off  \n",
       "19  57% off  \n",
       "20  62% off  \n",
       "21  85% off  \n",
       "22  74% off  \n",
       "23  69% off  \n",
       "24  10% off  \n",
       "25  78% off  \n",
       "26  74% off  \n",
       "27  69% off  \n",
       "28  76% off  \n",
       "29  79% off  \n",
       "30  20% off  \n",
       "31  62% off  \n",
       "32  80% off  \n",
       "33  67% off  \n",
       "34  52% off  \n",
       "35  60% off  \n",
       "36  79% off  \n",
       "37  79% off  \n",
       "38  85% off  \n",
       "39  75% off  "
      ]
     },
     "execution_count": 153,
     "metadata": {},
     "output_type": "execute_result"
    }
   ],
   "source": [
    "top80"
   ]
  },
  {
   "cell_type": "code",
   "execution_count": 170,
   "id": "ccf17dde",
   "metadata": {},
   "outputs": [],
   "source": [
    "top100 = pd.DataFrame({'Brand':glass_name2, 'PRODUCT DESCRIPTION':glass_features2, 'PRICE':glass_price2, 'DISCOUNT':discounts2})"
   ]
  },
  {
   "cell_type": "code",
   "execution_count": 171,
   "id": "eeedf94d",
   "metadata": {},
   "outputs": [],
   "source": [
    "top100_details= pd.concat([top40, top80, top100])"
   ]
  },
  {
   "cell_type": "code",
   "execution_count": 172,
   "id": "00a46984",
   "metadata": {},
   "outputs": [
    {
     "data": {
      "text/plain": [
       "(100, 4)"
      ]
     },
     "execution_count": 172,
     "metadata": {},
     "output_type": "execute_result"
    }
   ],
   "source": [
    "top100_details.shape"
   ]
  },
  {
   "cell_type": "code",
   "execution_count": 173,
   "id": "9a4338e8",
   "metadata": {},
   "outputs": [
    {
     "data": {
      "text/html": [
       "<div>\n",
       "<style scoped>\n",
       "    .dataframe tbody tr th:only-of-type {\n",
       "        vertical-align: middle;\n",
       "    }\n",
       "\n",
       "    .dataframe tbody tr th {\n",
       "        vertical-align: top;\n",
       "    }\n",
       "\n",
       "    .dataframe thead th {\n",
       "        text-align: right;\n",
       "    }\n",
       "</style>\n",
       "<table border=\"1\" class=\"dataframe\">\n",
       "  <thead>\n",
       "    <tr style=\"text-align: right;\">\n",
       "      <th></th>\n",
       "      <th>Brand</th>\n",
       "      <th>PRODUCT DESCRIPTION</th>\n",
       "      <th>PRICE</th>\n",
       "      <th>DISCOUNT</th>\n",
       "    </tr>\n",
       "  </thead>\n",
       "  <tbody>\n",
       "    <tr>\n",
       "      <th>0</th>\n",
       "      <td>Singco India</td>\n",
       "      <td>Gradient, Toughened Glass Lens, UV Protection ...</td>\n",
       "      <td>₹598</td>\n",
       "      <td>80% off</td>\n",
       "    </tr>\n",
       "    <tr>\n",
       "      <th>1</th>\n",
       "      <td>VINCENT CHASE</td>\n",
       "      <td>by Lenskart Polarized, UV Protection Cat-eye S...</td>\n",
       "      <td>₹799</td>\n",
       "      <td>60% off</td>\n",
       "    </tr>\n",
       "    <tr>\n",
       "      <th>2</th>\n",
       "      <td>DAHAAZIL</td>\n",
       "      <td>UV Protection, Night Vision, Riding Glasses Wa...</td>\n",
       "      <td>₹177</td>\n",
       "      <td>82% off</td>\n",
       "    </tr>\n",
       "    <tr>\n",
       "      <th>3</th>\n",
       "      <td>Fastrack</td>\n",
       "      <td>UV Protection Rectangular Sunglasses (Free Size)</td>\n",
       "      <td>₹639</td>\n",
       "      <td>20% off</td>\n",
       "    </tr>\n",
       "    <tr>\n",
       "      <th>4</th>\n",
       "      <td>New Specs</td>\n",
       "      <td>UV Protection Rectangular Sunglasses (Free Size)</td>\n",
       "      <td>₹264</td>\n",
       "      <td>89% off</td>\n",
       "    </tr>\n",
       "    <tr>\n",
       "      <th>...</th>\n",
       "      <td>...</td>\n",
       "      <td>...</td>\n",
       "      <td>...</td>\n",
       "      <td>...</td>\n",
       "    </tr>\n",
       "    <tr>\n",
       "      <th>15</th>\n",
       "      <td>VINCENT CHASE</td>\n",
       "      <td>Others Retro Square Sunglasses (55)</td>\n",
       "      <td>₹649</td>\n",
       "      <td>67% off</td>\n",
       "    </tr>\n",
       "    <tr>\n",
       "      <th>16</th>\n",
       "      <td>ROYAL SON</td>\n",
       "      <td>UV Protection Aviator Sunglasses (58)</td>\n",
       "      <td>₹664</td>\n",
       "      <td>66% off</td>\n",
       "    </tr>\n",
       "    <tr>\n",
       "      <th>17</th>\n",
       "      <td>SHAAH COLLECTIONS</td>\n",
       "      <td>UV Protection Cat-eye Sunglasses (Free Size)</td>\n",
       "      <td>₹324</td>\n",
       "      <td>80% off</td>\n",
       "    </tr>\n",
       "    <tr>\n",
       "      <th>18</th>\n",
       "      <td>PIRASO</td>\n",
       "      <td>UV Protection Rectangular Sunglasses (52)</td>\n",
       "      <td>₹405</td>\n",
       "      <td>84% off</td>\n",
       "    </tr>\n",
       "    <tr>\n",
       "      <th>19</th>\n",
       "      <td>Arnette</td>\n",
       "      <td>UV Protection Wayfarer Sunglasses (46)</td>\n",
       "      <td>₹7,009</td>\n",
       "      <td>10% off</td>\n",
       "    </tr>\n",
       "  </tbody>\n",
       "</table>\n",
       "<p>100 rows × 4 columns</p>\n",
       "</div>"
      ],
      "text/plain": [
       "                Brand                                PRODUCT DESCRIPTION  \\\n",
       "0        Singco India  Gradient, Toughened Glass Lens, UV Protection ...   \n",
       "1       VINCENT CHASE  by Lenskart Polarized, UV Protection Cat-eye S...   \n",
       "2            DAHAAZIL  UV Protection, Night Vision, Riding Glasses Wa...   \n",
       "3            Fastrack   UV Protection Rectangular Sunglasses (Free Size)   \n",
       "4           New Specs   UV Protection Rectangular Sunglasses (Free Size)   \n",
       "..                ...                                                ...   \n",
       "15      VINCENT CHASE                Others Retro Square Sunglasses (55)   \n",
       "16          ROYAL SON              UV Protection Aviator Sunglasses (58)   \n",
       "17  SHAAH COLLECTIONS       UV Protection Cat-eye Sunglasses (Free Size)   \n",
       "18             PIRASO          UV Protection Rectangular Sunglasses (52)   \n",
       "19            Arnette             UV Protection Wayfarer Sunglasses (46)   \n",
       "\n",
       "     PRICE DISCOUNT  \n",
       "0     ₹598  80% off  \n",
       "1     ₹799  60% off  \n",
       "2     ₹177  82% off  \n",
       "3     ₹639  20% off  \n",
       "4     ₹264  89% off  \n",
       "..     ...      ...  \n",
       "15    ₹649  67% off  \n",
       "16    ₹664  66% off  \n",
       "17    ₹324  80% off  \n",
       "18    ₹405  84% off  \n",
       "19  ₹7,009  10% off  \n",
       "\n",
       "[100 rows x 4 columns]"
      ]
     },
     "execution_count": 173,
     "metadata": {},
     "output_type": "execute_result"
    }
   ],
   "source": [
    "top100_details"
   ]
  },
  {
   "cell_type": "code",
   "execution_count": null,
   "id": "df438197",
   "metadata": {},
   "outputs": [],
   "source": []
  },
  {
   "cell_type": "code",
   "execution_count": null,
   "id": "b4de850b",
   "metadata": {},
   "outputs": [],
   "source": []
  },
  {
   "cell_type": "code",
   "execution_count": null,
   "id": "e89b87d6",
   "metadata": {},
   "outputs": [],
   "source": []
  },
  {
   "cell_type": "code",
   "execution_count": null,
   "id": "9456d769",
   "metadata": {},
   "outputs": [],
   "source": []
  },
  {
   "cell_type": "code",
   "execution_count": null,
   "id": "89c39ba5",
   "metadata": {},
   "outputs": [],
   "source": []
  },
  {
   "cell_type": "code",
   "execution_count": null,
   "id": "3cfc57d3",
   "metadata": {},
   "outputs": [],
   "source": [
    "#QUESTION 5 "
   ]
  },
  {
   "cell_type": "code",
   "execution_count": 1,
   "id": "cf4df790",
   "metadata": {},
   "outputs": [],
   "source": [
    "import selenium\n",
    "from selenium import webdriver\n",
    "import pandas as pd\n",
    "import warnings\n",
    "warnings.filterwarnings(\"ignore\")\n",
    "from selenium.webdriver.common.by import By\n",
    "from selenium.webdriver.common.keys import Keys"
   ]
  },
  {
   "cell_type": "code",
   "execution_count": null,
   "id": "c1350a39",
   "metadata": {},
   "outputs": [],
   "source": []
  },
  {
   "cell_type": "code",
   "execution_count": null,
   "id": "8cd7e5b3",
   "metadata": {},
   "outputs": [],
   "source": []
  },
  {
   "cell_type": "code",
   "execution_count": 2,
   "id": "c5e56cdf",
   "metadata": {},
   "outputs": [],
   "source": [
    "driver = webdriver.Chrome(r\"C:\\Users\\ANSH\\Downloads\\chromedriver.exe\")"
   ]
  },
  {
   "cell_type": "code",
   "execution_count": 4,
   "id": "539d456b",
   "metadata": {},
   "outputs": [],
   "source": [
    "url = 'https://www.flipkart.com/apple-iphone-11-black-64-gb-includes-earpods-power-adapter/product-reviews/itm0f37c2240b217?pid=MOBFKCTSVZAXUHGR&lid=LSTMOBFKCTSVZAXUHGREPBFGI&marketplace=FLIPKART'\n",
    "driver.get(url)"
   ]
  },
  {
   "cell_type": "code",
   "execution_count": 4,
   "id": "5277ca56",
   "metadata": {},
   "outputs": [
    {
     "data": {
      "text/plain": [
       "<selenium.webdriver.remote.webelement.WebElement (session=\"1cfb9487346b56993229b12df400f932\", element=\"73864072-1b89-44dd-aca4-b57746418ed1\")>"
      ]
     },
     "execution_count": 4,
     "metadata": {},
     "output_type": "execute_result"
    }
   ],
   "source": [
    "search_glass = driver.find_element(By.CLASS_NAME, \"_3704LK\")\n",
    "search_glass"
   ]
  },
  {
   "cell_type": "code",
   "execution_count": 5,
   "id": "6f9c9b08",
   "metadata": {},
   "outputs": [],
   "source": [
    "search_glass.send_keys('iphone 11')"
   ]
  },
  {
   "cell_type": "code",
   "execution_count": 150,
   "id": "4aedd1b9",
   "metadata": {},
   "outputs": [
    {
     "ename": "NoSuchElementException",
     "evalue": "Message: no such element: Unable to locate element: {\"method\":\"xpath\",\"selector\":\"/html/body/div[1]/div/div[1]/div[1]/div[2]/div[2]/form/div/button/svg/g/path[2]\"}\n  (Session info: chrome=103.0.5060.114)\nStacktrace:\nBacktrace:\n\tOrdinal0 [0x00566463+2188387]\n\tOrdinal0 [0x004FE461+1762401]\n\tOrdinal0 [0x00413D78+802168]\n\tOrdinal0 [0x00441880+989312]\n\tOrdinal0 [0x00441B1B+989979]\n\tOrdinal0 [0x0046E912+1173778]\n\tOrdinal0 [0x0045C824+1099812]\n\tOrdinal0 [0x0046CC22+1166370]\n\tOrdinal0 [0x0045C5F6+1099254]\n\tOrdinal0 [0x00436BE0+945120]\n\tOrdinal0 [0x00437AD6+948950]\n\tGetHandleVerifier [0x008071F2+2712546]\n\tGetHandleVerifier [0x007F886D+2652765]\n\tGetHandleVerifier [0x005F002A+520730]\n\tGetHandleVerifier [0x005EEE06+516086]\n\tOrdinal0 [0x0050468B+1787531]\n\tOrdinal0 [0x00508E88+1805960]\n\tOrdinal0 [0x00508F75+1806197]\n\tOrdinal0 [0x00511DF1+1842673]\n\tBaseThreadInitThunk [0x7649FA29+25]\n\tRtlGetAppContainerNamedObjectPath [0x771E7A9E+286]\n\tRtlGetAppContainerNamedObjectPath [0x771E7A6E+238]\n",
     "output_type": "error",
     "traceback": [
      "\u001b[1;31m---------------------------------------------------------------------------\u001b[0m",
      "\u001b[1;31mNoSuchElementException\u001b[0m                    Traceback (most recent call last)",
      "Input \u001b[1;32mIn [150]\u001b[0m, in \u001b[0;36m<cell line: 1>\u001b[1;34m()\u001b[0m\n\u001b[1;32m----> 1\u001b[0m srch_btn \u001b[38;5;241m=\u001b[39m \u001b[43mdriver\u001b[49m\u001b[38;5;241;43m.\u001b[39;49m\u001b[43mfind_element\u001b[49m\u001b[43m(\u001b[49m\u001b[43mBy\u001b[49m\u001b[38;5;241;43m.\u001b[39;49m\u001b[43mXPATH\u001b[49m\u001b[43m,\u001b[49m\u001b[43m \u001b[49m\u001b[38;5;124;43m\"\u001b[39;49m\u001b[38;5;124;43m/html/body/div[1]/div/div[1]/div[1]/div[2]/div[2]/form/div/button/svg/g/path[2]\u001b[39;49m\u001b[38;5;124;43m\"\u001b[39;49m\u001b[43m)\u001b[49m\n",
      "File \u001b[1;32m~\\anaconda3\\lib\\site-packages\\selenium\\webdriver\\remote\\webdriver.py:857\u001b[0m, in \u001b[0;36mWebDriver.find_element\u001b[1;34m(self, by, value)\u001b[0m\n\u001b[0;32m    854\u001b[0m     by \u001b[38;5;241m=\u001b[39m By\u001b[38;5;241m.\u001b[39mCSS_SELECTOR\n\u001b[0;32m    855\u001b[0m     value \u001b[38;5;241m=\u001b[39m \u001b[38;5;124m'\u001b[39m\u001b[38;5;124m[name=\u001b[39m\u001b[38;5;124m\"\u001b[39m\u001b[38;5;132;01m%s\u001b[39;00m\u001b[38;5;124m\"\u001b[39m\u001b[38;5;124m]\u001b[39m\u001b[38;5;124m'\u001b[39m \u001b[38;5;241m%\u001b[39m value\n\u001b[1;32m--> 857\u001b[0m \u001b[38;5;28;01mreturn\u001b[39;00m \u001b[38;5;28;43mself\u001b[39;49m\u001b[38;5;241;43m.\u001b[39;49m\u001b[43mexecute\u001b[49m\u001b[43m(\u001b[49m\u001b[43mCommand\u001b[49m\u001b[38;5;241;43m.\u001b[39;49m\u001b[43mFIND_ELEMENT\u001b[49m\u001b[43m,\u001b[49m\u001b[43m \u001b[49m\u001b[43m{\u001b[49m\n\u001b[0;32m    858\u001b[0m \u001b[43m    \u001b[49m\u001b[38;5;124;43m'\u001b[39;49m\u001b[38;5;124;43musing\u001b[39;49m\u001b[38;5;124;43m'\u001b[39;49m\u001b[43m:\u001b[49m\u001b[43m \u001b[49m\u001b[43mby\u001b[49m\u001b[43m,\u001b[49m\n\u001b[0;32m    859\u001b[0m \u001b[43m    \u001b[49m\u001b[38;5;124;43m'\u001b[39;49m\u001b[38;5;124;43mvalue\u001b[39;49m\u001b[38;5;124;43m'\u001b[39;49m\u001b[43m:\u001b[49m\u001b[43m \u001b[49m\u001b[43mvalue\u001b[49m\u001b[43m}\u001b[49m\u001b[43m)\u001b[49m[\u001b[38;5;124m'\u001b[39m\u001b[38;5;124mvalue\u001b[39m\u001b[38;5;124m'\u001b[39m]\n",
      "File \u001b[1;32m~\\anaconda3\\lib\\site-packages\\selenium\\webdriver\\remote\\webdriver.py:435\u001b[0m, in \u001b[0;36mWebDriver.execute\u001b[1;34m(self, driver_command, params)\u001b[0m\n\u001b[0;32m    433\u001b[0m response \u001b[38;5;241m=\u001b[39m \u001b[38;5;28mself\u001b[39m\u001b[38;5;241m.\u001b[39mcommand_executor\u001b[38;5;241m.\u001b[39mexecute(driver_command, params)\n\u001b[0;32m    434\u001b[0m \u001b[38;5;28;01mif\u001b[39;00m response:\n\u001b[1;32m--> 435\u001b[0m     \u001b[38;5;28;43mself\u001b[39;49m\u001b[38;5;241;43m.\u001b[39;49m\u001b[43merror_handler\u001b[49m\u001b[38;5;241;43m.\u001b[39;49m\u001b[43mcheck_response\u001b[49m\u001b[43m(\u001b[49m\u001b[43mresponse\u001b[49m\u001b[43m)\u001b[49m\n\u001b[0;32m    436\u001b[0m     response[\u001b[38;5;124m'\u001b[39m\u001b[38;5;124mvalue\u001b[39m\u001b[38;5;124m'\u001b[39m] \u001b[38;5;241m=\u001b[39m \u001b[38;5;28mself\u001b[39m\u001b[38;5;241m.\u001b[39m_unwrap_value(\n\u001b[0;32m    437\u001b[0m         response\u001b[38;5;241m.\u001b[39mget(\u001b[38;5;124m'\u001b[39m\u001b[38;5;124mvalue\u001b[39m\u001b[38;5;124m'\u001b[39m, \u001b[38;5;28;01mNone\u001b[39;00m))\n\u001b[0;32m    438\u001b[0m     \u001b[38;5;28;01mreturn\u001b[39;00m response\n",
      "File \u001b[1;32m~\\anaconda3\\lib\\site-packages\\selenium\\webdriver\\remote\\errorhandler.py:247\u001b[0m, in \u001b[0;36mErrorHandler.check_response\u001b[1;34m(self, response)\u001b[0m\n\u001b[0;32m    245\u001b[0m         alert_text \u001b[38;5;241m=\u001b[39m value[\u001b[38;5;124m'\u001b[39m\u001b[38;5;124malert\u001b[39m\u001b[38;5;124m'\u001b[39m]\u001b[38;5;241m.\u001b[39mget(\u001b[38;5;124m'\u001b[39m\u001b[38;5;124mtext\u001b[39m\u001b[38;5;124m'\u001b[39m)\n\u001b[0;32m    246\u001b[0m     \u001b[38;5;28;01mraise\u001b[39;00m exception_class(message, screen, stacktrace, alert_text)  \u001b[38;5;66;03m# type: ignore[call-arg]  # mypy is not smart enough here\u001b[39;00m\n\u001b[1;32m--> 247\u001b[0m \u001b[38;5;28;01mraise\u001b[39;00m exception_class(message, screen, stacktrace)\n",
      "\u001b[1;31mNoSuchElementException\u001b[0m: Message: no such element: Unable to locate element: {\"method\":\"xpath\",\"selector\":\"/html/body/div[1]/div/div[1]/div[1]/div[2]/div[2]/form/div/button/svg/g/path[2]\"}\n  (Session info: chrome=103.0.5060.114)\nStacktrace:\nBacktrace:\n\tOrdinal0 [0x00566463+2188387]\n\tOrdinal0 [0x004FE461+1762401]\n\tOrdinal0 [0x00413D78+802168]\n\tOrdinal0 [0x00441880+989312]\n\tOrdinal0 [0x00441B1B+989979]\n\tOrdinal0 [0x0046E912+1173778]\n\tOrdinal0 [0x0045C824+1099812]\n\tOrdinal0 [0x0046CC22+1166370]\n\tOrdinal0 [0x0045C5F6+1099254]\n\tOrdinal0 [0x00436BE0+945120]\n\tOrdinal0 [0x00437AD6+948950]\n\tGetHandleVerifier [0x008071F2+2712546]\n\tGetHandleVerifier [0x007F886D+2652765]\n\tGetHandleVerifier [0x005F002A+520730]\n\tGetHandleVerifier [0x005EEE06+516086]\n\tOrdinal0 [0x0050468B+1787531]\n\tOrdinal0 [0x00508E88+1805960]\n\tOrdinal0 [0x00508F75+1806197]\n\tOrdinal0 [0x00511DF1+1842673]\n\tBaseThreadInitThunk [0x7649FA29+25]\n\tRtlGetAppContainerNamedObjectPath [0x771E7A9E+286]\n\tRtlGetAppContainerNamedObjectPath [0x771E7A6E+238]\n"
     ]
    }
   ],
   "source": [
    "srch_btn = driver.find_element(By.XPATH, \"/html/body/div[1]/div/div[1]/div[1]/div[2]/div[2]/form/div/button/svg/g/path[2]\")"
   ]
  },
  {
   "cell_type": "code",
   "execution_count": 5,
   "id": "ce18a8e6",
   "metadata": {},
   "outputs": [],
   "source": [
    "review = driver.find_elements(By.XPATH, \"//p[@class = '_2-N8zT']\")"
   ]
  },
  {
   "cell_type": "code",
   "execution_count": 6,
   "id": "d4dc3e4b",
   "metadata": {},
   "outputs": [
    {
     "data": {
      "text/plain": [
       "10"
      ]
     },
     "execution_count": 6,
     "metadata": {},
     "output_type": "execute_result"
    }
   ],
   "source": [
    "len(review)"
   ]
  },
  {
   "cell_type": "code",
   "execution_count": 7,
   "id": "78f577d6",
   "metadata": {},
   "outputs": [
    {
     "data": {
      "text/plain": [
       "['Simply awesome',\n",
       " 'Perfect product!',\n",
       " 'Best in the market!',\n",
       " 'Highly recommended',\n",
       " 'Worth every penny',\n",
       " 'Fabulous!',\n",
       " 'Great product',\n",
       " 'Worth every penny',\n",
       " 'Good choice',\n",
       " 'Highly recommended']"
      ]
     },
     "execution_count": 7,
     "metadata": {},
     "output_type": "execute_result"
    }
   ],
   "source": [
    "revi = []\n",
    "for r in review:\n",
    "    revi.append(r.text)\n",
    "revi"
   ]
  },
  {
   "cell_type": "code",
   "execution_count": 8,
   "id": "c8671be6",
   "metadata": {},
   "outputs": [],
   "source": [
    "review_summary = driver.find_elements(By.XPATH, \"//div[@class = 't-ZTKy']\")"
   ]
  },
  {
   "cell_type": "code",
   "execution_count": 9,
   "id": "802e28a0",
   "metadata": {},
   "outputs": [
    {
     "data": {
      "text/plain": [
       "10"
      ]
     },
     "execution_count": 9,
     "metadata": {},
     "output_type": "execute_result"
    }
   ],
   "source": [
    "len(review_summary)"
   ]
  },
  {
   "cell_type": "code",
   "execution_count": 10,
   "id": "b22d5e28",
   "metadata": {},
   "outputs": [
    {
     "data": {
      "text/plain": [
       "['Really satisfied with the Product I received... It’s totally genuine and the packaging was also really good so if ur planning to buy just go for it.',\n",
       " 'Amazing phone with great cameras and better battery which gives you the best performance. I just love the camera .',\n",
       " 'Great iPhone very snappy experience as apple kind. Upgraded from iPhone 7.\\nPros\\n-Camera top class\\n- Battery top performed\\n-Chipset no need to say as apple kind\\n-Security as you expect from apple\\n- Display super bright industry leading colour\\naccuracy and super responsive\\n-Build quality as expect from apple sturdy\\npremium durable beautiful stylish.\\n-Os most stable os in smartphone industry\\n\\nCons\\n-No 5G\\n-Display is not based on OLED technology\\n-Charger headphones and 1 apple stic...\\nREAD MORE',\n",
       " 'What a camera .....just awesome ..you can feel this iPhone just awesome . Good for gaming also ...try pubg in hd it’s just wow',\n",
       " 'Previously I was using one plus 3t it was a great phone\\nAnd then I decided to upgrade I am stuck between Samsung s10 plus or iPhone 11\\nI have seen the specs and everything were good except the display it’s somewhere between 720-1080 and it’s not even an amoled it’s an LCD display\\nBut I decided to go with iPhone because I have never used an IOS device I have Been an android user from the past 9 years I ordered IPhone 11 (128gb) product red\\nMy experience after using 3 weeks\\n1. The delivery ...\\nREAD MORE',\n",
       " 'This is my first iOS phone. I am very happy with this product. Very much satisfied with this. I love this phone.',\n",
       " 'Amazing Powerful and Durable Gadget.\\n\\nI’m am very happy with the camera picture quality, Amazing face id unlocked in dark room, Strong battery with perfect screen size as you can carry easily in pocket. This is my third iPhone.\\n\\nI shifted from android Samsung Note series to iPhone because of the strong build quality and peace of mind for next 3-4 years.\\n\\nDon’t think to much just go for it and I suggest you to go for minimum 128gb variant or more 256gb.\\n\\nI’ve attached my puppy pics and no fi...\\nREAD MORE',\n",
       " 'i11 is worthy to buy, too much happy with the product. Thank u flipkart I received the item on time..loved it..',\n",
       " 'So far it’s been an AMAZING experience coming back to iOS after nearly a decade but it’s not as versatile as android though phone is sturdy dropped it accidentally a couple of times and nothing happened fortunately camera is awesome',\n",
       " 'iphone 11 is a very good phone to buy only if you can compromise for the display. The display on this is device is pretty good but you can get other options with better displays in this price segment.\\nIf you can survive with an HD+ LCD panel with thicker bezels and a notch up top then this is a very good phone for you.\\nCameras are awesome, battery backup excellent, great performance and a decent premium look. Good job Apple !']"
      ]
     },
     "execution_count": 10,
     "metadata": {},
     "output_type": "execute_result"
    }
   ],
   "source": [
    "review_sum = []\n",
    "for r in review_summary:\n",
    "    review_sum.append(r.text)\n",
    "review_sum"
   ]
  },
  {
   "cell_type": "code",
   "execution_count": 132,
   "id": "3c47604a",
   "metadata": {},
   "outputs": [],
   "source": [
    "rate = driver.find_elements(By.XPATH, \"//div[@class = '_3LWZlK _1BLPMq']\")"
   ]
  },
  {
   "cell_type": "code",
   "execution_count": 133,
   "id": "a4629baa",
   "metadata": {},
   "outputs": [
    {
     "data": {
      "text/plain": [
       "10"
      ]
     },
     "execution_count": 133,
     "metadata": {},
     "output_type": "execute_result"
    }
   ],
   "source": [
    "len(rate)"
   ]
  },
  {
   "cell_type": "code",
   "execution_count": 134,
   "id": "e44acd37",
   "metadata": {},
   "outputs": [
    {
     "data": {
      "text/plain": [
       "['5', '5', '5', '5', '5', '5', '5', '5', '4', '5']"
      ]
     },
     "execution_count": 134,
     "metadata": {},
     "output_type": "execute_result"
    }
   ],
   "source": [
    "rating = []\n",
    "for r in rate:\n",
    "    rating.append(r.text)\n",
    "rating"
   ]
  },
  {
   "cell_type": "code",
   "execution_count": 14,
   "id": "40a5f6b4",
   "metadata": {},
   "outputs": [],
   "source": [
    "next_btn = driver.find_element(By.XPATH, \"/html/body/div/div/div[3]/div/div/div[2]/div[13]/div/div/nav/a[11]/span\")"
   ]
  },
  {
   "cell_type": "code",
   "execution_count": 15,
   "id": "c8fccbe4",
   "metadata": {},
   "outputs": [],
   "source": [
    "next_btn.click()"
   ]
  },
  {
   "cell_type": "code",
   "execution_count": 18,
   "id": "06a71ba1",
   "metadata": {},
   "outputs": [
    {
     "name": "stdout",
     "output_type": "stream",
     "text": [
      "10\n"
     ]
    },
    {
     "data": {
      "text/plain": [
       "['Highly recommended',\n",
       " 'Perfect product!',\n",
       " 'Perfect product!',\n",
       " 'Worth every penny',\n",
       " 'Perfect product!',\n",
       " 'Perfect product!',\n",
       " 'Terrific',\n",
       " 'Worth every penny',\n",
       " 'Simply awesome',\n",
       " 'Wonderful']"
      ]
     },
     "execution_count": 18,
     "metadata": {},
     "output_type": "execute_result"
    }
   ],
   "source": [
    "review_2 = driver.find_elements(By.XPATH, \"//p[@class = '_2-N8zT']\")\n",
    "\n",
    "review2 = []\n",
    "for r in review_2:\n",
    "    review2.append(r.text)\n",
    "print(len(review2))\n",
    "review2"
   ]
  },
  {
   "cell_type": "code",
   "execution_count": 20,
   "id": "b492b613",
   "metadata": {},
   "outputs": [
    {
     "name": "stdout",
     "output_type": "stream",
     "text": [
      "10\n"
     ]
    },
    {
     "data": {
      "text/plain": [
       "[\"It's my first time to use iOS phone and I am loving my upgradation 😍😍 I love the color, I love the assebility of the phone....I need to learn more about its functionality, but as far as I have seen, it's quite easy and it has a lot of functions to work on, specially if you are a content writer or a blogger you get a lot of content creation platforms and they are really amazing.\\n\\nThis phone not only for good quality photography but a lot of other task too.😍💯\",\n",
       " 'It’s a must buy who is looking for an upgrade from previous generation of iPhones. If you are using XR then still you can hold on for sometime and upgrade to 2020 model else this phone is a must buy . Camera quality is amazing and wide angle is something to count upon. Performance wise it’s amazing and feels premium while holding in hand. So a big YES for this device. Go for 128 GB variant as the 4K videos will occupy lots of space and the storage can get over very quickly. Try to buy it with...\\nREAD MORE',\n",
       " 'Value for money❤️❤️\\nIts awesome mobile phone in the world ...\\nDisplay was very good and bright ..\\nTrust me freinds you r never regret after Buying..\\nJust go for it....\\nI love this phone and i switch to iphone x to 11',\n",
       " 'Smooth like butter, camera like fantabulous, sound is crystal clear & its red color is damn attractive, i am just loving it. Must buy if you love photography.\\n\\nLucky to get it in sale, thank you Flipkart.',\n",
       " 'It is just awesome mobile for this price from Apple,\\n\\nAfter 10 days review\\n\\nBattery enough for 1 day even 24*7 Internet will be on and mostly internet usage\\n\\nCamera is just awesome cool , android 64 MP is equal to this just 12 MP\\n\\nA13 Bionic chip will give more high performance without hanging\\n\\nAudio stereo speakers will give Dolby atoms sound with crystal clear\\n\\nVideo recording is like cinematic shots of every sec can be a 4K 60fps. Just awesome this phone\\niPhone 11 loved one',\n",
       " \"Iphone is just awesome.. battery backup is very very nice.. continuously for 10 hours we can use it.camera is just awesome.. display is just fab.i love it alot..i had to wait 15 days for it as i pre ordered it..overalll it's worth the price..these all images are clicked by my iPhone..and i love it.\",\n",
       " 'Really worth of money. i just love it. It is the best phone ever.',\n",
       " 'Best budget Iphone till date ❤️ go for it guys without second thought. Let me explain you guys about Camera, Display, battery, and performance.\\n\\nCamera: at this price range there is no comparison of camera, you’ll love the picture quality as well as video quality. I am a Vlogger I wanted an iPhone with 4k video by front camera and I got this phone and I am more than happy 😃\\n\\nBattery: I use this phone roughly as I am active social media person and I have a youtube channel. so the battery ba...\\nREAD MORE',\n",
       " 'Excellent camera, good performance, no lag. The lcd display is also good.. but difference come when we watch movie in prime and Netflix, the colours are not vibrant.. as we see in amoled display.. and the charger in box is of 5 watts.. takes more than 3 hours to charge from 0 to 100.. so guys be prepare to buy 18 watts charger . Finally I am an android user, it was my first Iapple phone, I promise u guys the iOS is so smooth.. overall the phone is damn good.... close eyes to buy it.. thanks t...\\nREAD MORE',\n",
       " 'This is my first ever I phone. Before this I was using my google nexus 5. But moving from android to iOS is a great experience. It’s worth at this price. I will highly recommend it if you want to move to iOS. The best part of this phone is it’s camera and it’s battery life. This two things have won my heart. I loved it. Happy to have it in my hand. Still exploring its features. And can’t forget to mention Flipkart service. Very prompt service and fast delivery.']"
      ]
     },
     "execution_count": 20,
     "metadata": {},
     "output_type": "execute_result"
    }
   ],
   "source": [
    "review_summary2 = driver.find_elements(By.XPATH, \"//div[@class = 't-ZTKy']\")\n",
    "\n",
    "review_sum2 = []\n",
    "for r in review_summary2:\n",
    "    review_sum2.append(r.text)\n",
    "print(len(review_sum2))\n",
    "review_sum2"
   ]
  },
  {
   "cell_type": "code",
   "execution_count": 135,
   "id": "8a3296f0",
   "metadata": {},
   "outputs": [
    {
     "name": "stdout",
     "output_type": "stream",
     "text": [
      "10\n"
     ]
    }
   ],
   "source": [
    "rate2 = driver.find_elements(By.XPATH, \"//div[@class = '_3LWZlK _1BLPMq']\")\n",
    "\n",
    "rating2 = []\n",
    "for r in rate2:\n",
    "    rating2.append(r.text)\n",
    "print(len(rating2))"
   ]
  },
  {
   "cell_type": "code",
   "execution_count": 25,
   "id": "74e826af",
   "metadata": {},
   "outputs": [],
   "source": [
    "next_btn = driver.find_element(By.XPATH, \"/html/body/div/div/div[3]/div/div/div[2]/div[13]/div/div/nav/a[12]/span\")"
   ]
  },
  {
   "cell_type": "code",
   "execution_count": 26,
   "id": "5536eb23",
   "metadata": {},
   "outputs": [],
   "source": [
    "next_btn.click()"
   ]
  },
  {
   "cell_type": "code",
   "execution_count": 136,
   "id": "478c8b57",
   "metadata": {},
   "outputs": [
    {
     "name": "stdout",
     "output_type": "stream",
     "text": [
      "10\n",
      "10\n",
      "10\n"
     ]
    }
   ],
   "source": [
    "#top 10 review data from page 3\n",
    "review_3 = driver.find_elements(By.XPATH, \"//p[@class = '_2-N8zT']\")\n",
    "\n",
    "review3 = []\n",
    "for r in review_3:\n",
    "    review3.append(r.text)\n",
    "print(len(review3))\n",
    "review3\n",
    "\n",
    "\n",
    "review_summary3 = driver.find_elements(By.XPATH, \"//div[@class = 't-ZTKy']\")\n",
    "\n",
    "review_sum3 = []\n",
    "for r in review_summary3:\n",
    "    review_sum3.append(r.text)\n",
    "print(len(review_sum3))\n",
    "review_sum3\n",
    "\n",
    "\n",
    "rate3 = driver.find_elements(By.XPATH, \"//div[@class = '_3LWZlK _1BLPMq']\")\n",
    "\n",
    "rating3 = []\n",
    "for r in rate3:\n",
    "    rating3.append(r.text)\n",
    "print(len(rating3))\n",
    "\n"
   ]
  },
  {
   "cell_type": "code",
   "execution_count": 36,
   "id": "9579e20d",
   "metadata": {},
   "outputs": [],
   "source": [
    "next_btn = driver.find_element(By.XPATH, \"/html/body/div/div/div[3]/div/div/div[2]/div[13]/div/div/nav/a[12]/span\")\n",
    "next_btn.click()"
   ]
  },
  {
   "cell_type": "code",
   "execution_count": 137,
   "id": "bf962865",
   "metadata": {},
   "outputs": [
    {
     "name": "stdout",
     "output_type": "stream",
     "text": [
      "10\n",
      "10\n",
      "10\n"
     ]
    }
   ],
   "source": [
    "#top 10 review data from page 4\n",
    "\n",
    "review_4 = driver.find_elements(By.XPATH, \"//p[@class = '_2-N8zT']\")\n",
    "\n",
    "review4 = []\n",
    "for r in review_4:\n",
    "    review4.append(r.text)\n",
    "print(len(review4))\n",
    "review4\n",
    "\n",
    "\n",
    "review_summary4 = driver.find_elements(By.XPATH, \"//div[@class = 't-ZTKy']\")\n",
    "\n",
    "review_sum4 = []\n",
    "for r in review_summary4:\n",
    "    review_sum4.append(r.text)\n",
    "print(len(review_sum4))\n",
    "review_sum4\n",
    "\n",
    "\n",
    "rate4 = driver.find_elements(By.XPATH, \"//div[@class = '_3LWZlK _1BLPMq']\")\n",
    "\n",
    "rating4 = []\n",
    "for r in rate4:\n",
    "    rating4.append(r.text)\n",
    "print(len(rating4))"
   ]
  },
  {
   "cell_type": "code",
   "execution_count": 39,
   "id": "775086b0",
   "metadata": {},
   "outputs": [],
   "source": [
    "next_btn = driver.find_element(By.XPATH, \"/html/body/div/div/div[3]/div/div/div[2]/div[13]/div/div/nav/a[12]/span\")\n",
    "next_btn.click()"
   ]
  },
  {
   "cell_type": "code",
   "execution_count": 138,
   "id": "cf99e908",
   "metadata": {},
   "outputs": [
    {
     "name": "stdout",
     "output_type": "stream",
     "text": [
      "10\n",
      "10\n",
      "10\n"
     ]
    }
   ],
   "source": [
    "#top 10 review data from page 5\n",
    "review_5 = driver.find_elements(By.XPATH, \"//p[@class = '_2-N8zT']\")\n",
    "\n",
    "review5 = []\n",
    "for r in review_5:\n",
    "    review5.append(r.text)\n",
    "print(len(review5))\n",
    "review5\n",
    "\n",
    "\n",
    "review_summary5 = driver.find_elements(By.XPATH, \"//div[@class = 't-ZTKy']\")\n",
    "\n",
    "review_sum5 = []\n",
    "for r in review_summary5:\n",
    "    review_sum5.append(r.text)\n",
    "print(len(review_sum5))\n",
    "review_sum5\n",
    "\n",
    "\n",
    "rate5 = driver.find_elements(By.XPATH, \"//div[@class = '_3LWZlK _1BLPMq']\")\n",
    "\n",
    "rating5 = []\n",
    "for r in rate5:\n",
    "    rating5.append(r.text)\n",
    "print(len(rating5))"
   ]
  },
  {
   "cell_type": "code",
   "execution_count": 41,
   "id": "d70dec9b",
   "metadata": {},
   "outputs": [],
   "source": [
    "next_btn = driver.find_element(By.XPATH, \"/html/body/div/div/div[3]/div/div/div[2]/div[13]/div/div/nav/a[12]/span\")\n",
    "next_btn.click()"
   ]
  },
  {
   "cell_type": "code",
   "execution_count": 139,
   "id": "716044dd",
   "metadata": {},
   "outputs": [
    {
     "name": "stdout",
     "output_type": "stream",
     "text": [
      "10\n",
      "10\n",
      "10\n"
     ]
    }
   ],
   "source": [
    "#top 10 review data from page 6\n",
    "review_6 = driver.find_elements(By.XPATH, \"//p[@class = '_2-N8zT']\")\n",
    "\n",
    "review6 = []\n",
    "for r in review_6:\n",
    "    review6.append(r.text)\n",
    "print(len(review6))\n",
    "review6\n",
    "\n",
    "\n",
    "review_summary6 = driver.find_elements(By.XPATH, \"//div[@class = 't-ZTKy']\")\n",
    "\n",
    "review_sum6 = []\n",
    "for r in review_summary6:\n",
    "    review_sum6.append(r.text)\n",
    "print(len(review_sum6))\n",
    "review_sum6\n",
    "\n",
    "\n",
    "rate6 = driver.find_elements(By.XPATH, \"//div[@class = '_3LWZlK _1BLPMq']\")\n",
    "\n",
    "rating6 = []\n",
    "for r in rate6:\n",
    "    rating6.append(r.text)\n",
    "print(len(rating6))"
   ]
  },
  {
   "cell_type": "code",
   "execution_count": 43,
   "id": "2a958ea7",
   "metadata": {},
   "outputs": [],
   "source": [
    "next_btn = driver.find_element(By.XPATH, \"/html/body/div/div/div[3]/div/div/div[2]/div[13]/div/div/nav/a[12]/span\").click()"
   ]
  },
  {
   "cell_type": "code",
   "execution_count": 140,
   "id": "9f99e830",
   "metadata": {},
   "outputs": [
    {
     "name": "stdout",
     "output_type": "stream",
     "text": [
      "10\n",
      "10\n",
      "10\n"
     ]
    }
   ],
   "source": [
    "#top 10 review data from page 7\n",
    "review_7 = driver.find_elements(By.XPATH, \"//p[@class = '_2-N8zT']\")\n",
    "\n",
    "review7 = []\n",
    "for r in review_7:\n",
    "    review7.append(r.text)\n",
    "print(len(review7))\n",
    "review7\n",
    "\n",
    "\n",
    "review_summary7 = driver.find_elements(By.XPATH, \"//div[@class = 't-ZTKy']\")\n",
    "\n",
    "review_sum7 = []\n",
    "for r in review_summary7:\n",
    "    review_sum7.append(r.text)\n",
    "print(len(review_sum7))\n",
    "review_sum7\n",
    "\n",
    "\n",
    "rate7 = driver.find_elements(By.XPATH, \"//div[@class = '_3LWZlK _1BLPMq']\")\n",
    "\n",
    "rating7 = []\n",
    "for r in rate7:\n",
    "    rating7.append(r.text)\n",
    "print(len(rating7))"
   ]
  },
  {
   "cell_type": "code",
   "execution_count": 48,
   "id": "ca4b9bb9",
   "metadata": {},
   "outputs": [],
   "source": [
    "next_btn = driver.find_element(By.XPATH, \"/html/body/div/div/div[3]/div/div/div[2]/div[13]/div/div/nav/a[12]/span\").click()"
   ]
  },
  {
   "cell_type": "code",
   "execution_count": 141,
   "id": "f1babd6a",
   "metadata": {},
   "outputs": [
    {
     "name": "stdout",
     "output_type": "stream",
     "text": [
      "10\n",
      "10\n",
      "10\n"
     ]
    }
   ],
   "source": [
    "#top 10 review data from page 8\n",
    "review_8 = driver.find_elements(By.XPATH, \"//p[@class = '_2-N8zT']\")\n",
    "\n",
    "review8 = []\n",
    "for r in review_8:\n",
    "    review8.append(r.text)\n",
    "print(len(review8))\n",
    "review8\n",
    "\n",
    "\n",
    "review_summary8 = driver.find_elements(By.XPATH, \"//div[@class = 't-ZTKy']\")\n",
    "\n",
    "review_sum8 = []\n",
    "for r in review_summary8:\n",
    "    review_sum8.append(r.text)\n",
    "print(len(review_sum8))\n",
    "review_sum8\n",
    "\n",
    "\n",
    "rate8 = driver.find_elements(By.XPATH, \"//div[@class = '_3LWZlK _1BLPMq']\")\n",
    "\n",
    "rating8 = []\n",
    "for r in rate8:\n",
    "    rating8.append(r.text)\n",
    "print(len(rating8))"
   ]
  },
  {
   "cell_type": "code",
   "execution_count": 50,
   "id": "71dc751c",
   "metadata": {},
   "outputs": [],
   "source": [
    "next_btn = driver.find_element(By.XPATH, \"/html/body/div/div/div[3]/div/div/div[2]/div[13]/div/div/nav/a[12]/span\").click()"
   ]
  },
  {
   "cell_type": "code",
   "execution_count": 142,
   "id": "2f291a72",
   "metadata": {},
   "outputs": [
    {
     "name": "stdout",
     "output_type": "stream",
     "text": [
      "10\n",
      "10\n",
      "10\n"
     ]
    }
   ],
   "source": [
    "#top 10 review data from page 9\n",
    "review_9 = driver.find_elements(By.XPATH, \"//p[@class = '_2-N8zT']\")\n",
    "\n",
    "review9 = []\n",
    "for r in review_9:\n",
    "    review9.append(r.text)\n",
    "print(len(review9))\n",
    "review9\n",
    "\n",
    "\n",
    "review_summary9 = driver.find_elements(By.XPATH, \"//div[@class = 't-ZTKy']\")\n",
    "\n",
    "review_sum9 = []\n",
    "for r in review_summary9:\n",
    "    review_sum9.append(r.text)\n",
    "print(len(review_sum9))\n",
    "review_sum9\n",
    "\n",
    "\n",
    "rate9 = driver.find_elements(By.XPATH, \"//div[@class = '_3LWZlK _1BLPMq']\")\n",
    "\n",
    "rating9 = []\n",
    "for r in rate9:\n",
    "    rating9.append(r.text)\n",
    "print(len(rating))"
   ]
  },
  {
   "cell_type": "code",
   "execution_count": 52,
   "id": "07446692",
   "metadata": {},
   "outputs": [],
   "source": [
    "next_btn = driver.find_element(By.XPATH, \"/html/body/div/div/div[3]/div/div/div[2]/div[13]/div/div/nav/a[12]/span\").click()"
   ]
  },
  {
   "cell_type": "code",
   "execution_count": 143,
   "id": "df503090",
   "metadata": {},
   "outputs": [
    {
     "name": "stdout",
     "output_type": "stream",
     "text": [
      "10\n",
      "10\n",
      "10\n"
     ]
    }
   ],
   "source": [
    "#top 10 review data from page 10\n",
    "review_10 = driver.find_elements(By.XPATH, \"//p[@class = '_2-N8zT']\")\n",
    "\n",
    "review10 = []\n",
    "for r in review_10:\n",
    "    review10.append(r.text)\n",
    "print(len(review10))\n",
    "review10\n",
    "\n",
    "\n",
    "review_summary10 = driver.find_elements(By.XPATH, \"//div[@class = 't-ZTKy']\")\n",
    "\n",
    "review_sum10 = []\n",
    "for r in review_summary10:\n",
    "    review_sum10.append(r.text)\n",
    "print(len(review_sum10))\n",
    "review_sum10\n",
    "\n",
    "\n",
    "rate10 = driver.find_elements(By.XPATH, \"//div[@class = '_3LWZlK _1BLPMq']\")\n",
    "\n",
    "rating10 = []\n",
    "for r in rate10:\n",
    "    rating10.append(r.text)\n",
    "print(len(rating))"
   ]
  },
  {
   "cell_type": "code",
   "execution_count": 144,
   "id": "c446a206",
   "metadata": {},
   "outputs": [],
   "source": [
    "r = rating + rating2 + rating3 + rating4 + rating5 + rating6 + rating7 + rating8 + rating9 + rating10"
   ]
  },
  {
   "cell_type": "code",
   "execution_count": 145,
   "id": "b65a6ec5",
   "metadata": {},
   "outputs": [
    {
     "data": {
      "text/plain": [
       "100"
      ]
     },
     "execution_count": 145,
     "metadata": {},
     "output_type": "execute_result"
    }
   ],
   "source": [
    "len(r)"
   ]
  },
  {
   "cell_type": "code",
   "execution_count": 75,
   "id": "450bd1ca",
   "metadata": {},
   "outputs": [],
   "source": [
    "review_summaries = review_sum + review_sum2 + review_sum3 + review_sum4 + review_sum5 + review_sum6 + review_sum7 + review_sum8 + review_sum9 + review_sum10"
   ]
  },
  {
   "cell_type": "code",
   "execution_count": 77,
   "id": "1cd8773b",
   "metadata": {},
   "outputs": [
    {
     "data": {
      "text/plain": [
       "100"
      ]
     },
     "execution_count": 77,
     "metadata": {},
     "output_type": "execute_result"
    }
   ],
   "source": [
    "len(review_summaries)"
   ]
  },
  {
   "cell_type": "code",
   "execution_count": 100,
   "id": "51c2a664",
   "metadata": {},
   "outputs": [],
   "source": [
    "a = (revi + review2 + review3 + review4 + review5 + review6 + review7 + review8 + review9 + review10)"
   ]
  },
  {
   "cell_type": "code",
   "execution_count": 101,
   "id": "3e41df32",
   "metadata": {},
   "outputs": [
    {
     "data": {
      "text/plain": [
       "100"
      ]
     },
     "execution_count": 101,
     "metadata": {},
     "output_type": "execute_result"
    }
   ],
   "source": [
    "len(a)"
   ]
  },
  {
   "cell_type": "code",
   "execution_count": 103,
   "id": "de8ea574",
   "metadata": {},
   "outputs": [],
   "source": [
    "import pandas as pd"
   ]
  },
  {
   "cell_type": "code",
   "execution_count": 146,
   "id": "0536a113",
   "metadata": {},
   "outputs": [],
   "source": [
    "top100reviews = pd.DataFrame({'REVIEW TAG': a, 'REVIEW SUMMARY':review_summaries, 'RATING':r})"
   ]
  },
  {
   "cell_type": "code",
   "execution_count": 147,
   "id": "e62d8b03",
   "metadata": {},
   "outputs": [
    {
     "data": {
      "text/html": [
       "<div>\n",
       "<style scoped>\n",
       "    .dataframe tbody tr th:only-of-type {\n",
       "        vertical-align: middle;\n",
       "    }\n",
       "\n",
       "    .dataframe tbody tr th {\n",
       "        vertical-align: top;\n",
       "    }\n",
       "\n",
       "    .dataframe thead th {\n",
       "        text-align: right;\n",
       "    }\n",
       "</style>\n",
       "<table border=\"1\" class=\"dataframe\">\n",
       "  <thead>\n",
       "    <tr style=\"text-align: right;\">\n",
       "      <th></th>\n",
       "      <th>REVIEW TAG</th>\n",
       "      <th>REVIEW SUMMARY</th>\n",
       "      <th>RATING</th>\n",
       "    </tr>\n",
       "  </thead>\n",
       "  <tbody>\n",
       "    <tr>\n",
       "      <th>0</th>\n",
       "      <td>Simply awesome</td>\n",
       "      <td>Really satisfied with the Product I received.....</td>\n",
       "      <td>5</td>\n",
       "    </tr>\n",
       "    <tr>\n",
       "      <th>1</th>\n",
       "      <td>Perfect product!</td>\n",
       "      <td>Amazing phone with great cameras and better ba...</td>\n",
       "      <td>5</td>\n",
       "    </tr>\n",
       "    <tr>\n",
       "      <th>2</th>\n",
       "      <td>Best in the market!</td>\n",
       "      <td>Great iPhone very snappy experience as apple k...</td>\n",
       "      <td>5</td>\n",
       "    </tr>\n",
       "    <tr>\n",
       "      <th>3</th>\n",
       "      <td>Highly recommended</td>\n",
       "      <td>What a camera .....just awesome ..you can feel...</td>\n",
       "      <td>5</td>\n",
       "    </tr>\n",
       "    <tr>\n",
       "      <th>4</th>\n",
       "      <td>Worth every penny</td>\n",
       "      <td>Previously I was using one plus 3t it was a gr...</td>\n",
       "      <td>5</td>\n",
       "    </tr>\n",
       "    <tr>\n",
       "      <th>...</th>\n",
       "      <td>...</td>\n",
       "      <td>...</td>\n",
       "      <td>...</td>\n",
       "    </tr>\n",
       "    <tr>\n",
       "      <th>95</th>\n",
       "      <td>Super!</td>\n",
       "      <td>This is my first ever iPhone.\\nAnd I truly don...</td>\n",
       "      <td>5</td>\n",
       "    </tr>\n",
       "    <tr>\n",
       "      <th>96</th>\n",
       "      <td>Wonderful</td>\n",
       "      <td>Nice value for money good and best price I pho...</td>\n",
       "      <td>5</td>\n",
       "    </tr>\n",
       "    <tr>\n",
       "      <th>97</th>\n",
       "      <td>Worth every penny</td>\n",
       "      <td>Undoubtedly Iphone 11 is the most successful m...</td>\n",
       "      <td>5</td>\n",
       "    </tr>\n",
       "    <tr>\n",
       "      <th>98</th>\n",
       "      <td>Best in the market!</td>\n",
       "      <td>Don’t expect much from front camera… especiall...</td>\n",
       "      <td>4</td>\n",
       "    </tr>\n",
       "    <tr>\n",
       "      <th>99</th>\n",
       "      <td>Fabulous!</td>\n",
       "      <td>I purchased the iPhone 11 a month back. I must...</td>\n",
       "      <td>5</td>\n",
       "    </tr>\n",
       "  </tbody>\n",
       "</table>\n",
       "<p>100 rows × 3 columns</p>\n",
       "</div>"
      ],
      "text/plain": [
       "             REVIEW TAG                                     REVIEW SUMMARY  \\\n",
       "0        Simply awesome  Really satisfied with the Product I received.....   \n",
       "1      Perfect product!  Amazing phone with great cameras and better ba...   \n",
       "2   Best in the market!  Great iPhone very snappy experience as apple k...   \n",
       "3    Highly recommended  What a camera .....just awesome ..you can feel...   \n",
       "4     Worth every penny  Previously I was using one plus 3t it was a gr...   \n",
       "..                  ...                                                ...   \n",
       "95               Super!  This is my first ever iPhone.\\nAnd I truly don...   \n",
       "96            Wonderful  Nice value for money good and best price I pho...   \n",
       "97    Worth every penny  Undoubtedly Iphone 11 is the most successful m...   \n",
       "98  Best in the market!  Don’t expect much from front camera… especiall...   \n",
       "99            Fabulous!  I purchased the iPhone 11 a month back. I must...   \n",
       "\n",
       "   RATING  \n",
       "0       5  \n",
       "1       5  \n",
       "2       5  \n",
       "3       5  \n",
       "4       5  \n",
       "..    ...  \n",
       "95      5  \n",
       "96      5  \n",
       "97      5  \n",
       "98      4  \n",
       "99      5  \n",
       "\n",
       "[100 rows x 3 columns]"
      ]
     },
     "execution_count": 147,
     "metadata": {},
     "output_type": "execute_result"
    }
   ],
   "source": [
    "top100reviews"
   ]
  },
  {
   "cell_type": "code",
   "execution_count": 149,
   "id": "09c7d853",
   "metadata": {},
   "outputs": [
    {
     "data": {
      "text/plain": [
       "(100, 3)"
      ]
     },
     "execution_count": 149,
     "metadata": {},
     "output_type": "execute_result"
    }
   ],
   "source": [
    "top100reviews.shape"
   ]
  },
  {
   "cell_type": "code",
   "execution_count": null,
   "id": "859f4d50",
   "metadata": {},
   "outputs": [],
   "source": []
  },
  {
   "cell_type": "code",
   "execution_count": null,
   "id": "c77562f2",
   "metadata": {},
   "outputs": [],
   "source": [
    "#QUESTION 6 "
   ]
  },
  {
   "cell_type": "code",
   "execution_count": 16,
   "id": "e2cc300a",
   "metadata": {},
   "outputs": [],
   "source": [
    "import selenium\n",
    "from selenium import webdriver\n",
    "import pandas as pd\n",
    "import warnings\n",
    "warnings.filterwarnings(\"ignore\")\n",
    "from selenium.webdriver.common.by import By\n",
    "from selenium.webdriver.common.keys import Keys"
   ]
  },
  {
   "cell_type": "code",
   "execution_count": 17,
   "id": "3ce7cd82",
   "metadata": {},
   "outputs": [],
   "source": [
    "driver = webdriver.Chrome(r\"C:\\Users\\ANSH\\Downloads\\chromedriver.exe\")"
   ]
  },
  {
   "cell_type": "code",
   "execution_count": 18,
   "id": "a14710ad",
   "metadata": {},
   "outputs": [],
   "source": [
    "url = 'https://www.flipkart.com/'\n",
    "driver.get(url)"
   ]
  },
  {
   "cell_type": "code",
   "execution_count": 19,
   "id": "174be92d",
   "metadata": {},
   "outputs": [
    {
     "data": {
      "text/plain": [
       "<selenium.webdriver.remote.webelement.WebElement (session=\"7f82c74bdec64555bf270ad074b9b788\", element=\"76eb28e7-046e-4ce7-b1bb-f63d8a751fed\")>"
      ]
     },
     "execution_count": 19,
     "metadata": {},
     "output_type": "execute_result"
    }
   ],
   "source": [
    "search_glass = driver.find_element(By.CLASS_NAME, \"_3704LK\")\n",
    "search_glass"
   ]
  },
  {
   "cell_type": "code",
   "execution_count": 20,
   "id": "6b71dfb6",
   "metadata": {},
   "outputs": [],
   "source": [
    "search_glass.send_keys('sneakers')"
   ]
  },
  {
   "cell_type": "code",
   "execution_count": 25,
   "id": "6ff39a3b",
   "metadata": {},
   "outputs": [],
   "source": [
    "brand = driver.find_elements(By.XPATH, \"//div[@class = '_2WkVRV']\")"
   ]
  },
  {
   "cell_type": "code",
   "execution_count": 26,
   "id": "3693471f",
   "metadata": {},
   "outputs": [
    {
     "data": {
      "text/plain": [
       "40"
      ]
     },
     "execution_count": 26,
     "metadata": {},
     "output_type": "execute_result"
    }
   ],
   "source": [
    "len(brand)"
   ]
  },
  {
   "cell_type": "code",
   "execution_count": 27,
   "id": "858992e7",
   "metadata": {},
   "outputs": [
    {
     "data": {
      "text/plain": [
       "['Wildcraft',\n",
       " 'HOC',\n",
       " 'WOODLAND',\n",
       " 'BRUTON',\n",
       " 'BRUTON',\n",
       " 'Labbin',\n",
       " 'URBANBOX',\n",
       " 'FEWEYU',\n",
       " 'Magnolia',\n",
       " 'Chevit',\n",
       " 'BIRDE',\n",
       " 'U.S. POLO ASSN.',\n",
       " 'aadi',\n",
       " 'BIRDE',\n",
       " 'ONECENTRE',\n",
       " 'RapidBox',\n",
       " 'PUMA',\n",
       " 'PUMA',\n",
       " 'SFR',\n",
       " 'RapidBox',\n",
       " 'KWIK FIT',\n",
       " 'HOTSTYLE',\n",
       " 'corsac',\n",
       " 'corsac',\n",
       " 'ASTEROID',\n",
       " 'CLYMB',\n",
       " 'BRUTON',\n",
       " 'Echor',\n",
       " 'BIRDE',\n",
       " 'Kraasa',\n",
       " 'SCATCHITE',\n",
       " 'KNIGHT WALKERS',\n",
       " 'Kraasa',\n",
       " 'Layasa',\n",
       " 'Kraasa',\n",
       " 'U.S. POLO ASSN.',\n",
       " 'BIRDE',\n",
       " 'Kzaara',\n",
       " 'PUMA',\n",
       " 'HRX by Hrithik Roshan']"
      ]
     },
     "execution_count": 27,
     "metadata": {},
     "output_type": "execute_result"
    }
   ],
   "source": [
    "brand1 = []\n",
    "for b in brand:\n",
    "    brand1.append(b.text)\n",
    "brand1"
   ]
  },
  {
   "cell_type": "code",
   "execution_count": 29,
   "id": "68ea1c7f",
   "metadata": {},
   "outputs": [],
   "source": [
    "product = driver.find_elements(By.XPATH, \"//a[@class = 'IRpwTa']\")"
   ]
  },
  {
   "cell_type": "code",
   "execution_count": 30,
   "id": "8f9555ae",
   "metadata": {},
   "outputs": [
    {
     "data": {
      "text/plain": [
       "35"
      ]
     },
     "execution_count": 30,
     "metadata": {},
     "output_type": "execute_result"
    }
   ],
   "source": [
    "len(product)"
   ]
  },
  {
   "cell_type": "code",
   "execution_count": 31,
   "id": "9e71f8ef",
   "metadata": {},
   "outputs": [
    {
     "data": {
      "text/plain": [
       "['True Black Shoe Sneakers For Men',\n",
       " 'casual shoes for men Sneakers For Men',\n",
       " 'Sneakers For Men',\n",
       " 'Modern Trendy Sneakers Shoes Sneakers For Men',\n",
       " 'Modern Trendy Sneakers Shoes Sneakers For Men',\n",
       " 'Sneakers For Men',\n",
       " 'Fashionable casual sneaker shoes Sneakers For Men (Blac...',\n",
       " 'Sneakers For Men',\n",
       " 'Super Stylish & Trendy Combo Pack of 02 Pairs Sneakers ...',\n",
       " 'Stylish Comfortable Lightweight, Breathable Walking Sho...',\n",
       " 'Sneakers For Men',\n",
       " 'Stylish Comfortable Lightweight, Breathable Walking Sho...',\n",
       " 'STR2 Sneakers For Men',\n",
       " 'Puma Smash v2 L Sneakers For Men',\n",
       " 'Smash v2 L Sneakers For Men',\n",
       " 'Sneakers For Men',\n",
       " 'Kwik FIT casual sneaker shoes and partywear shoes Casua...',\n",
       " 'Sneakers For Men',\n",
       " 'STYLISH MENS BLACK SNEAKER Sneakers For Men',\n",
       " 'STYLISH MENS WHITE AND RED TRENDY SNEAKER FOR MENS Snea...',\n",
       " \"Original Luxury Branded Fashionable Men's Casual Walkin...\",\n",
       " 'Sneakers For Men',\n",
       " 'Sneaker Sneakers For Men',\n",
       " 'Boomerang Stylish & Comfortable Sneakers For Men',\n",
       " 'Stylish Comfortable Lightweight, Breathable Casual Walk...',\n",
       " 'Casuals, Canvas, Partywear Sneakers For Men',\n",
       " 'Sneakers Sneakers For Men',\n",
       " 'SS1100 Sneakers For Men',\n",
       " 'Shark-41 Sneakers For Men',\n",
       " 'Sneakers For Men',\n",
       " 'Series 7 Sneakers For Men',\n",
       " 'Sports Running Shoes Sneakers For Men',\n",
       " 'Sneakers For Men',\n",
       " 'ST Activate V2 Sneakers For Men',\n",
       " 'Sneakers For Men']"
      ]
     },
     "execution_count": 31,
     "metadata": {},
     "output_type": "execute_result"
    }
   ],
   "source": [
    "p_description = []\n",
    "for p in product:\n",
    "    p_description.append(p.text)\n",
    "p_description"
   ]
  },
  {
   "cell_type": "code",
   "execution_count": 33,
   "id": "b9fab44f",
   "metadata": {},
   "outputs": [],
   "source": [
    "product_5 = driver.find_elements(By.XPATH, \"//a[@class = 'IRpwTa _2-ICcC']\")"
   ]
  },
  {
   "cell_type": "code",
   "execution_count": 34,
   "id": "4a2bc524",
   "metadata": {},
   "outputs": [
    {
     "data": {
      "text/plain": [
       "5"
      ]
     },
     "execution_count": 34,
     "metadata": {},
     "output_type": "execute_result"
    }
   ],
   "source": [
    "len(product_5)"
   ]
  },
  {
   "cell_type": "code",
   "execution_count": 35,
   "id": "58500bf8",
   "metadata": {},
   "outputs": [
    {
     "data": {
      "text/plain": [
       "['Sneakers Sneakers For Men',\n",
       " 'Clarkin 2.0 Sneakers For Men',\n",
       " 'Stylish & Trendy Sneakers For Men',\n",
       " 'Sneakers For Men',\n",
       " 'TREGGER 2.0 Sneakers For Men']"
      ]
     },
     "execution_count": 35,
     "metadata": {},
     "output_type": "execute_result"
    }
   ],
   "source": [
    "p_description_5 = []\n",
    "for p in product_5:\n",
    "    p_description_5.append(p.text)\n",
    "p_description_5"
   ]
  },
  {
   "cell_type": "code",
   "execution_count": 36,
   "id": "7af3ebdc",
   "metadata": {},
   "outputs": [],
   "source": [
    "price = driver.find_elements(By.XPATH, \"//div[@class = '_30jeq3']\")"
   ]
  },
  {
   "cell_type": "code",
   "execution_count": 37,
   "id": "9f8a989a",
   "metadata": {},
   "outputs": [
    {
     "data": {
      "text/plain": [
       "40"
      ]
     },
     "execution_count": 37,
     "metadata": {},
     "output_type": "execute_result"
    }
   ],
   "source": [
    "len(price)"
   ]
  },
  {
   "cell_type": "code",
   "execution_count": 38,
   "id": "87ccb6b4",
   "metadata": {},
   "outputs": [
    {
     "data": {
      "text/plain": [
       "['₹1,119',\n",
       " '₹474',\n",
       " '₹2,096',\n",
       " '₹269',\n",
       " '₹299',\n",
       " '₹499',\n",
       " '₹198',\n",
       " '₹499',\n",
       " '₹449',\n",
       " '₹649',\n",
       " '₹378',\n",
       " '₹1,949',\n",
       " '₹319',\n",
       " '₹335',\n",
       " '₹299',\n",
       " '₹610',\n",
       " '₹1,763',\n",
       " '₹2,099',\n",
       " '₹289',\n",
       " '₹630',\n",
       " '₹397',\n",
       " '₹258',\n",
       " '₹499',\n",
       " '₹529',\n",
       " '₹474',\n",
       " '₹579',\n",
       " '₹269',\n",
       " '₹599',\n",
       " '₹335',\n",
       " '₹479',\n",
       " '₹399',\n",
       " '₹699',\n",
       " '₹479',\n",
       " '₹499',\n",
       " '₹479',\n",
       " '₹2,989',\n",
       " '₹249',\n",
       " '₹254',\n",
       " '₹1,749',\n",
       " '₹2,182']"
      ]
     },
     "execution_count": 38,
     "metadata": {},
     "output_type": "execute_result"
    }
   ],
   "source": [
    "price1 = []\n",
    "for p in price:\n",
    "    price1.append(p.text)\n",
    "price1"
   ]
  },
  {
   "cell_type": "code",
   "execution_count": null,
   "id": "92191174",
   "metadata": {},
   "outputs": [],
   "source": [
    "top40 = "
   ]
  },
  {
   "cell_type": "code",
   "execution_count": null,
   "id": "ab5a814a",
   "metadata": {},
   "outputs": [],
   "source": []
  },
  {
   "cell_type": "code",
   "execution_count": 39,
   "id": "1a4a7a27",
   "metadata": {},
   "outputs": [
    {
     "data": {
      "text/plain": [
       "<selenium.webdriver.remote.webelement.WebElement (session=\"7f82c74bdec64555bf270ad074b9b788\", element=\"7a5f47f4-6691-4696-9901-c0fffb6a0aab\")>"
      ]
     },
     "execution_count": 39,
     "metadata": {},
     "output_type": "execute_result"
    }
   ],
   "source": [
    "next_btn = driver.find_element(By.XPATH, \"/html/body/div/div/div[3]/div[1]/div[2]/div[12]/div/div/nav/a[11]\")\n",
    "next_btn  "
   ]
  },
  {
   "cell_type": "code",
   "execution_count": 40,
   "id": "686abc7b",
   "metadata": {},
   "outputs": [],
   "source": [
    "next_btn.click()"
   ]
  },
  {
   "cell_type": "code",
   "execution_count": 45,
   "id": "dbc9fa67",
   "metadata": {},
   "outputs": [],
   "source": [
    "brand2 = driver.find_elements(By.XPATH, \"//div[@class = '_2WkVRV']\")"
   ]
  },
  {
   "cell_type": "code",
   "execution_count": 46,
   "id": "50cd6f4d",
   "metadata": {},
   "outputs": [
    {
     "data": {
      "text/plain": [
       "40"
      ]
     },
     "execution_count": 46,
     "metadata": {},
     "output_type": "execute_result"
    }
   ],
   "source": [
    "len(brand2)"
   ]
  },
  {
   "cell_type": "code",
   "execution_count": 47,
   "id": "e5b92eb6",
   "metadata": {},
   "outputs": [
    {
     "data": {
      "text/plain": [
       "['D-SNEAKERZ',\n",
       " 'Robbie jones',\n",
       " 'BRUTON',\n",
       " 'Wildcraft',\n",
       " 'PUMA',\n",
       " 'aadi',\n",
       " 'Rzisbo',\n",
       " 'FEWEYU',\n",
       " 'BRUTON',\n",
       " 'Noztile',\n",
       " 'KNIGHT WALKERS',\n",
       " 'U.S. POLO ASSN.',\n",
       " 'Dizzler',\n",
       " 'DUKE',\n",
       " 'Magnolia',\n",
       " 'RapidBox',\n",
       " 'ASTEROID',\n",
       " 'SPARX',\n",
       " 'WHITE WALKERS',\n",
       " 'RapidBox',\n",
       " 'Numenzo',\n",
       " 'AMICO',\n",
       " 'aadi',\n",
       " 'corsac',\n",
       " 'Airland',\n",
       " 'Shoes Bank',\n",
       " 'Airland',\n",
       " 'Echor',\n",
       " 'Aragats',\n",
       " 'Chevit',\n",
       " 'Eiffel',\n",
       " 'KNIGHT WALKERS',\n",
       " 'Numenzo',\n",
       " 'LE GREEM',\n",
       " 'luxury fashion',\n",
       " 'U.S. POLO ASSN.',\n",
       " 'India hub',\n",
       " 'BRUTON',\n",
       " 'BIRDE',\n",
       " 'HRX by Hrithik Roshan']"
      ]
     },
     "execution_count": 47,
     "metadata": {},
     "output_type": "execute_result"
    }
   ],
   "source": [
    "brand22 = []\n",
    "for b in brand2:\n",
    "    brand22.append(b.text)\n",
    "brand22"
   ]
  },
  {
   "cell_type": "code",
   "execution_count": 50,
   "id": "438f57e4",
   "metadata": {},
   "outputs": [],
   "source": [
    "product2 = driver.find_elements(By.XPATH, \"//a[@class = 'IRpwTa']\")"
   ]
  },
  {
   "cell_type": "code",
   "execution_count": 51,
   "id": "26168268",
   "metadata": {},
   "outputs": [
    {
     "data": {
      "text/plain": [
       "34"
      ]
     },
     "execution_count": 51,
     "metadata": {},
     "output_type": "execute_result"
    }
   ],
   "source": [
    "len(product2)"
   ]
  },
  {
   "cell_type": "code",
   "execution_count": 52,
   "id": "0bcc84a6",
   "metadata": {},
   "outputs": [
    {
     "data": {
      "text/plain": [
       "[\"Casual , Partywear Sneakers Shoes For Men's And Boys Wh...\",\n",
       " 'Casual Sneakers Canvas Shoes For Men Sneakers For Men',\n",
       " 'Lattest Sneakers Shoe Sneakers For Men',\n",
       " 'True Black Shoe Sneakers For Men',\n",
       " 'Smash v2 L White- Black Sneakers For Men',\n",
       " 'Sneakers For Men',\n",
       " 'Sneakers For Men',\n",
       " 'Fashionable casual sneaker shoes Sneakers For Men (Blac...',\n",
       " 'Lightweight Pack Of 1 Trendy Sneakers Sneakers For Men',\n",
       " 'Sneakers For Men',\n",
       " 'SS1100 Sneakers For Men',\n",
       " 'Sneakers For Men',\n",
       " 'Sneakers For Men',\n",
       " 'Original Luxury Branded Black Fancy Casual Walking Part...',\n",
       " 'Men White Sneakers Sneakers For Men',\n",
       " 'Stylish & Trending Outdoor Walking Comfortable Sneakers...',\n",
       " '411 Casual Sneakers For Men',\n",
       " 'Sneakers For Men',\n",
       " 'Mesh | Ultralightweight | Comfortable | Breathable Walk...',\n",
       " 'STYLISH MENS WHITE AND RED TRENDY SNEAKER FOR MENS Snea...',\n",
       " '1259 smart black lace-ups sneakers for men Sneakers For...',\n",
       " \"White Sneaker For Men's/Boy's Sneakers For Men\",\n",
       " 'sneaker men red 1258 - 8 Sneakers For Men',\n",
       " 'Boomerang Stylish & Comfortable Sneakers For Men',\n",
       " 'Casual Sneakers For Men',\n",
       " \"Men's Combo Pack of 02 Shoes for Men Casual Sneakers Ou...\",\n",
       " 'SS1100 Sneakers For Men',\n",
       " 'Sneakers For Men',\n",
       " 'Comfortable & Ultra Light Weight Sneaker Sneakers For M...',\n",
       " 'Luxury Fashionable casual sneaker shoes Sneakers For Me...',\n",
       " 'Luxury Fashionable casual sneaker shoes Sneakers For Me...',\n",
       " 'Combo Pack Of 2 Latest Stylish Casual Shoes for Men Lac...',\n",
       " 'Stylish Comfortable Lightweight, Breathable Walking Sho...',\n",
       " 'Sneakers For Men']"
      ]
     },
     "execution_count": 52,
     "metadata": {},
     "output_type": "execute_result"
    }
   ],
   "source": [
    "p_description2 = []\n",
    "for p in product2:\n",
    "    p_description2.append(p.text)\n",
    "p_description2"
   ]
  },
  {
   "cell_type": "code",
   "execution_count": 53,
   "id": "756a930e",
   "metadata": {},
   "outputs": [],
   "source": [
    "product_2d = driver.find_elements(By.XPATH, \"//a[@class='IRpwTa _2-ICcC']\")"
   ]
  },
  {
   "cell_type": "code",
   "execution_count": 54,
   "id": "230fee56",
   "metadata": {},
   "outputs": [
    {
     "data": {
      "text/plain": [
       "6"
      ]
     },
     "execution_count": 54,
     "metadata": {},
     "output_type": "execute_result"
    }
   ],
   "source": [
    "len(product_2d)"
   ]
  },
  {
   "cell_type": "code",
   "execution_count": 55,
   "id": "8a279ac1",
   "metadata": {},
   "outputs": [
    {
     "data": {
      "text/plain": [
       "['Clarkin 2.0 Sneakers For Men',\n",
       " 'Sneakers For Men',\n",
       " 'Stylish & Trendy Sneakers For Men',\n",
       " 'Sneakers For Men',\n",
       " 'Stylish & Comfortable Sneakers For Men',\n",
       " 'TREGGER 2.0 Sneakers For Men']"
      ]
     },
     "execution_count": 55,
     "metadata": {},
     "output_type": "execute_result"
    }
   ],
   "source": [
    "p_description2d = []\n",
    "for p in product_2d:\n",
    "    p_description2d.append(p.text)\n",
    "p_description2d"
   ]
  },
  {
   "cell_type": "code",
   "execution_count": 56,
   "id": "ac43ddd0",
   "metadata": {},
   "outputs": [],
   "source": [
    "price2 = driver.find_elements(By.XPATH, \"//div[@class = '_30jeq3']\")"
   ]
  },
  {
   "cell_type": "code",
   "execution_count": 57,
   "id": "6f3d5eb4",
   "metadata": {},
   "outputs": [
    {
     "data": {
      "text/plain": [
       "40"
      ]
     },
     "execution_count": 57,
     "metadata": {},
     "output_type": "execute_result"
    }
   ],
   "source": [
    "price22 = []\n",
    "for p in price2:\n",
    "    price22.append(p.text)\n",
    "len(price22)"
   ]
  },
  {
   "cell_type": "code",
   "execution_count": 58,
   "id": "879bdb5d",
   "metadata": {},
   "outputs": [],
   "source": [
    "next_btn.click()"
   ]
  },
  {
   "cell_type": "code",
   "execution_count": null,
   "id": "0092945c",
   "metadata": {},
   "outputs": [],
   "source": []
  },
  {
   "cell_type": "code",
   "execution_count": null,
   "id": "453e6887",
   "metadata": {},
   "outputs": [],
   "source": []
  },
  {
   "cell_type": "code",
   "execution_count": 28,
   "id": "93b77252",
   "metadata": {},
   "outputs": [
    {
     "ename": "NameError",
     "evalue": "name 'product_description' is not defined",
     "output_type": "error",
     "traceback": [
      "\u001b[1;31m---------------------------------------------------------------------------\u001b[0m",
      "\u001b[1;31mNameError\u001b[0m                                 Traceback (most recent call last)",
      "Input \u001b[1;32mIn [28]\u001b[0m, in \u001b[0;36m<cell line: 2>\u001b[1;34m()\u001b[0m\n\u001b[0;32m      1\u001b[0m p_description \u001b[38;5;241m=\u001b[39m []\n\u001b[1;32m----> 2\u001b[0m \u001b[38;5;28;01mfor\u001b[39;00m p \u001b[38;5;129;01min\u001b[39;00m \u001b[43mproduct_description\u001b[49m:\n\u001b[0;32m      3\u001b[0m     p_description\u001b[38;5;241m.\u001b[39mappend(p\u001b[38;5;241m.\u001b[39mtext)\n\u001b[0;32m      4\u001b[0m p_description\n",
      "\u001b[1;31mNameError\u001b[0m: name 'product_description' is not defined"
     ]
    }
   ],
   "source": [
    "p_description = []\n",
    "for p in product_description:\n",
    "    p_description.append(p.text)\n",
    "p_description"
   ]
  },
  {
   "cell_type": "code",
   "execution_count": null,
   "id": "7ebe1355",
   "metadata": {},
   "outputs": [],
   "source": []
  },
  {
   "cell_type": "code",
   "execution_count": 11,
   "id": "5d2ec186",
   "metadata": {},
   "outputs": [
    {
     "data": {
      "text/plain": [
       "36"
      ]
     },
     "execution_count": 11,
     "metadata": {},
     "output_type": "execute_result"
    }
   ],
   "source": [
    "len(p_description)"
   ]
  },
  {
   "cell_type": "code",
   "execution_count": 12,
   "id": "1d9ed3dc",
   "metadata": {},
   "outputs": [
    {
     "data": {
      "text/plain": [
       "<selenium.webdriver.remote.webelement.WebElement (session=\"fc3b225d9b7e294048e10aead720b35a\", element=\"25488ff0-05c2-43a8-a481-c053f3b83f83\")>"
      ]
     },
     "execution_count": 12,
     "metadata": {},
     "output_type": "execute_result"
    }
   ],
   "source": [
    "next_btn = driver.find_element(By.XPATH, \"/html/body/div/div/div[3]/div[1]/div[2]/div[12]/div/div/nav/a[11]\")\n",
    "next_btn  "
   ]
  },
  {
   "cell_type": "code",
   "execution_count": 13,
   "id": "1858ad4b",
   "metadata": {},
   "outputs": [],
   "source": [
    "next_btn.click()"
   ]
  },
  {
   "cell_type": "code",
   "execution_count": 62,
   "id": "15b288e4",
   "metadata": {},
   "outputs": [],
   "source": [
    "brand3 = driver.find_elements(By.XPATH, \"//div[@class = '_2WkVRV']\")"
   ]
  },
  {
   "cell_type": "code",
   "execution_count": 64,
   "id": "f945e068",
   "metadata": {},
   "outputs": [
    {
     "data": {
      "text/plain": [
       "20"
      ]
     },
     "execution_count": 64,
     "metadata": {},
     "output_type": "execute_result"
    }
   ],
   "source": [
    "brand33 = []\n",
    "for b in brand3:\n",
    "    brand33.append(b.text)\n",
    "len(brand33)\n",
    "brand33 = brand33[0:20]\n",
    "len(brand33)"
   ]
  },
  {
   "cell_type": "code",
   "execution_count": 59,
   "id": "2bef1f0e",
   "metadata": {},
   "outputs": [],
   "source": [
    "product3 = driver.find_elements(By.XPATH, \"//a[@class = 'IRpwTa']\")"
   ]
  },
  {
   "cell_type": "code",
   "execution_count": 65,
   "id": "5d60f217",
   "metadata": {},
   "outputs": [
    {
     "data": {
      "text/plain": [
       "20"
      ]
     },
     "execution_count": 65,
     "metadata": {},
     "output_type": "execute_result"
    }
   ],
   "source": [
    "product33 = []\n",
    "for p in product3:\n",
    "    product33.append(p.text)\n",
    "len(product33)\n",
    "product33 = product33[0:20]\n",
    "len(product33)"
   ]
  },
  {
   "cell_type": "code",
   "execution_count": 61,
   "id": "01b31e3a",
   "metadata": {},
   "outputs": [
    {
     "data": {
      "text/plain": [
       "['Sneakers For Men',\n",
       " 'True Black Shoe Sneakers For Men',\n",
       " 'Combo Pack of 3 Casual Shoes Sneakers For Men',\n",
       " 'Sneakers For Men',\n",
       " 'Fashionable casual sneaker shoes Sneakers For Men (Blac...',\n",
       " 'Casual Sneakers White Shoes For Men Sneakers For Men',\n",
       " 'Stylish & Trending Outdoor Walking Comfortable Sneakers...',\n",
       " 'Stylish & Trending Outdoor Walking Comfortable Sneakers...',\n",
       " 'Stylish Party Wear Casual Sneakers Shoes For Men Sneake...',\n",
       " 'Sneakers For Men',\n",
       " 'Trinity Sneakers For Men',\n",
       " 'Exclusive Sneaker Shoes Sneakers For Men',\n",
       " 'STYLISH MENS WHITE AND RED TRENDY SNEAKER FOR MENS Snea...',\n",
       " 'Combo Pack of 3 Casual Shoes, Sneakers For Men',\n",
       " \"White casual, gym,training & Running sneakers for men's...\",\n",
       " 'Sneakers For Men',\n",
       " 'Boomerang Stylish & Comfortable Sneakers For Men',\n",
       " 'Sneakers For Men',\n",
       " 'Sneakers For Men',\n",
       " 'Brave Sneakers For Men',\n",
       " 'SS1100 Sneakers For Men',\n",
       " 'R78 Sneakers For Men',\n",
       " 'Blend Sneakers For Men',\n",
       " 'STYLISH MENS BLACK TRENDY SNEAKER FOR MENS Sneakers For...',\n",
       " 'Sneakers For Men',\n",
       " 'Sneakers For Men',\n",
       " 'Sneakers For Men',\n",
       " 'Sneakers For Men',\n",
       " 'CLARKIN Sneakers For Men']"
      ]
     },
     "execution_count": 61,
     "metadata": {},
     "output_type": "execute_result"
    }
   ],
   "source": [
    "product33"
   ]
  },
  {
   "cell_type": "code",
   "execution_count": 66,
   "id": "e2bd4a54",
   "metadata": {},
   "outputs": [],
   "source": [
    "price3 = driver.find_elements(By.XPATH, \"//div[@class = '_30jeq3']\")"
   ]
  },
  {
   "cell_type": "code",
   "execution_count": 67,
   "id": "443b1cec",
   "metadata": {},
   "outputs": [
    {
     "data": {
      "text/plain": [
       "20"
      ]
     },
     "execution_count": 67,
     "metadata": {},
     "output_type": "execute_result"
    }
   ],
   "source": [
    "price33 = []\n",
    "for p in price3:\n",
    "    price33.append(p.text)\n",
    "price33 = price33[0:20]\n",
    "len(price33)"
   ]
  },
  {
   "cell_type": "code",
   "execution_count": null,
   "id": "3d65ad9b",
   "metadata": {},
   "outputs": [],
   "source": []
  },
  {
   "cell_type": "code",
   "execution_count": null,
   "id": "432a8a99",
   "metadata": {},
   "outputs": [],
   "source": []
  },
  {
   "cell_type": "code",
   "execution_count": null,
   "id": "1d67e6c0",
   "metadata": {},
   "outputs": [],
   "source": []
  },
  {
   "cell_type": "code",
   "execution_count": null,
   "id": "43e6ca7e",
   "metadata": {},
   "outputs": [],
   "source": []
  },
  {
   "cell_type": "code",
   "execution_count": null,
   "id": "f64bcf0e",
   "metadata": {},
   "outputs": [],
   "source": []
  },
  {
   "cell_type": "code",
   "execution_count": null,
   "id": "21918c88",
   "metadata": {},
   "outputs": [],
   "source": []
  },
  {
   "cell_type": "code",
   "execution_count": null,
   "id": "671c6564",
   "metadata": {},
   "outputs": [],
   "source": []
  },
  {
   "cell_type": "code",
   "execution_count": null,
   "id": "7b8bbee8",
   "metadata": {},
   "outputs": [],
   "source": []
  },
  {
   "cell_type": "code",
   "execution_count": null,
   "id": "cc54b5b6",
   "metadata": {},
   "outputs": [],
   "source": []
  },
  {
   "cell_type": "code",
   "execution_count": null,
   "id": "146d95b4",
   "metadata": {},
   "outputs": [],
   "source": [
    "#QUESTION 10 "
   ]
  },
  {
   "cell_type": "code",
   "execution_count": 47,
   "id": "95df4134",
   "metadata": {},
   "outputs": [],
   "source": [
    "import selenium\n",
    "from selenium import webdriver\n",
    "import pandas as pd\n",
    "import warnings\n",
    "warnings.filterwarnings(\"ignore\")\n",
    "from selenium.webdriver.common.by import By\n",
    "from selenium.webdriver.common.keys import Keys"
   ]
  },
  {
   "cell_type": "code",
   "execution_count": 48,
   "id": "45974211",
   "metadata": {},
   "outputs": [],
   "source": [
    "driver = webdriver.Chrome(r\"C:\\Users\\ANSH\\Downloads\\chromedriver.exe\")"
   ]
  },
  {
   "cell_type": "code",
   "execution_count": 49,
   "id": "64834df5",
   "metadata": {},
   "outputs": [],
   "source": [
    "url = 'https://www.ambitionbox.com/'\n",
    "driver.get(url)"
   ]
  },
  {
   "cell_type": "code",
   "execution_count": 50,
   "id": "573b4b22",
   "metadata": {},
   "outputs": [],
   "source": [
    "salaries = driver.find_element(By.XPATH, \"/html/body/div[1]/nav/nav/a[4]\")"
   ]
  },
  {
   "cell_type": "code",
   "execution_count": 51,
   "id": "4c05dc93",
   "metadata": {},
   "outputs": [],
   "source": [
    "salaries.click()"
   ]
  },
  {
   "cell_type": "code",
   "execution_count": 52,
   "id": "5056fea6",
   "metadata": {},
   "outputs": [
    {
     "data": {
      "text/plain": [
       "<selenium.webdriver.remote.webelement.WebElement (session=\"a8b4c9feaecf1f0890896fd091c00400\", element=\"74e27fc1-4050-4086-8af9-58bf62fc30bb\")>"
      ]
     },
     "execution_count": 52,
     "metadata": {},
     "output_type": "execute_result"
    }
   ],
   "source": [
    "search_bar = driver.find_element(By.XPATH, \"/html/body/div/div/div/main/section[1]/div[2]/div[1]/span/input\")\n",
    "search_bar"
   ]
  },
  {
   "cell_type": "code",
   "execution_count": 53,
   "id": "42fa4724",
   "metadata": {},
   "outputs": [],
   "source": [
    "search_bar.send_keys(\"Data Scientist\")"
   ]
  },
  {
   "cell_type": "code",
   "execution_count": 54,
   "id": "1f9c9453",
   "metadata": {},
   "outputs": [],
   "source": [
    "search = driver.find_element(By.XPATH, \"//button[@class='ab_btn search-btn round']\")"
   ]
  },
  {
   "cell_type": "code",
   "execution_count": 55,
   "id": "6097733c",
   "metadata": {},
   "outputs": [],
   "source": [
    "search.click()"
   ]
  },
  {
   "cell_type": "code",
   "execution_count": 56,
   "id": "d7370ac7",
   "metadata": {},
   "outputs": [],
   "source": [
    "data_science = driver.find_element(By.XPATH, \"/html/body/div/div/div/main/section[1]/div[2]/div[1]/span/div/div/div[1]/div/div/p\")"
   ]
  },
  {
   "cell_type": "code",
   "execution_count": 57,
   "id": "ebb3a165",
   "metadata": {},
   "outputs": [],
   "source": [
    "search_bar.send_keys(Keys.ENTER)"
   ]
  },
  {
   "cell_type": "code",
   "execution_count": 58,
   "id": "fc161824",
   "metadata": {},
   "outputs": [],
   "source": [
    "search_bar.click()"
   ]
  },
  {
   "cell_type": "code",
   "execution_count": 59,
   "id": "781843ac",
   "metadata": {},
   "outputs": [
    {
     "data": {
      "text/plain": [
       "<selenium.webdriver.remote.webelement.WebElement (session=\"a8b4c9feaecf1f0890896fd091c00400\", element=\"c47255eb-c96b-4360-9ad0-a0972fd6fca0\")>"
      ]
     },
     "execution_count": 59,
     "metadata": {},
     "output_type": "execute_result"
    }
   ],
   "source": [
    "submit_btn = driver.find_element(By.XPATH, \"/html/body/div/div/div/main/section[1]/div[2]/div[1]/span/div/div/div[1]/div/div/p\")\n",
    "submit_btn"
   ]
  },
  {
   "cell_type": "code",
   "execution_count": 15,
   "id": "861a5d10",
   "metadata": {},
   "outputs": [],
   "source": [
    "min_salary = driver.find_elements(By.XPATH, \"//div[@class = 'value body-medium']\") "
   ]
  },
  {
   "cell_type": "code",
   "execution_count": 16,
   "id": "6da29a82",
   "metadata": {},
   "outputs": [
    {
     "data": {
      "text/plain": [
       "20"
      ]
     },
     "execution_count": 16,
     "metadata": {},
     "output_type": "execute_result"
    }
   ],
   "source": [
    "len(min_salary)"
   ]
  },
  {
   "cell_type": "code",
   "execution_count": 17,
   "id": "38470c08",
   "metadata": {},
   "outputs": [
    {
     "data": {
      "text/plain": [
       "['₹ 11.0L',\n",
       " '₹ 13.0L',\n",
       " '₹ 12.0L',\n",
       " '₹ 12.0L',\n",
       " '₹ 8.0L',\n",
       " '₹ 13.0L',\n",
       " '₹ 7.5L',\n",
       " '₹ 11.4L',\n",
       " '₹ 11.0L',\n",
       " '₹ 14.0L']"
      ]
     },
     "execution_count": 17,
     "metadata": {},
     "output_type": "execute_result"
    }
   ],
   "source": [
    "m_salary = []\n",
    "for m in min_salary:\n",
    "    m_salary.append(m.text)\n",
    "minimum_salary = m_salary[0:20:2]\n",
    "minimum_salary"
   ]
  },
  {
   "cell_type": "code",
   "execution_count": 18,
   "id": "80396247",
   "metadata": {},
   "outputs": [],
   "source": [
    "avg_salary = driver.find_elements(By.XPATH, \"//p[@class = 'averageCtc']\")"
   ]
  },
  {
   "cell_type": "code",
   "execution_count": 19,
   "id": "ba06d8ac",
   "metadata": {},
   "outputs": [
    {
     "data": {
      "text/plain": [
       "10"
      ]
     },
     "execution_count": 19,
     "metadata": {},
     "output_type": "execute_result"
    }
   ],
   "source": [
    "len(avg_salary)"
   ]
  },
  {
   "cell_type": "code",
   "execution_count": 20,
   "id": "77adcf6d",
   "metadata": {},
   "outputs": [
    {
     "data": {
      "text/plain": [
       "['₹ 31.3L',\n",
       " '₹ 24.0L',\n",
       " '₹ 23.0L',\n",
       " '₹ 21.2L',\n",
       " '₹ 21.0L',\n",
       " '₹ 20.5L',\n",
       " '₹ 20.4L',\n",
       " '₹ 20.0L',\n",
       " '₹ 19.9L',\n",
       " '₹ 19.5L']"
      ]
     },
     "execution_count": 20,
     "metadata": {},
     "output_type": "execute_result"
    }
   ],
   "source": [
    "a_salary = []\n",
    "for a in avg_salary:\n",
    "    a_salary.append(a.text)\n",
    "a_salary"
   ]
  },
  {
   "cell_type": "code",
   "execution_count": 21,
   "id": "439e2ad3",
   "metadata": {},
   "outputs": [],
   "source": [
    "max_salary = driver.find_elements(By.XPATH, \"//div[@class = 'value body-medium']\")"
   ]
  },
  {
   "cell_type": "code",
   "execution_count": 22,
   "id": "43e97d97",
   "metadata": {},
   "outputs": [
    {
     "data": {
      "text/plain": [
       "20"
      ]
     },
     "execution_count": 22,
     "metadata": {},
     "output_type": "execute_result"
    }
   ],
   "source": [
    "len(max_salary)"
   ]
  },
  {
   "cell_type": "code",
   "execution_count": 23,
   "id": "2c9ec873",
   "metadata": {},
   "outputs": [],
   "source": [
    "maximum_salary = m_salary[1:20:2]"
   ]
  },
  {
   "cell_type": "code",
   "execution_count": 24,
   "id": "a2515711",
   "metadata": {},
   "outputs": [
    {
     "data": {
      "text/plain": [
       "['₹ 65.0L',\n",
       " '₹ 50.0L',\n",
       " '₹ 34.0L',\n",
       " '₹ 33.0L',\n",
       " '₹ 45.0L',\n",
       " '₹ 28.0L',\n",
       " '₹ 31.0L',\n",
       " '₹ 32.5L',\n",
       " '₹ 31.0L',\n",
       " '₹ 27.0L']"
      ]
     },
     "execution_count": 24,
     "metadata": {},
     "output_type": "execute_result"
    }
   ],
   "source": [
    "maximum_salary"
   ]
  },
  {
   "cell_type": "code",
   "execution_count": 25,
   "id": "9e75e025",
   "metadata": {},
   "outputs": [],
   "source": [
    "avg_record = driver.find_elements(By.XPATH, \"//span[@class = 'datapoints']\")"
   ]
  },
  {
   "cell_type": "code",
   "execution_count": 26,
   "id": "918e89f8",
   "metadata": {},
   "outputs": [
    {
     "data": {
      "text/plain": [
       "10"
      ]
     },
     "execution_count": 26,
     "metadata": {},
     "output_type": "execute_result"
    }
   ],
   "source": [
    "len(avg_record)"
   ]
  },
  {
   "cell_type": "code",
   "execution_count": 27,
   "id": "9f2e78bd",
   "metadata": {},
   "outputs": [
    {
     "data": {
      "text/plain": [
       "['(based on 35 salaries)',\n",
       " '(based on 274 salaries)',\n",
       " '(based on 18 salaries)',\n",
       " '(based on 35 salaries)',\n",
       " '(based on 122 salaries)',\n",
       " '(based on 60 salaries)',\n",
       " '(based on 64 salaries)',\n",
       " '(based on 87 salaries)',\n",
       " '(based on 29 salaries)',\n",
       " '(based on 10 salaries)']"
      ]
     },
     "execution_count": 27,
     "metadata": {},
     "output_type": "execute_result"
    }
   ],
   "source": [
    "average_record = []\n",
    "for a in avg_record:\n",
    "    average_record.append(a.text)\n",
    "average_record"
   ]
  },
  {
   "cell_type": "code",
   "execution_count": 28,
   "id": "619f188f",
   "metadata": {},
   "outputs": [],
   "source": [
    "company_name = driver.find_elements(By.XPATH, \"//div[@class = 'company-info']\")"
   ]
  },
  {
   "cell_type": "code",
   "execution_count": 29,
   "id": "7baf1307",
   "metadata": {},
   "outputs": [
    {
     "data": {
      "text/plain": [
       "25"
      ]
     },
     "execution_count": 29,
     "metadata": {},
     "output_type": "execute_result"
    }
   ],
   "source": [
    "len(company_name)"
   ]
  },
  {
   "cell_type": "code",
   "execution_count": 30,
   "id": "31406d94",
   "metadata": {},
   "outputs": [],
   "source": [
    "comp = []\n",
    "for c in company_name:\n",
    "    comp.append(c.text)\n",
    "comp= comp[0:10]"
   ]
  },
  {
   "cell_type": "code",
   "execution_count": 32,
   "id": "2040af56",
   "metadata": {},
   "outputs": [
    {
     "data": {
      "text/plain": [
       "['Google\\nSoftware Engineer Salary\\n1-3 yrs experience (based on 35 salaries)',\n",
       " 'Microsoft Corporation\\nSoftware Engineer Salary\\n1-4 yrs experience (based on 274 salaries)',\n",
       " 'Goldman Sachs\\nSoftware Engineer Salary\\n2 yrs experience (based on 18 salaries)',\n",
       " 'Tekion\\nSoftware Engineer Salary\\n2-4 yrs experience (based on 35 salaries)',\n",
       " 'Amazon\\nSoftware Engineer Salary\\n1-4 yrs experience (based on 122 salaries)',\n",
       " 'Servicenow Software Development India\\nSoftware Engineer Salary\\n2-4 yrs experience (based on 60 salaries)',\n",
       " 'Flipkart\\nSoftware Engineer Salary\\n1-4 yrs experience (based on 64 salaries)',\n",
       " 'Walmart\\nSoftware Engineer Salary\\n1-4 yrs experience (based on 87 salaries)',\n",
       " 'PayPal\\nSoftware Engineer Salary\\n1-2 yrs experience (based on 29 salaries)',\n",
       " 'Myntra\\nSoftware Engineer Salary\\n1 yr experience (based on 10 salaries)']"
      ]
     },
     "execution_count": 32,
     "metadata": {},
     "output_type": "execute_result"
    }
   ],
   "source": [
    "comp"
   ]
  },
  {
   "cell_type": "code",
   "execution_count": 33,
   "id": "3045b3c1",
   "metadata": {},
   "outputs": [],
   "source": [
    "com = [i.split('\\n', 1)[0] for i in comp]"
   ]
  },
  {
   "cell_type": "code",
   "execution_count": 34,
   "id": "0735b5db",
   "metadata": {},
   "outputs": [
    {
     "data": {
      "text/plain": [
       "['Google',\n",
       " 'Microsoft Corporation',\n",
       " 'Goldman Sachs',\n",
       " 'Tekion',\n",
       " 'Amazon',\n",
       " 'Servicenow Software Development India',\n",
       " 'Flipkart',\n",
       " 'Walmart',\n",
       " 'PayPal',\n",
       " 'Myntra']"
      ]
     },
     "execution_count": 34,
     "metadata": {},
     "output_type": "execute_result"
    }
   ],
   "source": [
    "com"
   ]
  },
  {
   "cell_type": "code",
   "execution_count": 35,
   "id": "f58d0842",
   "metadata": {},
   "outputs": [],
   "source": [
    "data = pd.DataFrame({'COMPANY NAME': com, 'MINIMUM SALARY': minimum_salary, 'AVERAGE SALARY': a_salary, 'MAXIMUM SALARY': maximum_salary, 'SALARY BASE ON AVERAGE RECORD': average_record})"
   ]
  },
  {
   "cell_type": "code",
   "execution_count": 36,
   "id": "ed316f26",
   "metadata": {},
   "outputs": [
    {
     "data": {
      "text/html": [
       "<div>\n",
       "<style scoped>\n",
       "    .dataframe tbody tr th:only-of-type {\n",
       "        vertical-align: middle;\n",
       "    }\n",
       "\n",
       "    .dataframe tbody tr th {\n",
       "        vertical-align: top;\n",
       "    }\n",
       "\n",
       "    .dataframe thead th {\n",
       "        text-align: right;\n",
       "    }\n",
       "</style>\n",
       "<table border=\"1\" class=\"dataframe\">\n",
       "  <thead>\n",
       "    <tr style=\"text-align: right;\">\n",
       "      <th></th>\n",
       "      <th>COMPANY NAME</th>\n",
       "      <th>MINIMUM SALARY</th>\n",
       "      <th>AVERAGE SALARY</th>\n",
       "      <th>MAXIMUM SALARY</th>\n",
       "      <th>SALARY BASE ON AVERAGE RECORD</th>\n",
       "    </tr>\n",
       "  </thead>\n",
       "  <tbody>\n",
       "    <tr>\n",
       "      <th>0</th>\n",
       "      <td>Google</td>\n",
       "      <td>₹ 11.0L</td>\n",
       "      <td>₹ 31.3L</td>\n",
       "      <td>₹ 65.0L</td>\n",
       "      <td>(based on 35 salaries)</td>\n",
       "    </tr>\n",
       "    <tr>\n",
       "      <th>1</th>\n",
       "      <td>Microsoft Corporation</td>\n",
       "      <td>₹ 13.0L</td>\n",
       "      <td>₹ 24.0L</td>\n",
       "      <td>₹ 50.0L</td>\n",
       "      <td>(based on 274 salaries)</td>\n",
       "    </tr>\n",
       "    <tr>\n",
       "      <th>2</th>\n",
       "      <td>Goldman Sachs</td>\n",
       "      <td>₹ 12.0L</td>\n",
       "      <td>₹ 23.0L</td>\n",
       "      <td>₹ 34.0L</td>\n",
       "      <td>(based on 18 salaries)</td>\n",
       "    </tr>\n",
       "    <tr>\n",
       "      <th>3</th>\n",
       "      <td>Tekion</td>\n",
       "      <td>₹ 12.0L</td>\n",
       "      <td>₹ 21.2L</td>\n",
       "      <td>₹ 33.0L</td>\n",
       "      <td>(based on 35 salaries)</td>\n",
       "    </tr>\n",
       "    <tr>\n",
       "      <th>4</th>\n",
       "      <td>Amazon</td>\n",
       "      <td>₹ 8.0L</td>\n",
       "      <td>₹ 21.0L</td>\n",
       "      <td>₹ 45.0L</td>\n",
       "      <td>(based on 122 salaries)</td>\n",
       "    </tr>\n",
       "  </tbody>\n",
       "</table>\n",
       "</div>"
      ],
      "text/plain": [
       "            COMPANY NAME MINIMUM SALARY AVERAGE SALARY MAXIMUM SALARY  \\\n",
       "0                 Google        ₹ 11.0L        ₹ 31.3L        ₹ 65.0L   \n",
       "1  Microsoft Corporation        ₹ 13.0L        ₹ 24.0L        ₹ 50.0L   \n",
       "2          Goldman Sachs        ₹ 12.0L        ₹ 23.0L        ₹ 34.0L   \n",
       "3                 Tekion        ₹ 12.0L        ₹ 21.2L        ₹ 33.0L   \n",
       "4                 Amazon         ₹ 8.0L        ₹ 21.0L        ₹ 45.0L   \n",
       "\n",
       "  SALARY BASE ON AVERAGE RECORD  \n",
       "0        (based on 35 salaries)  \n",
       "1       (based on 274 salaries)  \n",
       "2        (based on 18 salaries)  \n",
       "3        (based on 35 salaries)  \n",
       "4       (based on 122 salaries)  "
      ]
     },
     "execution_count": 36,
     "metadata": {},
     "output_type": "execute_result"
    }
   ],
   "source": [
    "data.head()"
   ]
  },
  {
   "cell_type": "code",
   "execution_count": null,
   "id": "23155938",
   "metadata": {},
   "outputs": [],
   "source": []
  },
  {
   "cell_type": "code",
   "execution_count": null,
   "id": "91189be6",
   "metadata": {},
   "outputs": [],
   "source": []
  },
  {
   "cell_type": "code",
   "execution_count": null,
   "id": "3f8e363c",
   "metadata": {},
   "outputs": [],
   "source": []
  },
  {
   "cell_type": "code",
   "execution_count": null,
   "id": "c6e523f6",
   "metadata": {},
   "outputs": [],
   "source": []
  },
  {
   "cell_type": "code",
   "execution_count": null,
   "id": "87e772f1",
   "metadata": {},
   "outputs": [],
   "source": []
  },
  {
   "cell_type": "code",
   "execution_count": null,
   "id": "14eaa01b",
   "metadata": {},
   "outputs": [],
   "source": []
  },
  {
   "cell_type": "code",
   "execution_count": null,
   "id": "a138e0c6",
   "metadata": {},
   "outputs": [],
   "source": []
  },
  {
   "cell_type": "code",
   "execution_count": null,
   "id": "a5238574",
   "metadata": {},
   "outputs": [],
   "source": [
    "#QUESTION 8"
   ]
  },
  {
   "cell_type": "code",
   "execution_count": 98,
   "id": "f8e2cc4b",
   "metadata": {},
   "outputs": [],
   "source": [
    "import selenium\n",
    "from selenium import webdriver\n",
    "import pandas as pd\n",
    "import warnings\n",
    "warnings.filterwarnings(\"ignore\")\n",
    "from selenium.webdriver.common.by import By\n",
    "from selenium.webdriver.common.keys import Keys"
   ]
  },
  {
   "cell_type": "code",
   "execution_count": 99,
   "id": "ab0c7002",
   "metadata": {},
   "outputs": [],
   "source": [
    "driver = webdriver.Chrome(r\"C:\\Users\\ANSH\\Downloads\\chromedriver.exe\")\n"
   ]
  },
  {
   "cell_type": "code",
   "execution_count": 100,
   "id": "432b2274",
   "metadata": {},
   "outputs": [],
   "source": [
    "url = 'https://www.amazon.in/'\n",
    "driver.get(url)"
   ]
  },
  {
   "cell_type": "code",
   "execution_count": 101,
   "id": "46512887",
   "metadata": {},
   "outputs": [],
   "source": [
    "search_bar = driver.find_element(By.XPATH, \"/html/body/div[1]/header/div/div[1]/div[2]/div/form/div[2]/div[1]/input\")"
   ]
  },
  {
   "cell_type": "code",
   "execution_count": 102,
   "id": "988c4e9c",
   "metadata": {},
   "outputs": [],
   "source": [
    "search_bar.send_keys(\"Laptop\")"
   ]
  },
  {
   "cell_type": "code",
   "execution_count": 103,
   "id": "1f4e3d6d",
   "metadata": {},
   "outputs": [],
   "source": [
    "search_btn = driver.find_element(By.XPATH, \"/html/body/div[1]/header/div/div[1]/div[2]/div/form/div[3]/div/span/input\")"
   ]
  },
  {
   "cell_type": "code",
   "execution_count": 104,
   "id": "49c6f512",
   "metadata": {},
   "outputs": [],
   "source": [
    "search_btn.click()"
   ]
  },
  {
   "cell_type": "code",
   "execution_count": 107,
   "id": "eee6285f",
   "metadata": {},
   "outputs": [],
   "source": [
    "core = driver.find_element(By.XPATH, \"/html/body/div[1]/div[2]/div[1]/div[2]/div/div[3]/span/div[1]/div/div/div[5]/ul[2]/li[11]/span/a/div/label/i\")"
   ]
  },
  {
   "cell_type": "code",
   "execution_count": 108,
   "id": "56b68739",
   "metadata": {},
   "outputs": [],
   "source": [
    "core.click()"
   ]
  },
  {
   "cell_type": "code",
   "execution_count": 109,
   "id": "0c9c1416",
   "metadata": {},
   "outputs": [],
   "source": [
    "item = driver.find_elements(By.XPATH, \"//span[@class = 'a-size-medium a-color-base a-text-normal']\")"
   ]
  },
  {
   "cell_type": "code",
   "execution_count": 110,
   "id": "ac8f3492",
   "metadata": {},
   "outputs": [
    {
     "data": {
      "text/plain": [
       "30"
      ]
     },
     "execution_count": 110,
     "metadata": {},
     "output_type": "execute_result"
    }
   ],
   "source": [
    "len(item)"
   ]
  },
  {
   "cell_type": "code",
   "execution_count": 111,
   "id": "667f7108",
   "metadata": {},
   "outputs": [
    {
     "data": {
      "text/plain": [
       "10"
      ]
     },
     "execution_count": 111,
     "metadata": {},
     "output_type": "execute_result"
    }
   ],
   "source": [
    "items = []\n",
    "for i in item[:10]:\n",
    "    items.append(i.text)\n",
    "len(items)"
   ]
  },
  {
   "cell_type": "code",
   "execution_count": 75,
   "id": "0054ef6d",
   "metadata": {},
   "outputs": [
    {
     "data": {
      "text/plain": [
       "['Lenovo IdeaPad Slim 5 Pro Intel Core i7 11th Gen 14\" (35.56cm) 2.2K IPS Thin & Light Laptop (16GB/512GB SSD/Win11/Office 2021/Backlit/3Yr Warranty/3months Game Pass/Storm Grey/1.38Kg), 82L3006YIN',\n",
       " 'Acer Nitro 5 Core i7 11th Gen 15.6\" (39.62cms) Full HD IPS Gaming Laptop (16 GB/256GB SSD/1 TB HDD/Win 11/4 GB Graphics/NVIDIA GeForce RTX 3050 Ti/144 Hz, Black, 2.4 kg) AN515-57',\n",
       " 'ASUS TUF Gaming F15 (2021), 15.6\" (39.62 cms) FHD 144Hz, Intel Core i7-11600H 11th Gen, 4GB RTX 3050 Graphics, Gaming Laptop (16GB/512GB SSD/Windows 10/Office 2019/Gray/2.3 Kg), FX566HCB-HN299TS',\n",
       " 'ASUS Vivobook 15, 15.6-inch (39.62 cms) FHD, Intel Core i7-1065G7 10th Gen, Thin and Light Laptop (16GB/512GB SSD/Iris Plus Graphics/Windows 11/Office 2021/Silver/1.8 kg), X515JA-EJ701WS',\n",
       " 'Samsung Galaxy Book2 Intel 12th Gen core i7 39.6cm (15.6\") FHD LED Thin & Light Laptop (16 GB/512 GB SSD/Windows 11/MS Office/Backlit Keyboard/Fingerprint Reader/Silver/1.55Kg), NP750XED-KC2IN',\n",
       " 'Lenovo IdeaPad Slim 5 Pro Intel Core i7 11th Gen 14\" (35.56cm) 2.2K IPS Thin & Light Laptop (16GB/512GB SSD/Win11/Office 2021/Backlit/3Yr Warranty/3months Game Pass/Storm Grey/1.38Kg), 82L3006YIN',\n",
       " 'Hp Pavilion X360 11Th Gen Intel Core I7 14 Inches Fhd Multitouch 2In1 Laptop (16Gb Ram/512Gb Ssd/B&O/Windows 11 Home/Fpr/Backlit Kb/Intel Iris Xe Graphics/Pen/Alexa/Ms Office/Silver/1.52Kg)14-Dy1047Tu',\n",
       " 'Hp Pavilion 15 12Th Gen Intel Core I7 16Gb Sdram/1Tb Ssd 15.6 Inches (39.6Cm) Fhd,IPS/Intel Iris Xe Graphics/B&O/Windows 11 Home/Alexa/Backlit Kb/Fpr/Mso 2021/1.75Kg, 15-Eg2039Tu, Natural Silver',\n",
       " '(Renewed) Dell Latitude E7470 Intel Core i7 6th Gen 14 inches Laptop /16 GB RAM/512 GB SSD/Windows 10 Pro/MS Office/HD Display/Integrated Graphics, 1.9 kg',\n",
       " 'HP Pavilion 14 12th Gen Intel Core i7 16GB SDRAM/1TB SSD 14 inch(35.6cm) FHD,IPS,Micro-Edge Display/Intel UHD Graphics/B&O/Win 11/Alexa Built-in/Backlit KB/FPR/MSO 2021/Natural Silver, 14-dv2015TU']"
      ]
     },
     "execution_count": 75,
     "metadata": {},
     "output_type": "execute_result"
    }
   ],
   "source": [
    "items"
   ]
  },
  {
   "cell_type": "code",
   "execution_count": 76,
   "id": "37d90369",
   "metadata": {},
   "outputs": [],
   "source": [
    "price = driver.find_elements(By.XPATH, \"//span[@class = 'a-price-whole']\")"
   ]
  },
  {
   "cell_type": "code",
   "execution_count": 77,
   "id": "634bc3d4",
   "metadata": {},
   "outputs": [
    {
     "data": {
      "text/plain": [
       "30"
      ]
     },
     "execution_count": 77,
     "metadata": {},
     "output_type": "execute_result"
    }
   ],
   "source": [
    "len(price)"
   ]
  },
  {
   "cell_type": "code",
   "execution_count": 78,
   "id": "6527a98b",
   "metadata": {},
   "outputs": [
    {
     "data": {
      "text/plain": [
       "10"
      ]
     },
     "execution_count": 78,
     "metadata": {},
     "output_type": "execute_result"
    }
   ],
   "source": [
    "prices = []\n",
    "\n",
    "for p in price[:10]:\n",
    "    prices.append(p.text)\n",
    "len(prices)"
   ]
  },
  {
   "cell_type": "code",
   "execution_count": 79,
   "id": "6aa03a6e",
   "metadata": {},
   "outputs": [
    {
     "data": {
      "text/plain": [
       "['75,990',\n",
       " '99,990',\n",
       " '89,990',\n",
       " '57,890',\n",
       " '79,990',\n",
       " '75,990',\n",
       " '82,990',\n",
       " '87,900',\n",
       " '39,177',\n",
       " '86,990']"
      ]
     },
     "execution_count": 79,
     "metadata": {},
     "output_type": "execute_result"
    }
   ],
   "source": [
    "prices"
   ]
  },
  {
   "cell_type": "code",
   "execution_count": 112,
   "id": "44c12007",
   "metadata": {},
   "outputs": [],
   "source": [
    "urls=driver.find_elements(By.XPATH, '//a[@class=\"a-link-normal s-underline-text s-underline-link-text s-link-style a-text-normal\"]')"
   ]
  },
  {
   "cell_type": "code",
   "execution_count": 113,
   "id": "780daa5c",
   "metadata": {},
   "outputs": [
    {
     "ename": "WebDriverException",
     "evalue": "Message: unknown error: cannot determine loading status\nfrom unknown error: unexpected command response\n  (Session info: chrome=103.0.5060.114)\nStacktrace:\nBacktrace:\n\tOrdinal0 [0x00A06463+2188387]\n\tOrdinal0 [0x0099E461+1762401]\n\tOrdinal0 [0x008B3D78+802168]\n\tOrdinal0 [0x008A7210+750096]\n\tOrdinal0 [0x008A675A+747354]\n\tOrdinal0 [0x008A5D3F+744767]\n\tOrdinal0 [0x008A4C28+740392]\n\tOrdinal0 [0x008A5228+741928]\n\tOrdinal0 [0x008AEF2F+782127]\n\tOrdinal0 [0x008B9FBB+827323]\n\tOrdinal0 [0x008BD310+840464]\n\tOrdinal0 [0x008A54F6+742646]\n\tOrdinal0 [0x008B9BF3+826355]\n\tOrdinal0 [0x0090CF6D+1167213]\n\tOrdinal0 [0x008FC5F6+1099254]\n\tOrdinal0 [0x008D6BE0+945120]\n\tOrdinal0 [0x008D7AD6+948950]\n\tGetHandleVerifier [0x00CA71F2+2712546]\n\tGetHandleVerifier [0x00C9886D+2652765]\n\tGetHandleVerifier [0x00A9002A+520730]\n\tGetHandleVerifier [0x00A8EE06+516086]\n\tOrdinal0 [0x009A468B+1787531]\n\tOrdinal0 [0x009A8E88+1805960]\n\tOrdinal0 [0x009A8F75+1806197]\n\tOrdinal0 [0x009B1DF1+1842673]\n\tBaseThreadInitThunk [0x7649FA29+25]\n\tRtlGetAppContainerNamedObjectPath [0x771E7A9E+286]\n\tRtlGetAppContainerNamedObjectPath [0x771E7A6E+238]\n",
     "output_type": "error",
     "traceback": [
      "\u001b[1;31m---------------------------------------------------------------------------\u001b[0m",
      "\u001b[1;31mWebDriverException\u001b[0m                        Traceback (most recent call last)",
      "Input \u001b[1;32mIn [113]\u001b[0m, in \u001b[0;36m<cell line: 4>\u001b[1;34m()\u001b[0m\n\u001b[0;32m      3\u001b[0m     UR\u001b[38;5;241m.\u001b[39mappend(i\u001b[38;5;241m.\u001b[39mget_attribute(\u001b[38;5;124m'\u001b[39m\u001b[38;5;124mhref\u001b[39m\u001b[38;5;124m'\u001b[39m))\n\u001b[0;32m      4\u001b[0m \u001b[38;5;28;01mfor\u001b[39;00m url \u001b[38;5;129;01min\u001b[39;00m UR:\n\u001b[1;32m----> 5\u001b[0m     \u001b[43mdriver\u001b[49m\u001b[38;5;241;43m.\u001b[39;49m\u001b[43mget\u001b[49m\u001b[43m(\u001b[49m\u001b[43murl\u001b[49m\u001b[43m)\u001b[49m\n",
      "File \u001b[1;32m~\\anaconda3\\lib\\site-packages\\selenium\\webdriver\\remote\\webdriver.py:447\u001b[0m, in \u001b[0;36mWebDriver.get\u001b[1;34m(self, url)\u001b[0m\n\u001b[0;32m    443\u001b[0m \u001b[38;5;28;01mdef\u001b[39;00m \u001b[38;5;21mget\u001b[39m(\u001b[38;5;28mself\u001b[39m, url: \u001b[38;5;28mstr\u001b[39m) \u001b[38;5;241m-\u001b[39m\u001b[38;5;241m>\u001b[39m \u001b[38;5;28;01mNone\u001b[39;00m:\n\u001b[0;32m    444\u001b[0m     \u001b[38;5;124;03m\"\"\"\u001b[39;00m\n\u001b[0;32m    445\u001b[0m \u001b[38;5;124;03m    Loads a web page in the current browser session.\u001b[39;00m\n\u001b[0;32m    446\u001b[0m \u001b[38;5;124;03m    \"\"\"\u001b[39;00m\n\u001b[1;32m--> 447\u001b[0m     \u001b[38;5;28;43mself\u001b[39;49m\u001b[38;5;241;43m.\u001b[39;49m\u001b[43mexecute\u001b[49m\u001b[43m(\u001b[49m\u001b[43mCommand\u001b[49m\u001b[38;5;241;43m.\u001b[39;49m\u001b[43mGET\u001b[49m\u001b[43m,\u001b[49m\u001b[43m \u001b[49m\u001b[43m{\u001b[49m\u001b[38;5;124;43m'\u001b[39;49m\u001b[38;5;124;43murl\u001b[39;49m\u001b[38;5;124;43m'\u001b[39;49m\u001b[43m:\u001b[49m\u001b[43m \u001b[49m\u001b[43murl\u001b[49m\u001b[43m}\u001b[49m\u001b[43m)\u001b[49m\n",
      "File \u001b[1;32m~\\anaconda3\\lib\\site-packages\\selenium\\webdriver\\remote\\webdriver.py:435\u001b[0m, in \u001b[0;36mWebDriver.execute\u001b[1;34m(self, driver_command, params)\u001b[0m\n\u001b[0;32m    433\u001b[0m response \u001b[38;5;241m=\u001b[39m \u001b[38;5;28mself\u001b[39m\u001b[38;5;241m.\u001b[39mcommand_executor\u001b[38;5;241m.\u001b[39mexecute(driver_command, params)\n\u001b[0;32m    434\u001b[0m \u001b[38;5;28;01mif\u001b[39;00m response:\n\u001b[1;32m--> 435\u001b[0m     \u001b[38;5;28;43mself\u001b[39;49m\u001b[38;5;241;43m.\u001b[39;49m\u001b[43merror_handler\u001b[49m\u001b[38;5;241;43m.\u001b[39;49m\u001b[43mcheck_response\u001b[49m\u001b[43m(\u001b[49m\u001b[43mresponse\u001b[49m\u001b[43m)\u001b[49m\n\u001b[0;32m    436\u001b[0m     response[\u001b[38;5;124m'\u001b[39m\u001b[38;5;124mvalue\u001b[39m\u001b[38;5;124m'\u001b[39m] \u001b[38;5;241m=\u001b[39m \u001b[38;5;28mself\u001b[39m\u001b[38;5;241m.\u001b[39m_unwrap_value(\n\u001b[0;32m    437\u001b[0m         response\u001b[38;5;241m.\u001b[39mget(\u001b[38;5;124m'\u001b[39m\u001b[38;5;124mvalue\u001b[39m\u001b[38;5;124m'\u001b[39m, \u001b[38;5;28;01mNone\u001b[39;00m))\n\u001b[0;32m    438\u001b[0m     \u001b[38;5;28;01mreturn\u001b[39;00m response\n",
      "File \u001b[1;32m~\\anaconda3\\lib\\site-packages\\selenium\\webdriver\\remote\\errorhandler.py:247\u001b[0m, in \u001b[0;36mErrorHandler.check_response\u001b[1;34m(self, response)\u001b[0m\n\u001b[0;32m    245\u001b[0m         alert_text \u001b[38;5;241m=\u001b[39m value[\u001b[38;5;124m'\u001b[39m\u001b[38;5;124malert\u001b[39m\u001b[38;5;124m'\u001b[39m]\u001b[38;5;241m.\u001b[39mget(\u001b[38;5;124m'\u001b[39m\u001b[38;5;124mtext\u001b[39m\u001b[38;5;124m'\u001b[39m)\n\u001b[0;32m    246\u001b[0m     \u001b[38;5;28;01mraise\u001b[39;00m exception_class(message, screen, stacktrace, alert_text)  \u001b[38;5;66;03m# type: ignore[call-arg]  # mypy is not smart enough here\u001b[39;00m\n\u001b[1;32m--> 247\u001b[0m \u001b[38;5;28;01mraise\u001b[39;00m exception_class(message, screen, stacktrace)\n",
      "\u001b[1;31mWebDriverException\u001b[0m: Message: unknown error: cannot determine loading status\nfrom unknown error: unexpected command response\n  (Session info: chrome=103.0.5060.114)\nStacktrace:\nBacktrace:\n\tOrdinal0 [0x00A06463+2188387]\n\tOrdinal0 [0x0099E461+1762401]\n\tOrdinal0 [0x008B3D78+802168]\n\tOrdinal0 [0x008A7210+750096]\n\tOrdinal0 [0x008A675A+747354]\n\tOrdinal0 [0x008A5D3F+744767]\n\tOrdinal0 [0x008A4C28+740392]\n\tOrdinal0 [0x008A5228+741928]\n\tOrdinal0 [0x008AEF2F+782127]\n\tOrdinal0 [0x008B9FBB+827323]\n\tOrdinal0 [0x008BD310+840464]\n\tOrdinal0 [0x008A54F6+742646]\n\tOrdinal0 [0x008B9BF3+826355]\n\tOrdinal0 [0x0090CF6D+1167213]\n\tOrdinal0 [0x008FC5F6+1099254]\n\tOrdinal0 [0x008D6BE0+945120]\n\tOrdinal0 [0x008D7AD6+948950]\n\tGetHandleVerifier [0x00CA71F2+2712546]\n\tGetHandleVerifier [0x00C9886D+2652765]\n\tGetHandleVerifier [0x00A9002A+520730]\n\tGetHandleVerifier [0x00A8EE06+516086]\n\tOrdinal0 [0x009A468B+1787531]\n\tOrdinal0 [0x009A8E88+1805960]\n\tOrdinal0 [0x009A8F75+1806197]\n\tOrdinal0 [0x009B1DF1+1842673]\n\tBaseThreadInitThunk [0x7649FA29+25]\n\tRtlGetAppContainerNamedObjectPath [0x771E7A9E+286]\n\tRtlGetAppContainerNamedObjectPath [0x771E7A6E+238]\n"
     ]
    }
   ],
   "source": [
    "UR = []\n",
    "for i in urls:\n",
    "    UR.append(i.get_attribute('href'))\n",
    "for url in UR:\n",
    "    driver.get(url)"
   ]
  },
  {
   "cell_type": "code",
   "execution_count": null,
   "id": "803a5e14",
   "metadata": {},
   "outputs": [],
   "source": []
  },
  {
   "cell_type": "code",
   "execution_count": 114,
   "id": "aadff9cd",
   "metadata": {},
   "outputs": [],
   "source": [
    "rate = driver.find_elements(By.XPATH, \"//i[@class = 'a-icon a-icon-star a-star-4-5']\")"
   ]
  },
  {
   "cell_type": "code",
   "execution_count": 115,
   "id": "65d7cbcc",
   "metadata": {},
   "outputs": [
    {
     "data": {
      "text/plain": [
       "5"
      ]
     },
     "execution_count": 115,
     "metadata": {},
     "output_type": "execute_result"
    }
   ],
   "source": [
    "len(rate)"
   ]
  },
  {
   "cell_type": "code",
   "execution_count": 116,
   "id": "373dbf97",
   "metadata": {},
   "outputs": [
    {
     "data": {
      "text/plain": [
       "['', '', '', '', '']"
      ]
     },
     "execution_count": 116,
     "metadata": {},
     "output_type": "execute_result"
    }
   ],
   "source": [
    "rating = []\n",
    "for r in rate:\n",
    "    rating.append(r.text)\n",
    "rating"
   ]
  },
  {
   "cell_type": "code",
   "execution_count": null,
   "id": "087ea5b8",
   "metadata": {},
   "outputs": [],
   "source": []
  },
  {
   "cell_type": "code",
   "execution_count": null,
   "id": "782be11e",
   "metadata": {},
   "outputs": [],
   "source": [
    "#QUESTION NO 9\n"
   ]
  },
  {
   "cell_type": "code",
   "execution_count": 62,
   "id": "f09b76ee",
   "metadata": {},
   "outputs": [],
   "source": [
    "import selenium\n",
    "from selenium import webdriver\n",
    "import pandas as pd\n",
    "import warnings\n",
    "warnings.filterwarnings(\"ignore\")\n",
    "from selenium.webdriver.common.by import By\n",
    "from selenium.webdriver.common.keys import Keys"
   ]
  },
  {
   "cell_type": "code",
   "execution_count": 63,
   "id": "b3bbe3e1",
   "metadata": {},
   "outputs": [],
   "source": [
    "driver = webdriver.Chrome(r\"C:\\Users\\ANSH\\Downloads\\chromedriver.exe\")"
   ]
  },
  {
   "cell_type": "code",
   "execution_count": 85,
   "id": "a42de3ce",
   "metadata": {},
   "outputs": [],
   "source": [
    "url = 'https://www.ambitionbox.com/'\n",
    "driver.get(url)"
   ]
  },
  {
   "cell_type": "code",
   "execution_count": 86,
   "id": "0485e597",
   "metadata": {},
   "outputs": [],
   "source": [
    "job_btn = driver.find_element(By.XPATH, \"//a[@class = 'link jobs']\")"
   ]
  },
  {
   "cell_type": "code",
   "execution_count": 87,
   "id": "097a4bc2",
   "metadata": {},
   "outputs": [],
   "source": [
    "job_btn.click()"
   ]
  },
  {
   "cell_type": "code",
   "execution_count": 88,
   "id": "2d29939c",
   "metadata": {},
   "outputs": [],
   "source": [
    "search_bar = driver.find_element(By.XPATH, \"/html/body/div/div/div/div[2]/div[1]/div[1]/div/div/div/div/span/input\")"
   ]
  },
  {
   "cell_type": "code",
   "execution_count": 89,
   "id": "c2fecf09",
   "metadata": {},
   "outputs": [],
   "source": [
    "search_bar.send_keys('Data Scientist')"
   ]
  },
  {
   "cell_type": "code",
   "execution_count": 90,
   "id": "3b7c1ddb",
   "metadata": {},
   "outputs": [],
   "source": [
    "search_btn = driver.find_element(By.XPATH, \"/html/body/div/div/div/div[2]/div[1]/div[1]/div/div/div/button/span\")"
   ]
  },
  {
   "cell_type": "code",
   "execution_count": 91,
   "id": "10ebfcd8",
   "metadata": {},
   "outputs": [],
   "source": [
    "search_btn.click()"
   ]
  },
  {
   "cell_type": "code",
   "execution_count": 92,
   "id": "5f9bfbd8",
   "metadata": {},
   "outputs": [],
   "source": [
    "location = driver.find_element(By.XPATH, \"/html/body/div/div/div/div[2]/div[1]/div[2]/div[1]/div/div/div/div[2]/div[2]/div/div[3]/div[1]/div[5]/div/label\")"
   ]
  },
  {
   "cell_type": "code",
   "execution_count": 95,
   "id": "f861980c",
   "metadata": {},
   "outputs": [],
   "source": [
    "des_name = driver.find_elements(By.XPATH, \"//a[@class = 'title noclick']\")"
   ]
  },
  {
   "cell_type": "code",
   "execution_count": 96,
   "id": "f119d2b6",
   "metadata": {},
   "outputs": [
    {
     "data": {
      "text/plain": [
       "10"
      ]
     },
     "execution_count": 96,
     "metadata": {},
     "output_type": "execute_result"
    }
   ],
   "source": [
    "len(des_name)"
   ]
  },
  {
   "cell_type": "code",
   "execution_count": 97,
   "id": "d2e35c2e",
   "metadata": {},
   "outputs": [
    {
     "data": {
      "text/plain": [
       "['Senior Data Scientist',\n",
       " 'Data Scientist- Forecasting and R or Python',\n",
       " 'Data Scientist - Machine Learning Algorithms (3-8 yrs)',\n",
       " 'Data Scientist - Machine Learning/Big Data (0-4 yrs)',\n",
       " 'Info Edge - Data Scientist - Machine Learning/NLP (0-2 yrs)',\n",
       " 'Info Edge - Senior Data Scientist - Machine Learning/Deep Learning (3-5 yrs)',\n",
       " 'LatentBridge - Data Scientist - Python/R (2-6 yrs)',\n",
       " 'Data Science Trainer | AI | Machine Learning | Python |',\n",
       " 'Principal Scientist - Machine Learning - IT (15-26 yrs)',\n",
       " 'Data Scientist - NLP']"
      ]
     },
     "execution_count": 97,
     "metadata": {},
     "output_type": "execute_result"
    }
   ],
   "source": [
    "designation = []\n",
    "for c in des_name:\n",
    "    designation.append(c.text)\n",
    "designation"
   ]
  },
  {
   "cell_type": "code",
   "execution_count": 98,
   "id": "a6dd114d",
   "metadata": {},
   "outputs": [],
   "source": [
    "comp_name = driver.find_elements(By.XPATH, \"//p[@class = 'company body-medium']\")"
   ]
  },
  {
   "cell_type": "code",
   "execution_count": 99,
   "id": "f5bff01d",
   "metadata": {},
   "outputs": [
    {
     "data": {
      "text/plain": [
       "10"
      ]
     },
     "execution_count": 99,
     "metadata": {},
     "output_type": "execute_result"
    }
   ],
   "source": [
    "len(comp_name)"
   ]
  },
  {
   "cell_type": "code",
   "execution_count": 100,
   "id": "da65cbe9",
   "metadata": {},
   "outputs": [
    {
     "data": {
      "text/plain": [
       "['Optum Global Solutions (India) Private Limited',\n",
       " 'GENPACT India Private Limited',\n",
       " 'Dew Solutions Pvt. Ltd.',\n",
       " 'InfoEdge India Ltd.',\n",
       " 'Info Edge India Limited',\n",
       " 'Info Edge India Limited',\n",
       " 'Latent bridge',\n",
       " 'Careerera',\n",
       " 'Careernet Consulting',\n",
       " 'Acidaes Solutions Pvt. Ltd.']"
      ]
     },
     "execution_count": 100,
     "metadata": {},
     "output_type": "execute_result"
    }
   ],
   "source": [
    "company = []\n",
    "for c in comp_name:\n",
    "    company.append(c.text)\n",
    "company"
   ]
  },
  {
   "cell_type": "code",
   "execution_count": 195,
   "id": "34fd1481",
   "metadata": {},
   "outputs": [],
   "source": [
    "exp = driver.find_elements(By.XPATH, \"//div[@class = 'job-basic-info show-flex']\")"
   ]
  },
  {
   "cell_type": "code",
   "execution_count": 196,
   "id": "31d8c434",
   "metadata": {},
   "outputs": [
    {
     "data": {
      "text/plain": [
       "11"
      ]
     },
     "execution_count": 196,
     "metadata": {},
     "output_type": "execute_result"
    }
   ],
   "source": [
    "len(exp)"
   ]
  },
  {
   "cell_type": "code",
   "execution_count": 197,
   "id": "3bfbe726",
   "metadata": {},
   "outputs": [],
   "source": [
    "experience = []\n",
    "for l in exp:\n",
    "    experience.append(l.text)\n",
    "exp=experience[1:11]"
   ]
  },
  {
   "cell_type": "code",
   "execution_count": 198,
   "id": "aab92b5e",
   "metadata": {},
   "outputs": [
    {
     "data": {
      "text/plain": [
       "['7-12 Yrs\\nNot Disclosed\\nNoida\\nr, python, data science +6 more',\n",
       " '7-12 Yrs\\n₹ 12-20 LPA\\nNoida\\nData Science, arima, predictive modeling +5 more',\n",
       " '3-8 Yrs\\nGurgaon/Gurugram, Bengaluru/Bangalore, Pune +2 more\\nData Scientist, Data Science, Machine Learning +5 more',\n",
       " '0-4 Yrs\\nNoida\\nData Science, Machine Learning, Deep Learning +5 more',\n",
       " '0-2 Yrs\\nNoida\\nData Scientist, Data Management, PhD +6 more',\n",
       " '3-5 Yrs\\nNoida\\nData Scientist, Data Management, PhD +5 more',\n",
       " '2-6 Yrs\\nGurgaon/Gurugram, Delhi NCR, Noida\\nData Science, Data Scientist, Data Management +5 more',\n",
       " '2-7 Yrs\\n₹ 4.75-9.75 LPA\\nNoida\\nData Science, data science faculty, Corporate Trainer +6 more',\n",
       " '15-26 Yrs\\nNoida\\nMachine Learning, Data Science, Data Scientist +4 more',\n",
       " '3-8 Yrs\\nNot Disclosed\\nNoida\\nBayesian Networks, deep learning, MLops +5 more']"
      ]
     },
     "execution_count": 198,
     "metadata": {},
     "output_type": "execute_result"
    }
   ],
   "source": [
    "exp"
   ]
  },
  {
   "cell_type": "code",
   "execution_count": 199,
   "id": "7c0b7554",
   "metadata": {},
   "outputs": [],
   "source": [
    "experience_required = [i.split('\\n', 1)[0] for i in exp]"
   ]
  },
  {
   "cell_type": "code",
   "execution_count": 200,
   "id": "37b69820",
   "metadata": {},
   "outputs": [
    {
     "data": {
      "text/plain": [
       "['7-12 Yrs',\n",
       " '7-12 Yrs',\n",
       " '3-8 Yrs',\n",
       " '0-4 Yrs',\n",
       " '0-2 Yrs',\n",
       " '3-5 Yrs',\n",
       " '2-6 Yrs',\n",
       " '2-7 Yrs',\n",
       " '15-26 Yrs',\n",
       " '3-8 Yrs']"
      ]
     },
     "execution_count": 200,
     "metadata": {},
     "output_type": "execute_result"
    }
   ],
   "source": [
    "experience_required"
   ]
  },
  {
   "cell_type": "code",
   "execution_count": 193,
   "id": "256557ce",
   "metadata": {},
   "outputs": [],
   "source": [
    "top_10_laptops = pd.DataFrame({'DESIGNATION': designation, 'COMPANY NAME':comp_name, 'EXPERIENCE':experience_required})"
   ]
  },
  {
   "cell_type": "code",
   "execution_count": 201,
   "id": "1883248b",
   "metadata": {},
   "outputs": [
    {
     "data": {
      "text/html": [
       "<div>\n",
       "<style scoped>\n",
       "    .dataframe tbody tr th:only-of-type {\n",
       "        vertical-align: middle;\n",
       "    }\n",
       "\n",
       "    .dataframe tbody tr th {\n",
       "        vertical-align: top;\n",
       "    }\n",
       "\n",
       "    .dataframe thead th {\n",
       "        text-align: right;\n",
       "    }\n",
       "</style>\n",
       "<table border=\"1\" class=\"dataframe\">\n",
       "  <thead>\n",
       "    <tr style=\"text-align: right;\">\n",
       "      <th></th>\n",
       "      <th>DESIGNATION</th>\n",
       "      <th>COMPANY NAME</th>\n",
       "      <th>EXPERIENCE</th>\n",
       "    </tr>\n",
       "  </thead>\n",
       "  <tbody>\n",
       "    <tr>\n",
       "      <th>0</th>\n",
       "      <td>Senior Data Scientist</td>\n",
       "      <td>&lt;selenium.webdriver.remote.webelement.WebEleme...</td>\n",
       "      <td>7-12 Yrs</td>\n",
       "    </tr>\n",
       "    <tr>\n",
       "      <th>1</th>\n",
       "      <td>Data Scientist- Forecasting and R or Python</td>\n",
       "      <td>&lt;selenium.webdriver.remote.webelement.WebEleme...</td>\n",
       "      <td>7-12 Yrs</td>\n",
       "    </tr>\n",
       "    <tr>\n",
       "      <th>2</th>\n",
       "      <td>Data Scientist - Machine Learning Algorithms (...</td>\n",
       "      <td>&lt;selenium.webdriver.remote.webelement.WebEleme...</td>\n",
       "      <td>3-8 Yrs</td>\n",
       "    </tr>\n",
       "    <tr>\n",
       "      <th>3</th>\n",
       "      <td>Data Scientist - Machine Learning/Big Data (0-...</td>\n",
       "      <td>&lt;selenium.webdriver.remote.webelement.WebEleme...</td>\n",
       "      <td>0-4 Yrs</td>\n",
       "    </tr>\n",
       "    <tr>\n",
       "      <th>4</th>\n",
       "      <td>Info Edge - Data Scientist - Machine Learning/...</td>\n",
       "      <td>&lt;selenium.webdriver.remote.webelement.WebEleme...</td>\n",
       "      <td>0-2 Yrs</td>\n",
       "    </tr>\n",
       "    <tr>\n",
       "      <th>5</th>\n",
       "      <td>Info Edge - Senior Data Scientist - Machine Le...</td>\n",
       "      <td>&lt;selenium.webdriver.remote.webelement.WebEleme...</td>\n",
       "      <td>3-5 Yrs</td>\n",
       "    </tr>\n",
       "    <tr>\n",
       "      <th>6</th>\n",
       "      <td>LatentBridge - Data Scientist - Python/R (2-6 ...</td>\n",
       "      <td>&lt;selenium.webdriver.remote.webelement.WebEleme...</td>\n",
       "      <td>2-6 Yrs</td>\n",
       "    </tr>\n",
       "    <tr>\n",
       "      <th>7</th>\n",
       "      <td>Data Science Trainer | AI | Machine Learning |...</td>\n",
       "      <td>&lt;selenium.webdriver.remote.webelement.WebEleme...</td>\n",
       "      <td>2-7 Yrs</td>\n",
       "    </tr>\n",
       "    <tr>\n",
       "      <th>8</th>\n",
       "      <td>Principal Scientist - Machine Learning - IT (1...</td>\n",
       "      <td>&lt;selenium.webdriver.remote.webelement.WebEleme...</td>\n",
       "      <td>15-26 Yrs</td>\n",
       "    </tr>\n",
       "    <tr>\n",
       "      <th>9</th>\n",
       "      <td>Data Scientist - NLP</td>\n",
       "      <td>&lt;selenium.webdriver.remote.webelement.WebEleme...</td>\n",
       "      <td>3-8 Yrs</td>\n",
       "    </tr>\n",
       "  </tbody>\n",
       "</table>\n",
       "</div>"
      ],
      "text/plain": [
       "                                         DESIGNATION  \\\n",
       "0                              Senior Data Scientist   \n",
       "1        Data Scientist- Forecasting and R or Python   \n",
       "2  Data Scientist - Machine Learning Algorithms (...   \n",
       "3  Data Scientist - Machine Learning/Big Data (0-...   \n",
       "4  Info Edge - Data Scientist - Machine Learning/...   \n",
       "5  Info Edge - Senior Data Scientist - Machine Le...   \n",
       "6  LatentBridge - Data Scientist - Python/R (2-6 ...   \n",
       "7  Data Science Trainer | AI | Machine Learning |...   \n",
       "8  Principal Scientist - Machine Learning - IT (1...   \n",
       "9                               Data Scientist - NLP   \n",
       "\n",
       "                                        COMPANY NAME EXPERIENCE  \n",
       "0  <selenium.webdriver.remote.webelement.WebEleme...   7-12 Yrs  \n",
       "1  <selenium.webdriver.remote.webelement.WebEleme...   7-12 Yrs  \n",
       "2  <selenium.webdriver.remote.webelement.WebEleme...    3-8 Yrs  \n",
       "3  <selenium.webdriver.remote.webelement.WebEleme...    0-4 Yrs  \n",
       "4  <selenium.webdriver.remote.webelement.WebEleme...    0-2 Yrs  \n",
       "5  <selenium.webdriver.remote.webelement.WebEleme...    3-5 Yrs  \n",
       "6  <selenium.webdriver.remote.webelement.WebEleme...    2-6 Yrs  \n",
       "7  <selenium.webdriver.remote.webelement.WebEleme...    2-7 Yrs  \n",
       "8  <selenium.webdriver.remote.webelement.WebEleme...  15-26 Yrs  \n",
       "9  <selenium.webdriver.remote.webelement.WebEleme...    3-8 Yrs  "
      ]
     },
     "execution_count": 201,
     "metadata": {},
     "output_type": "execute_result"
    }
   ],
   "source": [
    "top_10_laptops"
   ]
  },
  {
   "cell_type": "code",
   "execution_count": null,
   "id": "0c75f417",
   "metadata": {},
   "outputs": [],
   "source": []
  },
  {
   "cell_type": "code",
   "execution_count": null,
   "id": "123aef4c",
   "metadata": {},
   "outputs": [],
   "source": []
  },
  {
   "cell_type": "code",
   "execution_count": null,
   "id": "ca1b91f3",
   "metadata": {},
   "outputs": [],
   "source": []
  },
  {
   "cell_type": "code",
   "execution_count": null,
   "id": "3dfbd309",
   "metadata": {},
   "outputs": [],
   "source": []
  },
  {
   "cell_type": "code",
   "execution_count": null,
   "id": "6f08a968",
   "metadata": {},
   "outputs": [],
   "source": []
  },
  {
   "cell_type": "code",
   "execution_count": 1,
   "id": "5026b868",
   "metadata": {},
   "outputs": [],
   "source": [
    "import selenium\n",
    "from selenium import webdriver\n",
    "import pandas as pd\n",
    "import warnings\n",
    "warnings.filterwarnings(\"ignore\")\n",
    "from selenium.webdriver.common.by import By\n",
    "from selenium.webdriver.common.keys import Keys"
   ]
  },
  {
   "cell_type": "code",
   "execution_count": 10,
   "id": "acf6967b",
   "metadata": {},
   "outputs": [],
   "source": [
    "driver = webdriver.Chrome(r\"C:\\Users\\ANSH\\Downloads\\chromedriver.exe\")"
   ]
  },
  {
   "cell_type": "code",
   "execution_count": 11,
   "id": "9302823f",
   "metadata": {},
   "outputs": [],
   "source": [
    "url = 'https://www.flipkart.com/'\n",
    "driver.get(url)"
   ]
  },
  {
   "cell_type": "code",
   "execution_count": 12,
   "id": "24be5cac",
   "metadata": {},
   "outputs": [],
   "source": [
    "search_bar = driver.find_element(By.XPATH, \"/html/body/div[1]/div/div[1]/div[1]/div[2]/div[2]/form/div/div/input\")"
   ]
  },
  {
   "cell_type": "code",
   "execution_count": 13,
   "id": "7b2d53ba",
   "metadata": {},
   "outputs": [],
   "source": [
    "search_bar.send_keys('i phone11')"
   ]
  },
  {
   "cell_type": "code",
   "execution_count": 21,
   "id": "556a1535",
   "metadata": {},
   "outputs": [],
   "source": [
    "submit_btn = driver.find_element(By.XPATH, \"/html/body/div[1]/div/div[1]/div[1]/div[2]/div[2]/form/div/button\")"
   ]
  },
  {
   "cell_type": "code",
   "execution_count": 22,
   "id": "9f665462",
   "metadata": {},
   "outputs": [],
   "source": [
    "submit_btn.click()"
   ]
  },
  {
   "cell_type": "code",
   "execution_count": 23,
   "id": "673673d2",
   "metadata": {},
   "outputs": [],
   "source": [
    "p_click = driver.find_element(By.XPATH, \"//div[@class = '_4rR01T']\")"
   ]
  },
  {
   "cell_type": "code",
   "execution_count": 24,
   "id": "9bc5b4c3",
   "metadata": {},
   "outputs": [],
   "source": [
    "p_click.click()"
   ]
  },
  {
   "cell_type": "code",
   "execution_count": 45,
   "id": "8ff21360",
   "metadata": {},
   "outputs": [],
   "source": [
    "review_details = driver.find_elements(By.CLASS_NAME, \"_2-t-ZTKy\")"
   ]
  },
  {
   "cell_type": "code",
   "execution_count": 46,
   "id": "e41c3b4f",
   "metadata": {},
   "outputs": [
    {
     "data": {
      "text/plain": [
       "0"
      ]
     },
     "execution_count": 46,
     "metadata": {},
     "output_type": "execute_result"
    }
   ],
   "source": [
    "len(review_details)"
   ]
  },
  {
   "cell_type": "code",
   "execution_count": 40,
   "id": "47f00b63",
   "metadata": {},
   "outputs": [],
   "source": [
    "review_title2 = driver.find_elements(By.XPATH, \"//p[@class = '_2-N8zT']\")"
   ]
  },
  {
   "cell_type": "code",
   "execution_count": 42,
   "id": "6afccb29",
   "metadata": {},
   "outputs": [
    {
     "data": {
      "text/plain": [
       "0"
      ]
     },
     "execution_count": 42,
     "metadata": {},
     "output_type": "execute_result"
    }
   ],
   "source": [
    "len(review_title2)"
   ]
  },
  {
   "cell_type": "code",
   "execution_count": 43,
   "id": "5413aac2",
   "metadata": {},
   "outputs": [],
   "source": [
    "review_title3 = driver.find_elements(By.XPATH, \"/html/body/div[1]/div/div[3]/div[1]/div[2]/div[9]/div[6]/div/div[4]/div[1]/div/div/div[1]/p\")"
   ]
  },
  {
   "cell_type": "code",
   "execution_count": 44,
   "id": "338e7c1d",
   "metadata": {},
   "outputs": [
    {
     "data": {
      "text/plain": [
       "0"
      ]
     },
     "execution_count": 44,
     "metadata": {},
     "output_type": "execute_result"
    }
   ],
   "source": [
    "len(review_title3)"
   ]
  },
  {
   "cell_type": "code",
   "execution_count": null,
   "id": "2f2a1cda",
   "metadata": {},
   "outputs": [],
   "source": []
  }
 ],
 "metadata": {
  "kernelspec": {
   "display_name": "Python 3 (ipykernel)",
   "language": "python",
   "name": "python3"
  },
  "language_info": {
   "codemirror_mode": {
    "name": "ipython",
    "version": 3
   },
   "file_extension": ".py",
   "mimetype": "text/x-python",
   "name": "python",
   "nbconvert_exporter": "python",
   "pygments_lexer": "ipython3",
   "version": "3.9.12"
  }
 },
 "nbformat": 4,
 "nbformat_minor": 5
}
